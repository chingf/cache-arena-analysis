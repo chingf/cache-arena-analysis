{
 "cells": [
  {
   "cell_type": "code",
   "execution_count": 1,
   "metadata": {},
   "outputs": [],
   "source": [
    "import pickle\n",
    "import numpy as np\n",
    "import pandas as pd\n",
    "import matplotlib.pyplot as plt\n",
    "import matplotlib.cm as cm\n",
    "import seaborn as sns\n",
    "import h5py\n",
    "from math import pi\n",
    "\n",
    "from analysis.config import birds, h5_path_dict, pickle_dir\n",
    "from analysis.ExpData import ExpData\n",
    "from analysis.utils import popln_overlap, get_fr"
   ]
  },
  {
   "cell_type": "code",
   "execution_count": 2,
   "metadata": {},
   "outputs": [],
   "source": [
    "with open(pickle_dir / 'population_patterns_checks.p', 'rb') as f: \n",
    "    population_patterns = pickle.load(f)"
   ]
  },
  {
   "cell_type": "code",
   "execution_count": 3,
   "metadata": {
    "code_folding": [
     0
    ]
   },
   "outputs": [],
   "source": [
    "def plot_overlaps(all_overlaps, title):\n",
    "    plt.figure()\n",
    "    plt.hist(all_overlaps, bins=20, alpha=0.4, weights=np.ones(len(all_overlaps)) / len(all_overlaps))\n",
    "    plt.title(title, fontsize=14)\n",
    "    plt.ylabel(\"Proportion of Hops\", fontsize=12)\n",
    "    plt.xlabel(\"Population Overlap\", fontsize=12)\n",
    "    plt.xlim((0, 1))\n",
    "    plt.ylim((0, 0.6))\n",
    "    plt.show()\n",
    "    print(len(all_overlaps))"
   ]
  },
  {
   "cell_type": "markdown",
   "metadata": {},
   "source": [
    "# Activity Overlap Between Caching and Checks of Occupied Cache"
   ]
  },
  {
   "cell_type": "code",
   "execution_count": 4,
   "metadata": {
    "code_folding": [
     1
    ]
   },
   "outputs": [
    {
     "name": "stderr",
     "output_type": "stream",
     "text": [
      "/home/chingf/Code/cache-arena-analysis/analysis/utils.py:49: RuntimeWarning: invalid value encountered in true_divide\n",
      "  dist = adotb/(asumsq + bsumsq - adotb)\n",
      "/home/chingf/anaconda3/envs/analysis-env/lib/python3.7/site-packages/ipykernel_launcher.py:24: RuntimeWarning: All-NaN slice encountered\n"
     ]
    },
    {
     "data": {
      "image/png": "[encoded data removed]",
      "text/plain": [
       "<Figure size 432x288 with 1 Axes>"
      ]
     },
     "metadata": {
      "needs_background": "light"
     },
     "output_type": "display_data"
    },
    {
     "name": "stdout",
     "output_type": "stream",
     "text": [
      "148\n"
     ]
    }
   ],
   "source": [
    "all_overlaps = []\n",
    "for fil_string in population_patterns.keys():\n",
    "    f = h5py.File(fil_string, 'r')\n",
    "    exp_data = ExpData(f)\n",
    "    c_hops = population_patterns[fil_string]['c_hops']\n",
    "    ch_hops = population_patterns[fil_string]['ch_hops']\n",
    "    noncrch_hops = population_patterns[fil_string]['noncrch_hops']\n",
    "    hop_patterns = population_patterns[fil_string]['hop_patterns']\n",
    "    if ch_hops.size == 0: continue\n",
    "\n",
    "    for i, c_hop in enumerate(c_hops):\n",
    "        c_site = exp_data.event_sites[exp_data.cache_event][i]\n",
    "        cache_pattern_mat = hop_patterns[c_hop]\n",
    "        for j, ch_hop in enumerate(ch_hops):\n",
    "            ch_site = exp_data.event_sites[exp_data.check_event][j]\n",
    "            if ch_site != c_site: continue\n",
    "            if not exp_data.cache_present[ch_hop, c_site-1]: continue\n",
    "            check_pattern_mat = hop_patterns[ch_hop]\n",
    "            overlaps = []\n",
    "            for check_pattern in check_pattern_mat.T:\n",
    "                cache_check_overlap = popln_overlap(\n",
    "                    cache_pattern_mat, check_pattern\n",
    "                    )\n",
    "                max_val = np.nanmax(cache_check_overlap)\n",
    "                if not np.isnan(max_val):\n",
    "                    overlaps.append(np.nanmax(cache_check_overlap))\n",
    "            if len(overlaps) > 0:\n",
    "                all_overlaps.append(np.nanmax(overlaps))             \n",
    "        \n",
    "plot_overlaps(all_overlaps, \"Cache vs Check at Same, Occupied Site\")"
   ]
  },
  {
   "cell_type": "markdown",
   "metadata": {},
   "source": [
    "# Activity Overlap Between Caching and Checks of Unoccupied Cache"
   ]
  },
  {
   "cell_type": "code",
   "execution_count": 5,
   "metadata": {
    "code_folding": [
     1
    ]
   },
   "outputs": [
    {
     "name": "stderr",
     "output_type": "stream",
     "text": [
      "/home/chingf/anaconda3/envs/analysis-env/lib/python3.7/site-packages/ipykernel_launcher.py:25: RuntimeWarning: All-NaN slice encountered\n"
     ]
    },
    {
     "data": {
      "image/png": "[encoded data removed]",
      "text/plain": [
       "<Figure size 432x288 with 1 Axes>"
      ]
     },
     "metadata": {
      "needs_background": "light"
     },
     "output_type": "display_data"
    },
    {
     "name": "stdout",
     "output_type": "stream",
     "text": [
      "1044\n"
     ]
    }
   ],
   "source": [
    "all_overlaps = []\n",
    "for fil_string in population_patterns.keys():\n",
    "    f = h5py.File(fil_string, 'r')\n",
    "    exp_data = ExpData(f)\n",
    "    c_hops = population_patterns[fil_string]['c_hops']\n",
    "    ch_hops = population_patterns[fil_string]['ch_hops']\n",
    "    noncrch_hops = population_patterns[fil_string]['noncrch_hops']\n",
    "    hop_patterns = population_patterns[fil_string]['hop_patterns']\n",
    "    if ch_hops.size == 0: continue\n",
    "\n",
    "    for i, c_hop in enumerate(c_hops):\n",
    "        c_site = exp_data.event_sites[exp_data.cache_event][i]\n",
    "        cache_pattern_mat = hop_patterns[c_hop]\n",
    "        assert(ch_hops.size == np.sum(exp_data.check_event))\n",
    "        for j, ch_hop in enumerate(ch_hops):\n",
    "            ch_site = exp_data.event_sites[exp_data.check_event][j]\n",
    "            if ch_site != c_site: continue\n",
    "            if exp_data.cache_present[ch_hop, c_site-1]: continue\n",
    "            check_pattern_mat = hop_patterns[ch_hop]\n",
    "            overlaps = []\n",
    "            for check_pattern in check_pattern_mat.T:\n",
    "                cache_check_overlap = popln_overlap(\n",
    "                    cache_pattern_mat, check_pattern\n",
    "                    )\n",
    "                max_val = np.nanmax(cache_check_overlap)\n",
    "                if not np.isnan(max_val):\n",
    "                    overlaps.append(np.nanmax(cache_check_overlap))\n",
    "            if len(overlaps) > 0:\n",
    "                all_overlaps.append(np.nanmax(overlaps))\n",
    "        \n",
    "plot_overlaps(all_overlaps, \"Cache vs Check at Same, Unoccupied Site\")"
   ]
  },
  {
   "cell_type": "markdown",
   "metadata": {},
   "source": [
    "# Activity Overlap Between Occupied vs Unoccupied Check"
   ]
  },
  {
   "cell_type": "code",
   "execution_count": 6,
   "metadata": {
    "code_folding": [
     1
    ]
   },
   "outputs": [
    {
     "data": {
      "image/png": "[encoded data removed]",
      "text/plain": [
       "<Figure size 432x288 with 1 Axes>"
      ]
     },
     "metadata": {
      "needs_background": "light"
     },
     "output_type": "display_data"
    },
    {
     "name": "stdout",
     "output_type": "stream",
     "text": [
      "605\n"
     ]
    }
   ],
   "source": [
    "all_overlaps = []\n",
    "for fil_string in population_patterns.keys():\n",
    "    f = h5py.File(fil_string, 'r')\n",
    "    exp_data = ExpData(f)\n",
    "    ch_hops = population_patterns[fil_string]['ch_hops']\n",
    "    hop_patterns = population_patterns[fil_string]['hop_patterns']\n",
    "    if ch_hops.size == 0: continue\n",
    "\n",
    "    for i, ch_hop in enumerate(ch_hops):\n",
    "        ch_site = exp_data.event_sites[exp_data.check_event][i]\n",
    "        if not exp_data.cache_present[ch_hop, ch_site-1]: continue\n",
    "        check_pattern_mat = hop_patterns[ch_hop]\n",
    "        for j, ch2_hop in enumerate(ch_hops):\n",
    "            if j <= i: continue\n",
    "            ch2_site = exp_data.event_sites[exp_data.check_event][j]\n",
    "            if ch_site != ch2_site: continue\n",
    "            if exp_data.cache_present[ch2_hop, ch2_site-1]: continue\n",
    "            check2_pattern_mat = hop_patterns[ch2_hop]\n",
    "            overlaps = []\n",
    "            for check2_pattern in check2_pattern_mat.T:\n",
    "                check_check2_overlap = popln_overlap(\n",
    "                    check_pattern_mat, check2_pattern\n",
    "                    )\n",
    "                max_val = np.nanmax(check_check2_overlap)\n",
    "                if not np.isnan(max_val):\n",
    "                    overlaps.append(np.nanmax(check_check2_overlap))\n",
    "            if len(overlaps) > 0:\n",
    "                all_overlaps.append(np.nanmax(overlaps))\n",
    "        \n",
    "plot_overlaps(all_overlaps, \"Occupied Check vs Unoccupied Check\")"
   ]
  },
  {
   "cell_type": "markdown",
   "metadata": {},
   "source": [
    "# Activity Overlap Between Occupied Checks and Arbitrary Hop"
   ]
  },
  {
   "cell_type": "code",
   "execution_count": 7,
   "metadata": {
    "code_folding": [
     1
    ]
   },
   "outputs": [
    {
     "name": "stderr",
     "output_type": "stream",
     "text": [
      "/home/chingf/anaconda3/envs/analysis-env/lib/python3.7/site-packages/ipykernel_launcher.py:19: RuntimeWarning: All-NaN slice encountered\n"
     ]
    },
    {
     "data": {
      "image/png": "[encoded data removed]",
      "text/plain": [
       "<Figure size 432x288 with 1 Axes>"
      ]
     },
     "metadata": {
      "needs_background": "light"
     },
     "output_type": "display_data"
    },
    {
     "name": "stdout",
     "output_type": "stream",
     "text": [
      "3358\n"
     ]
    }
   ],
   "source": [
    "all_overlaps = []\n",
    "for fil_string in population_patterns.keys():\n",
    "    f = h5py.File(fil_string, 'r')\n",
    "    exp_data = ExpData(f)\n",
    "    ch_hops = population_patterns[fil_string]['ch_hops']\n",
    "    noncrch_hops = population_patterns[fil_string]['noncrch_hops']\n",
    "    hop_patterns = population_patterns[fil_string]['hop_patterns']\n",
    "    for i, ch_hop in enumerate(ch_hops):\n",
    "        ch_site = exp_data.event_sites[exp_data.check_event][i]\n",
    "        if not exp_data.cache_present[ch_hop, ch_site-1]: continue\n",
    "        check_pattern_mat = hop_patterns[ch_hop]\n",
    "        for j, noncrch_hop in enumerate(noncrch_hops):\n",
    "            overlaps = []\n",
    "            noncrch_site = exp_data.hop_end_wedges[noncrch_hop]\n",
    "            if noncrch_site != ch_site: continue\n",
    "            navig_pattern_mat = hop_patterns[noncrch_hop]\n",
    "            for navig_pattern in navig_pattern_mat.T:\n",
    "                overlaps.append(np.nanmax(\n",
    "                    popln_overlap(check_pattern_mat, navig_pattern)\n",
    "                    ))\n",
    "            if len(overlaps) > 0:\n",
    "                all_overlaps.append(np.nanmax(overlaps))\n",
    "        \n",
    "plot_overlaps(all_overlaps, \"Occupied Check vs Arbitrary Hop\")"
   ]
  },
  {
   "cell_type": "markdown",
   "metadata": {},
   "source": [
    "# Activity Overlap Between Unoccupied Checks and Arbitrary Hop"
   ]
  },
  {
   "cell_type": "code",
   "execution_count": 8,
   "metadata": {
    "code_folding": [
     1
    ]
   },
   "outputs": [
    {
     "name": "stderr",
     "output_type": "stream",
     "text": [
      "/home/chingf/anaconda3/envs/analysis-env/lib/python3.7/site-packages/ipykernel_launcher.py:19: RuntimeWarning: All-NaN slice encountered\n",
      "/home/chingf/anaconda3/envs/analysis-env/lib/python3.7/site-packages/ipykernel_launcher.py:22: RuntimeWarning: All-NaN axis encountered\n",
      "/home/chingf/anaconda3/envs/analysis-env/lib/python3.7/site-packages/numpy/lib/histograms.py:839: RuntimeWarning: invalid value encountered in greater_equal\n",
      "  keep = (tmp_a >= first_edge)\n",
      "/home/chingf/anaconda3/envs/analysis-env/lib/python3.7/site-packages/numpy/lib/histograms.py:840: RuntimeWarning: invalid value encountered in less_equal\n",
      "  keep &= (tmp_a <= last_edge)\n"
     ]
    },
    {
     "data": {
      "image/png": "[encoded data removed]",
      "text/plain": [
       "<Figure size 432x288 with 1 Axes>"
      ]
     },
     "metadata": {
      "needs_background": "light"
     },
     "output_type": "display_data"
    },
    {
     "name": "stdout",
     "output_type": "stream",
     "text": [
      "49343\n"
     ]
    }
   ],
   "source": [
    "all_overlaps = []\n",
    "for fil_string in population_patterns.keys():\n",
    "    f = h5py.File(fil_string, 'r')\n",
    "    exp_data = ExpData(f)\n",
    "    ch_hops = population_patterns[fil_string]['ch_hops']\n",
    "    noncrch_hops = population_patterns[fil_string]['noncrch_hops']\n",
    "    hop_patterns = population_patterns[fil_string]['hop_patterns']\n",
    "    for i, ch_hop in enumerate(ch_hops):\n",
    "        ch_site = exp_data.event_sites[exp_data.check_event][i]\n",
    "        if exp_data.cache_present[ch_hop, ch_site-1]: continue\n",
    "        check_pattern_mat = hop_patterns[ch_hop]\n",
    "        for j, noncrch_hop in enumerate(noncrch_hops):\n",
    "            overlaps = []\n",
    "            noncrch_site = exp_data.hop_end_wedges[noncrch_hop]\n",
    "            if noncrch_site != ch_site: continue\n",
    "            navig_pattern_mat = hop_patterns[noncrch_hop]\n",
    "            for navig_pattern in navig_pattern_mat.T:\n",
    "                overlaps.append(np.nanmax(\n",
    "                    popln_overlap(check_pattern_mat, navig_pattern)\n",
    "                    ))\n",
    "            if len(overlaps) > 0:\n",
    "                all_overlaps.append(np.nanmax(overlaps))\n",
    "        \n",
    "plot_overlaps(all_overlaps, \"Unoccupied Check vs Arbitrary Hop\")"
   ]
  },
  {
   "cell_type": "code",
   "execution_count": null,
   "metadata": {},
   "outputs": [],
   "source": []
  }
 ],
 "metadata": {
  "kernelspec": {
   "display_name": "Python 3",
   "language": "python",
   "name": "python3"
  },
  "language_info": {
   "codemirror_mode": {
    "name": "ipython",
    "version": 3
   },
   "file_extension": ".py",
   "mimetype": "text/x-python",
   "name": "python",
   "nbconvert_exporter": "python",
   "pygments_lexer": "ipython3",
   "version": "3.7.6"
  }
 },
 "nbformat": 4,
 "nbformat_minor": 4
}
