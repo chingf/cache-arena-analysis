{
 "cells": [
  {
   "cell_type": "code",
   "execution_count": null,
   "metadata": {},
   "outputs": [],
   "source": [
    "import pickle\n",
    "import numpy as np\n",
    "import pandas as pd\n",
    "import matplotlib.pyplot as plt\n",
    "import matplotlib.cm as cm\n",
    "import seaborn as sns\n",
    "import h5py\n",
    "from math import pi\n",
    "\n",
    "from analysis.config import birds, h5_path_dict, pickle_dir\n",
    "from analysis.ExpData import ExpData\n",
    "from analysis.EpisodeCalc import EpisodeCalc"
   ]
  },
  {
   "cell_type": "code",
   "execution_count": null,
   "metadata": {},
   "outputs": [],
   "source": [
    "data = {}\n",
    "ep_calc = EpisodeCalc(window=30, num_shuffles=100, threshold=0.99)\n",
    "for key in h5_path_dict.keys():\n",
    "    for fil in range(len(h5_path_dict[key])):\n",
    "        fil_string = h5_path_dict[key][fil].as_posix()\n",
    "        f = h5py.File(fil_string, 'r')\n",
    "        exp_data = ExpData(f)\n",
    "        data[fil_string] = {}\n",
    "        cr_idx_mat, significance = ep_calc.calc_ep_index(exp_data)\n",
    "        data[fil_string]['cr_idx_mat'] = cr_idx_mat\n",
    "        data[fil_string]['significance'] = significance\n",
    "with open(pickle_dir / 'episode_cells.p', 'wb') as f: \n",
    "    pickle.dump(data, f)"
   ]
  },
  {
   "cell_type": "code",
   "execution_count": null,
   "metadata": {},
   "outputs": [],
   "source": [
    "with open(pickle_dir / 'episode_cells.p', 'rb') as f: \n",
    "    ep_cells = pickle.load(f)\n",
    "for key in ep_cells.keys():\n",
    "    f = h5py.File(key, 'r')\n",
    "    exp_data = ExpData(f)\n",
    "    cr_idx_mat = ep_cells[key]['cr_idx_mat']\n",
    "    significance = ep_cells[key]['significance']\n",
    "    x = cr_idx_mat[:, significance > 0.99]\n",
    "    plt.imshow(np.vstack((\n",
    "        x[exp_data.cr_was_cache],\n",
    "        x[exp_data.cr_was_retrieval]\n",
    "        )))\n",
    "    plt.ylabel(\"Cache/Retrieval\")\n",
    "    plt.xlabel(\"Episode Cells\")\n",
    "    plt.show()"
   ]
  }
 ],
 "metadata": {
  "kernelspec": {
   "display_name": "Python 3",
   "language": "python",
   "name": "python3"
  },
  "language_info": {
   "codemirror_mode": {
    "name": "ipython",
    "version": 3
   },
   "file_extension": ".py",
   "mimetype": "text/x-python",
   "name": "python",
   "nbconvert_exporter": "python",
   "pygments_lexer": "ipython3",
   "version": "3.7.6"
  }
 },
 "nbformat": 4,
 "nbformat_minor": 4
}
