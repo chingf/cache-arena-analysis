{
 "cells": [
  {
   "cell_type": "code",
   "execution_count": null,
   "metadata": {},
   "outputs": [],
   "source": [
    "import pickle\n",
    "import numpy as np\n",
    "import pandas as pd\n",
    "import matplotlib.pyplot as plt\n",
    "import matplotlib.cm as cm\n",
    "import seaborn as sns\n",
    "import h5py\n",
    "\n",
    "from analysis.config import birds, h5_path_dict, pickle_dir\n",
    "from analysis.ExpData import ExpData\n",
    "from analysis.utils import get_fr"
   ]
  },
  {
   "cell_type": "markdown",
   "metadata": {},
   "source": [
    "# Examining mean population FR during caching"
   ]
  },
  {
   "cell_type": "markdown",
   "metadata": {},
   "source": [
    "### i. Specify parameters to make plots"
   ]
  },
  {
   "cell_type": "code",
   "execution_count": null,
   "metadata": {},
   "outputs": [],
   "source": [
    "window = int(20*10)\n",
    "fr_smoothing_window = int(20*0.5)\n",
    "l2_normalization = False"
   ]
  },
  {
   "cell_type": "markdown",
   "metadata": {},
   "source": [
    "### ii. Collect hop-centered activity for each visit"
   ]
  },
  {
   "cell_type": "code",
   "execution_count": null,
   "metadata": {
    "code_folding": [
     1
    ],
    "scrolled": true
   },
   "outputs": [],
   "source": [
    "labeled_visits = {}\n",
    "for key in h5_path_dict.keys():\n",
    "    for fil in range(len(h5_path_dict[key])):\n",
    "        fil_string = h5_path_dict[key][fil].as_posix()\n",
    "        f = h5py.File(fil_string, 'r')\n",
    "        exp_data = ExpData(f)\n",
    "        labeled_visits[fil_string] = {}\n",
    "        c_visits, r_visits, noncr_visits = exp_data.get_cr_visits()\n",
    "        hopcentered_visits = exp_data.get_hopcentered_visits(window)\n",
    "        fr = get_fr(exp_data.spikes, fr_smoothing_window)\n",
    "        if l2_normalization:\n",
    "            scaling = np.square(np.linalg.norm(fr, axis=1))\n",
    "            #scaling = np.linalg.norm(fr, axis=1)\n",
    "            fr /= scaling[:, None]\n",
    "        visit_patterns = np.zeros(\n",
    "            (hopcentered_visits.shape[0], exp_data.num_neurs, window*2 + 1)\n",
    "            )\n",
    "        for i, visit in enumerate(hopcentered_visits):\n",
    "            visit_pattern = fr[:, visit]\n",
    "            visit_pattern[:, visit == -1] = np.nan\n",
    "            visit_patterns[i] = visit_pattern            \n",
    "        labeled_visits[fil_string]['c_visits'] = c_visits\n",
    "        labeled_visits[fil_string]['r_visits'] = r_visits\n",
    "        labeled_visits[fil_string]['noncr_visits'] = noncr_visits\n",
    "        labeled_visits[fil_string]['fr'] = fr\n",
    "        labeled_visits[fil_string]['visit_patterns'] = visit_patterns\n",
    "        labeled_visits[fil_string]['visit_times'] = hopcentered_visits"
   ]
  },
  {
   "cell_type": "markdown",
   "metadata": {},
   "source": [
    "### iii. Plot mean population FR around the hop into a visit"
   ]
  },
  {
   "cell_type": "code",
   "execution_count": null,
   "metadata": {},
   "outputs": [],
   "source": [
    "with open(pickle_dir / 'place_cells_1d.p', 'rb') as f: \n",
    "    all_place_cells = pickle.load(f)"
   ]
  },
  {
   "cell_type": "code",
   "execution_count": null,
   "metadata": {},
   "outputs": [],
   "source": [
    "with open(pickle_dir / 'episode_cells_overlap.p', 'rb') as f: \n",
    "    all_ep_cells = pickle.load(f)"
   ]
  },
  {
   "cell_type": "code",
   "execution_count": null,
   "metadata": {
    "code_folding": [
     9
    ]
   },
   "outputs": [],
   "source": [
    "frames = np.empty(0)\n",
    "frames_pl = np.empty(0)\n",
    "frames_ep = np.empty(0)\n",
    "mean_frs = np.empty(0)\n",
    "mean_pl_frs = np.empty(0)\n",
    "mean_ep_frs = np.empty(0)\n",
    "visit_types = np.empty(0)\n",
    "visit_types_pl = np.empty(0)\n",
    "visit_types_ep = np.empty(0)\n",
    "for fil_string in labeled_visits.keys():\n",
    "    f = h5py.File(fil_string, 'r')\n",
    "    exp_data = ExpData(f)\n",
    "    c_visits = labeled_visits[fil_string]['c_visits']\n",
    "    r_visits = labeled_visits[fil_string]['r_visits']\n",
    "    noncr_visits = labeled_visits[fil_string]['noncr_visits']\n",
    "    visit_activity = labeled_visits[fil_string]['visit_patterns']\n",
    "    pl_sig = all_place_cells[fil_string]['significance']\n",
    "    ep_sig = all_ep_cells[fil_string]['significance']\n",
    "    pl_only = np.logical_and(pl_sig, np.logical_not(ep_sig))\n",
    "    ep_only = np.logical_and(ep_sig, np.logical_not(pl_sig))\n",
    "    for idx, activity in enumerate(visit_activity):\n",
    "        num_neurs, num_frames = activity.shape\n",
    "        mean_fr = np.nanmean(activity, axis=0)\n",
    "        mean_pl_fr = np.nanmean(activity[pl_only, :], axis=0)\n",
    "        mean_ep_fr = np.nanmean(activity[ep_only, :], axis=0)\n",
    "        nonnan_frames = np.argwhere(\n",
    "            np.logical_not(np.isnan(mean_fr))\n",
    "            ).squeeze()\n",
    "        nonnan_pl_frames = np.argwhere(\n",
    "            np.logical_not(np.isnan(mean_pl_fr))\n",
    "            ).squeeze()\n",
    "        nonnan_ep_frames = np.argwhere(\n",
    "            np.logical_not(np.isnan(mean_ep_fr))\n",
    "            ).squeeze()\n",
    "        if idx in c_visits:\n",
    "            visit_type = [\"C\"]\n",
    "        elif idx in r_visits:\n",
    "            visit_type = [\"R\"]\n",
    "        else:\n",
    "            visit_type = [\"N\"]\n",
    "        frames = np.concatenate((frames, nonnan_frames))\n",
    "        frames_pl = np.concatenate((frames, nonnan_pl_frames))\n",
    "        frames_ep = np.concatenate((frames, nonnan_ep_frames))\n",
    "        mean_frs = np.concatenate((mean_frs, mean_fr[nonnan_frames]))\n",
    "        mean_pl_frs =np.concatenate((mean_pl_frs, mean_pl_fr[nonnan_pl_frames]))\n",
    "        mean_ep_frs =np.concatenate((mean_ep_frs, mean_ep_fr[nonnan_ep_frames]))\n",
    "        visit_types = np.concatenate((visit_types, visit_type*nonnan_frames.size))\n",
    "        visit_types_pl = np.concatenate((visit_types, visit_type*nonnan_pl_frames.size))\n",
    "        visit_types_ep = np.concatenate((visit_types, visit_type*nonnan_ep_frames.size))"
   ]
  },
  {
   "cell_type": "code",
   "execution_count": null,
   "metadata": {},
   "outputs": [],
   "source": [
    "df = pd.DataFrame({\n",
    "    \"Frames\": (frames - window)/20, \"FR\": mean_frs, \"Visit\": visit_types\n",
    "    })\n",
    "sns.lineplot(x=\"Frames\", y=\"FR\", hue=\"Visit\", data=df)\n",
    "plt.xlabel(\"Time from Hop (s)\")\n",
    "plt.title(\"Mean Population Activity\")"
   ]
  },
  {
   "cell_type": "markdown",
   "metadata": {},
   "source": [
    "### iii. Plot mean place-only FR around the hop into a visit"
   ]
  },
  {
   "cell_type": "code",
   "execution_count": null,
   "metadata": {},
   "outputs": [],
   "source": [
    "df = pd.DataFrame({\n",
    "    \"Frames\": (frames - window)/20, \"FR\": mean_pl_frs, \"Visit\": visit_types\n",
    "    })\n",
    "sns.lineplot(x=\"Frames\", y=\"FR\", hue=\"Visit\", data=df)\n",
    "plt.xlabel(\"Time from Hop (s)\")\n",
    "plt.title(\"Mean Place-Only Population Activity\")"
   ]
  },
  {
   "cell_type": "markdown",
   "metadata": {},
   "source": [
    "### iii. Plot mean episode-only FR around the hop into a visit"
   ]
  },
  {
   "cell_type": "code",
   "execution_count": null,
   "metadata": {},
   "outputs": [],
   "source": [
    "df = pd.DataFrame({\n",
    "    \"Frames\": (frames - window)/20, \"FR\": mean_ep_frs, \"Visit\": visit_types\n",
    "    })\n",
    "sns.lineplot(x=\"Frames\", y=\"FR\", hue=\"Visit\", data=df)\n",
    "plt.xlabel(\"Time from Hop (s)\")\n",
    "plt.title(\"Mean Episode-Only Population Activity\")"
   ]
  },
  {
   "cell_type": "code",
   "execution_count": null,
   "metadata": {},
   "outputs": [],
   "source": []
  }
 ],
 "metadata": {
  "kernelspec": {
   "display_name": "Python 3",
   "language": "python",
   "name": "python3"
  },
  "language_info": {
   "codemirror_mode": {
    "name": "ipython",
    "version": 3
   },
   "file_extension": ".py",
   "mimetype": "text/x-python",
   "name": "python",
   "nbconvert_exporter": "python",
   "pygments_lexer": "ipython3",
   "version": "3.7.6"
  }
 },
 "nbformat": 4,
 "nbformat_minor": 4
}
