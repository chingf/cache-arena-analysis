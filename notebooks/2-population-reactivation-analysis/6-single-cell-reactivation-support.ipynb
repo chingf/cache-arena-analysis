{
 "cells": [
  {
   "cell_type": "code",
   "execution_count": 1,
   "metadata": {},
   "outputs": [],
   "source": [
    "import pickle\n",
    "import numpy as np\n",
    "import pandas as pd\n",
    "import matplotlib.pyplot as plt\n",
    "import matplotlib.cm as cm\n",
    "import seaborn as sns\n",
    "import h5py\n",
    "from math import pi\n",
    "\n",
    "from analysis.config import birds, h5_path_dict, pickle_dir\n",
    "from analysis.ExpData import ExpData\n",
    "from analysis.utils import popln_overlap, get_fr"
   ]
  },
  {
   "cell_type": "code",
   "execution_count": 12,
   "metadata": {},
   "outputs": [],
   "source": [
    "with open(pickle_dir / 'population_patterns.p', 'rb') as f: \n",
    "    population_patterns = pickle.load(f)"
   ]
  },
  {
   "cell_type": "code",
   "execution_count": 13,
   "metadata": {
    "code_folding": []
   },
   "outputs": [],
   "source": [
    "def plot_overlaps(all_overlaps, title):\n",
    "    plt.figure()\n",
    "    plt.hist(all_overlaps, bins=20, alpha=0.4, weights=np.ones(len(all_overlaps)) / len(all_overlaps))\n",
    "    plt.title(title, fontsize=14)\n",
    "    plt.ylabel(\"Proportion of Visits\", fontsize=12)\n",
    "    plt.xlabel(\"Population Overlap\", fontsize=12)\n",
    "    plt.xlim((0, 1))\n",
    "    plt.ylim((0, 0.6))\n",
    "    plt.show()\n",
    "    print(len(all_overlaps))"
   ]
  },
  {
   "cell_type": "markdown",
   "metadata": {},
   "source": [
    "# Activity Overlap Between Caching and Retrieval of Same Cache"
   ]
  },
  {
   "cell_type": "code",
   "execution_count": 14,
   "metadata": {
    "code_folding": [
     1
    ]
   },
   "outputs": [
    {
     "name": "stderr",
     "output_type": "stream",
     "text": [
      "/home/chingf/anaconda3/envs/analysis-env/lib/python3.7/site-packages/ipykernel_launcher.py:25: RuntimeWarning: All-NaN slice encountered\n"
     ]
    },
    {
     "data": {
      "image/png": "[encoded data removed]",
      "text/plain": [
       "<Figure size 432x288 with 1 Axes>"
      ]
     },
     "metadata": {
      "needs_background": "light"
     },
     "output_type": "display_data"
    },
    {
     "name": "stdout",
     "output_type": "stream",
     "text": [
      "78\n"
     ]
    }
   ],
   "source": [
    "all_overlaps = []\n",
    "for fil_string in population_patterns.keys():\n",
    "    f = h5py.File(fil_string, 'r')\n",
    "    exp_data = ExpData(f)\n",
    "    c_visits = population_patterns[fil_string]['c_visits']\n",
    "    r_visits = population_patterns[fil_string]['r_visits']\n",
    "    noncr_visits = population_patterns[fil_string]['noncr_visits']\n",
    "    visit_patterns = population_patterns[fil_string]['visit_patterns']\n",
    "\n",
    "    for i, c_visit in enumerate(c_visits):\n",
    "        c_site = exp_data.cr_sites[exp_data.cr_was_cache][i]\n",
    "        cache_pattern_mat = visit_patterns[c_visit]\n",
    "        for j, r_visit in enumerate(r_visits):\n",
    "            if r_visit <= c_visit: continue\n",
    "            r_site = exp_data.cr_sites[exp_data.cr_was_retrieval][j]\n",
    "            if r_site != c_site: continue\n",
    "            retriev_pattern_mat = visit_patterns[r_visit]\n",
    "            overlaps = []\n",
    "            for cache_pattern in cache_pattern_mat.T:\n",
    "                for retriev_pattern in retriev_pattern_mat.T:\n",
    "                    highest_pair = np.argmax(cache_pattern*retriev_pattern)\n",
    "                    cache_pattern[highest_pair] = 0\n",
    "                    retriev_pattern[highest_pair] = 0\n",
    "                    cache_retriev_overlap = np.nanmax(popln_overlap(\n",
    "                        cache_pattern[:, None], retriev_pattern\n",
    "                        ))\n",
    "                    overlaps.append(cache_retriev_overlap)\n",
    "            all_overlaps.append(np.nanmax(overlaps))\n",
    "            break\n",
    "        \n",
    "plot_overlaps(all_overlaps, \"Cache vs Retrieval\")"
   ]
  },
  {
   "cell_type": "markdown",
   "metadata": {},
   "source": [
    "# Activity Overlap Between Caching and Retrieval of Different Cache"
   ]
  },
  {
   "cell_type": "code",
   "execution_count": 15,
   "metadata": {
    "code_folding": [
     1
    ]
   },
   "outputs": [
    {
     "name": "stderr",
     "output_type": "stream",
     "text": [
      "/home/chingf/anaconda3/envs/analysis-env/lib/python3.7/site-packages/ipykernel_launcher.py:24: RuntimeWarning: All-NaN slice encountered\n"
     ]
    },
    {
     "data": {
      "image/png": "[encoded data removed]",
      "text/plain": [
       "<Figure size 432x288 with 1 Axes>"
      ]
     },
     "metadata": {
      "needs_background": "light"
     },
     "output_type": "display_data"
    },
    {
     "name": "stdout",
     "output_type": "stream",
     "text": [
      "983\n"
     ]
    }
   ],
   "source": [
    "all_overlaps = []\n",
    "for fil_string in population_patterns.keys():\n",
    "    f = h5py.File(fil_string, 'r')\n",
    "    exp_data = ExpData(f)\n",
    "    c_visits = population_patterns[fil_string]['c_visits']\n",
    "    r_visits = population_patterns[fil_string]['r_visits']\n",
    "    noncr_visits = population_patterns[fil_string]['noncr_visits']\n",
    "    visit_patterns = population_patterns[fil_string]['visit_patterns']\n",
    "\n",
    "    for i, c_visit in enumerate(c_visits):\n",
    "        c_site = exp_data.cr_sites[exp_data.cr_was_cache][i]\n",
    "        cache_pattern_mat = visit_patterns[c_visit]\n",
    "        for j, r_visit in enumerate(r_visits):\n",
    "            r_site = exp_data.cr_sites[exp_data.cr_was_retrieval][j]\n",
    "            if r_site == c_site: continue\n",
    "            retriev_pattern_mat = visit_patterns[r_visit]\n",
    "            overlaps = []\n",
    "            for cache_pattern in cache_pattern_mat.T:\n",
    "                for retriev_pattern in retriev_pattern_mat.T:\n",
    "                    highest_pair = np.argmax(cache_pattern*retriev_pattern)\n",
    "                    cache_pattern[highest_pair] = 0\n",
    "                    retriev_pattern[highest_pair] = 0\n",
    "                    cache_retriev_overlap = np.nanmax(popln_overlap(\n",
    "                        cache_pattern[:, None], retriev_pattern\n",
    "                        ))\n",
    "                    overlaps.append(cache_retriev_overlap)\n",
    "            all_overlaps.append(np.nanmax(overlaps))\n",
    "        \n",
    "plot_overlaps(all_overlaps, \"Cache vs Unrelated Retrieval at Different Site\")"
   ]
  },
  {
   "cell_type": "code",
   "execution_count": null,
   "metadata": {},
   "outputs": [],
   "source": []
  }
 ],
 "metadata": {
  "kernelspec": {
   "display_name": "Python 3",
   "language": "python",
   "name": "python3"
  },
  "language_info": {
   "codemirror_mode": {
    "name": "ipython",
    "version": 3
   },
   "file_extension": ".py",
   "mimetype": "text/x-python",
   "name": "python",
   "nbconvert_exporter": "python",
   "pygments_lexer": "ipython3",
   "version": "3.7.6"
  }
 },
 "nbformat": 4,
 "nbformat_minor": 4
}
