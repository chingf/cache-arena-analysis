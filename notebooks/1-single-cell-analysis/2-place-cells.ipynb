{
 "cells": [
  {
   "cell_type": "code",
   "execution_count": 2,
   "metadata": {},
   "outputs": [],
   "source": [
    "import pickle\n",
    "import numpy as np\n",
    "import pandas as pd\n",
    "import matplotlib.pyplot as plt\n",
    "import matplotlib.cm as cm\n",
    "import seaborn as sns\n",
    "import h5py\n",
    "from math import pi\n",
    "from scipy.signal import find_peaks\n",
    "\n",
    "from analysis.config import birds, h5_path_dict, pickle_dir\n",
    "from analysis.ExpData import ExpData\n",
    "from analysis.PlaceCalc import PlaceCalc"
   ]
  },
  {
   "cell_type": "code",
   "execution_count": null,
   "metadata": {},
   "outputs": [],
   "source": [
    "data = {}\n",
    "place_calc = PlaceCalc(\n",
    "    num_shuffles=200, threshold=0.99, dimension=1, bins_2d=None\n",
    "    )\n",
    "for key in h5_path_dict.keys():\n",
    "    for fil in range(len(h5_path_dict[key])):\n",
    "        fil_string = h5_path_dict[key][fil].as_posix()\n",
    "        f = h5py.File(fil_string, 'r')\n",
    "        exp_data = ExpData(f)\n",
    "        data[fil_string] = {}\n",
    "        spatial_info, significance_1d = place_calc.calc_place_cells(exp_data)\n",
    "        data[fil_string]['spatial_info'] = spatial_info\n",
    "        data[fil_string]['significance'] = significance_1d\n",
    "        data[fil_string]['tuning'] = np.zeros((exp_data.num_neurs, 16)).astype(bool)\n",
    "        for neur in range(exp_data.num_neurs):\n",
    "            if not significance_1d[neur]: continue\n",
    "            frs = []\n",
    "            for wedge in (np.arange(16) + 1):\n",
    "                wedge_frs = exp_data.fr[neur, exp_data.wedges == wedge]\n",
    "                frs.append(wedge_frs)\n",
    "            mean_frs = [np.nanmean(f) for f in frs]\n",
    "            neur_tuning = np.argwhere(\n",
    "                mean_frs > np.mean(mean_frs) + np.std(mean_frs)\n",
    "                ).flatten()\n",
    "            data[fil_string]['tuning'][neur, neur_tuning] = True\n",
    "with open(pickle_dir / 'place_cells_1d.p', 'wb') as f: \n",
    "    pickle.dump(data, f)"
   ]
  },
  {
   "cell_type": "code",
   "execution_count": null,
   "metadata": {},
   "outputs": [],
   "source": []
  }
 ],
 "metadata": {
  "kernelspec": {
   "display_name": "Python 3",
   "language": "python",
   "name": "python3"
  },
  "language_info": {
   "codemirror_mode": {
    "name": "ipython",
    "version": 3
   },
   "file_extension": ".py",
   "mimetype": "text/x-python",
   "name": "python",
   "nbconvert_exporter": "python",
   "pygments_lexer": "ipython3",
   "version": "3.7.6"
  }
 },
 "nbformat": 4,
 "nbformat_minor": 4
}
