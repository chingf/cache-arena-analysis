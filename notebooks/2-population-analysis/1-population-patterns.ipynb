{
 "cells": [
  {
   "cell_type": "code",
   "execution_count": 2,
   "metadata": {},
   "outputs": [],
   "source": [
    "import pickle\n",
    "import numpy as np\n",
    "import pandas as pd\n",
    "import matplotlib.pyplot as plt\n",
    "import matplotlib.cm as cm\n",
    "import seaborn as sns\n",
    "import h5py\n",
    "from math import pi\n",
    "\n",
    "from analysis.config import birds, h5_path_dict, pickle_dir\n",
    "from analysis.ExpData import ExpData\n",
    "from analysis.utils import get_fr"
   ]
  },
  {
   "cell_type": "markdown",
   "metadata": {},
   "source": [
    "# Collect population patterns and save into pickle file\n",
    "Visit patterns are (visits, neurs, frames) size"
   ]
  },
  {
   "cell_type": "markdown",
   "metadata": {},
   "source": [
    "### Parameters"
   ]
  },
  {
   "cell_type": "code",
   "execution_count": 15,
   "metadata": {},
   "outputs": [],
   "source": [
    "window = 30\n",
    "fr_smoothing_window = int(20*0.5)\n",
    "episode_significance = False"
   ]
  },
  {
   "cell_type": "markdown",
   "metadata": {},
   "source": [
    "### Data formatting"
   ]
  },
  {
   "cell_type": "code",
   "execution_count": 16,
   "metadata": {},
   "outputs": [],
   "source": [
    "data = {}\n",
    "with open(pickle_dir / 'place_cells_1d.p', 'rb') as f: \n",
    "    episode_cells = pickle.load(f)\n",
    "for key in h5_path_dict.keys():\n",
    "    for fil in range(len(h5_path_dict[key])):\n",
    "        fil_string = h5_path_dict[key][fil].as_posix()\n",
    "        f = h5py.File(fil_string, 'r')\n",
    "        exp_data = ExpData(f)\n",
    "        data[fil_string] = {}\n",
    "        cr_visits, noncr_visits = exp_data.get_cr_visits()\n",
    "        c_visits = cr_visits[exp_data.cr_was_cache]\n",
    "        r_visits = cr_visits[exp_data.cr_was_retrieval]\n",
    "        hopcentered_visits = exp_data.get_hopcentered_visits(window)\n",
    "        fr = get_fr(exp_data.spikes, fr_smoothing_window)\n",
    "        visit_patterns = np.zeros(\n",
    "            (hopcentered_visits.shape[0], exp_data.num_neurs, window*2 + 1)\n",
    "            )\n",
    "        for i, visit in enumerate(hopcentered_visits):\n",
    "            visit_pattern = fr[:, visit]\n",
    "            visit_pattern[:, visit == -1] = np.nan\n",
    "            visit_patterns[i] = visit_pattern\n",
    "        if episode_significance:\n",
    "            significance = episode_cells[fil_string]['significance']\n",
    "            visit_patterns = visit_patterns[:, significance > 0.99, :]\n",
    "            print(np.sum(significance > 0.95))\n",
    "        data[fil_string]['c_visits'] = c_visits\n",
    "        data[fil_string]['r_visits'] = r_visits\n",
    "        data[fil_string]['noncr_visits'] = noncr_visits\n",
    "        data[fil_string]['fr'] = fr\n",
    "        data[fil_string]['visit_patterns'] = visit_patterns\n",
    "with open(pickle_dir / 'population_patterns.p', 'wb') as f: \n",
    "    pickle.dump(data, f)"
   ]
  },
  {
   "cell_type": "code",
   "execution_count": null,
   "metadata": {},
   "outputs": [],
   "source": []
  }
 ],
 "metadata": {
  "kernelspec": {
   "display_name": "Python 3",
   "language": "python",
   "name": "python3"
  },
  "language_info": {
   "codemirror_mode": {
    "name": "ipython",
    "version": 3
   },
   "file_extension": ".py",
   "mimetype": "text/x-python",
   "name": "python",
   "nbconvert_exporter": "python",
   "pygments_lexer": "ipython3",
   "version": "3.7.6"
  }
 },
 "nbformat": 4,
 "nbformat_minor": 4
}
