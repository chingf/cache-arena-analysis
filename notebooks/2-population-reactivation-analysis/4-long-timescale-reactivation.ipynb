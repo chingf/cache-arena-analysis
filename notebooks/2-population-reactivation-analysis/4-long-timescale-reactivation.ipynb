{
 "cells": [
  {
   "cell_type": "code",
   "execution_count": 1,
   "metadata": {},
   "outputs": [],
   "source": [
    "import pickle\n",
    "import numpy as np\n",
    "import pandas as pd\n",
    "import matplotlib.pyplot as plt\n",
    "import matplotlib.cm as cm\n",
    "import seaborn as sns\n",
    "import h5py\n",
    "from math import pi\n",
    "\n",
    "from analysis.config import birds, h5_path_dict, pickle_dir\n",
    "from analysis.ExpData import ExpData\n",
    "from analysis.utils import popln_overlap, get_fr"
   ]
  },
  {
   "cell_type": "code",
   "execution_count": 2,
   "metadata": {},
   "outputs": [],
   "source": [
    "with open(pickle_dir / 'population_patterns.p', 'rb') as f: \n",
    "    population_patterns = pickle.load(f)"
   ]
  },
  {
   "cell_type": "code",
   "execution_count": 17,
   "metadata": {
    "code_folding": []
   },
   "outputs": [],
   "source": [
    "def plot_overlaps(all_overlaps, title):\n",
    "    plt.figure()\n",
    "    plt.hist(all_overlaps, bins=20, alpha=0.4, weights=np.ones(len(all_overlaps)) / len(all_overlaps))\n",
    "    plt.title(title, fontsize=14)\n",
    "    plt.ylabel(\"Proportion of Visits\", fontsize=12)\n",
    "    plt.xlabel(\"Population Overlap\", fontsize=12)\n",
    "    plt.xlim((0, 1))\n",
    "    plt.ylim((0, 0.6))\n",
    "    plt.show()\n",
    "    print(len(all_overlaps))"
   ]
  },
  {
   "cell_type": "markdown",
   "metadata": {},
   "source": [
    "# Activity Overlap Between Caching and Retrieval of Same Cache"
   ]
  },
  {
   "cell_type": "code",
   "execution_count": 18,
   "metadata": {},
   "outputs": [
    {
     "data": {
      "image/png": "[encoded data removed]",
      "text/plain": [
       "<Figure size 432x288 with 1 Axes>"
      ]
     },
     "metadata": {
      "needs_background": "light"
     },
     "output_type": "display_data"
    },
    {
     "name": "stdout",
     "output_type": "stream",
     "text": [
      "78\n"
     ]
    }
   ],
   "source": [
    "all_overlaps = []\n",
    "for fil_string in population_patterns.keys():\n",
    "    f = h5py.File(fil_string, 'r')\n",
    "    exp_data = ExpData(f)\n",
    "    visit_s = exp_data.visit_s/exp_data.visit_durs[None,:]\n",
    "    c_visits = population_patterns[fil_string]['c_visits']\n",
    "    r_visits = population_patterns[fil_string]['r_visits']\n",
    "    noncr_visits = population_patterns[fil_string]['noncr_visits']\n",
    "\n",
    "    for i, c_visit in enumerate(c_visits):\n",
    "        c_site = exp_data.cr_sites[exp_data.cr_was_cache][i]\n",
    "        cache_pattern = visit_s[:, c_visit]\n",
    "        for j, r_visit in enumerate(r_visits):\n",
    "            if r_visit <= c_visit: continue\n",
    "            r_site = exp_data.cr_sites[exp_data.cr_was_retrieval][j]\n",
    "            if r_site != c_site: continue\n",
    "            retriev_pattern = visit_s[:, r_visit]\n",
    "            overlap = np.nanmax(\n",
    "                popln_overlap(cache_pattern[:,None], retriev_pattern)\n",
    "                )\n",
    "            all_overlaps.append(overlap)\n",
    "            break\n",
    "        \n",
    "plot_overlaps(all_overlaps, \"Cache vs Retrieval\")"
   ]
  },
  {
   "cell_type": "markdown",
   "metadata": {},
   "source": [
    "# Activity Overlap Between Caching and Retrieval of Different Cache"
   ]
  },
  {
   "cell_type": "code",
   "execution_count": 19,
   "metadata": {
    "code_folding": []
   },
   "outputs": [
    {
     "data": {
      "image/png": "[encoded data removed]",
      "text/plain": [
       "<Figure size 432x288 with 1 Axes>"
      ]
     },
     "metadata": {
      "needs_background": "light"
     },
     "output_type": "display_data"
    },
    {
     "name": "stdout",
     "output_type": "stream",
     "text": [
      "93\n"
     ]
    }
   ],
   "source": [
    "all_overlaps = []\n",
    "for fil_string in population_patterns.keys():\n",
    "    f = h5py.File(fil_string, 'r')\n",
    "    exp_data = ExpData(f)\n",
    "    visit_s = exp_data.visit_s/exp_data.visit_durs[None,:]\n",
    "    c_visits = population_patterns[fil_string]['c_visits']\n",
    "    r_visits = population_patterns[fil_string]['r_visits']\n",
    "    noncr_visits = population_patterns[fil_string]['noncr_visits']\n",
    "\n",
    "    for i, c_visit in enumerate(c_visits):\n",
    "        c_site = exp_data.cr_sites[exp_data.cr_was_cache][i]\n",
    "        cache_pattern = visit_s[:, c_visit]\n",
    "        mean_overlaps = []\n",
    "        for j, r_visit in enumerate(r_visits):\n",
    "            r_site = exp_data.cr_sites[exp_data.cr_was_retrieval][j]\n",
    "            if r_site == c_site: continue\n",
    "            retriev_pattern = visit_s[:, r_visit]\n",
    "            overlap = np.nanmax(\n",
    "                popln_overlap(cache_pattern[:,None], retriev_pattern)\n",
    "                )\n",
    "            mean_overlaps.append(overlap)\n",
    "        all_overlaps.append(np.nanmean(mean_overlaps))\n",
    "        \n",
    "plot_overlaps(all_overlaps, \"Cache vs Unrelated Retrieval\\nat Different Site\")"
   ]
  },
  {
   "cell_type": "code",
   "execution_count": null,
   "metadata": {},
   "outputs": [],
   "source": []
  }
 ],
 "metadata": {
  "kernelspec": {
   "display_name": "Python 3",
   "language": "python",
   "name": "python3"
  },
  "language_info": {
   "codemirror_mode": {
    "name": "ipython",
    "version": 3
   },
   "file_extension": ".py",
   "mimetype": "text/x-python",
   "name": "python",
   "nbconvert_exporter": "python",
   "pygments_lexer": "ipython3",
   "version": "3.7.6"
  }
 },
 "nbformat": 4,
 "nbformat_minor": 4
}
