{
 "cells": [
  {
   "cell_type": "code",
   "execution_count": 14,
   "metadata": {},
   "outputs": [],
   "source": [
    "import os\n",
    "import h5py\n",
    "import pickle\n",
    "import numpy as np\n",
    "import pandas as pd\n",
    "import matplotlib.pyplot as plt\n",
    "import matplotlib.colors as colors\n",
    "import matplotlib.cm as cm\n",
    "import seaborn as sns\n",
    "import pdb\n",
    "from scipy.io import loadmat\n",
    "from scipy import optimize\n",
    "from math import pi, log2\n",
    "import warnings\n",
    "from DataFile import DataFile\n",
    "from utils import *"
   ]
  },
  {
   "cell_type": "code",
   "execution_count": 15,
   "metadata": {},
   "outputs": [],
   "source": [
    "mat_files = [m for m in os.listdir(\"data\") if m.endswith('mat')]\n",
    "session_list = pd.read_excel('data/CacheRetrieveSessionList.xlsx', index_col=0)\n",
    "fps = 20\n",
    "cmap = cm.get_cmap('viridis')"
   ]
  },
  {
   "cell_type": "markdown",
   "metadata": {},
   "source": [
    "## Calculating cache index matrix visit-by-visit, centered by hop"
   ]
  },
  {
   "cell_type": "code",
   "execution_count": 18,
   "metadata": {},
   "outputs": [
    {
     "name": "stdout",
     "output_type": "stream",
     "text": [
      "ExtractedWithXY_Cleaned184713_09102019.mat\n",
      "10\n",
      "ExtractedWithXY_Cleaned184430_09102019.mat\n",
      "15\n",
      "ExtractedWithXY_Cleaned184526_09102019.mat\n",
      "10\n",
      "ExtractedWithXY_Cleaned184946_09102019.mat\n",
      "11\n",
      "ExtractedWithXY_Cleaned185033_09102019.mat\n",
      "8\n",
      "ExtractedWithXY_Cleaned184331_09102019.mat\n",
      "6\n",
      "ExtractedWithXY_Cleaned144233_09112019.mat\n",
      "11\n"
     ]
    }
   ],
   "source": [
    "window = 60\n",
    "results = {}\n",
    "for mat_file in mat_files:\n",
    "    print(mat_file)\n",
    "    f = h5py.File(\"data/\" + mat_file, 'r')\n",
    "    f = DataFile(f)\n",
    "    cache_idx_mat = np.zeros((f.cache_sites.size, f.num_neurs))\n",
    "    cache_hops_frames, noncache_hops_frames, noncache_hops_wedges = \\\n",
    "        f.get_hopcentered_frames(window)\n",
    "\n",
    "    for idx in range(f.cache_sites.size):\n",
    "        cache_site = f.cache_sites[idx]\n",
    "        cache_frames = cache_hops_frames[idx]\n",
    "        noncache_frames = [\n",
    "            arr for idx, arr in enumerate(noncache_hops_frames)\\\n",
    "            if noncache_hops_wedges[idx] == cache_site\n",
    "            ]\n",
    "        cache_idx_row = calc_cache_index(f.fr, cache_frames, noncache_frames)\n",
    "        cache_idx_mat[idx,:] = cache_idx_row\n",
    "    cache_idx_mean = np.mean(cache_idx_mat, axis=0)\n",
    "    significant = np.zeros(f.num_neurs)\n",
    "    shuff_means = []\n",
    "    for _ in range(110): # Significance Test with Shuffles\n",
    "        shuff_cache_idx_mat = np.zeros((f.cache_sites.size, f.num_neurs))\n",
    "        all_visits = list.copy(cache_hops_frames) \n",
    "        all_visits.extend(list.copy(noncache_hops_frames)) #collect all visits to this perch\n",
    "        shuff_idxs = np.arange(len(all_visits)).astype(int) # shuffle up the visits\n",
    "        np.random.shuffle(shuff_idxs)\n",
    "        all_visits = [all_visits[i] for i in shuff_idxs]\n",
    "        shuff_cache_hops_frames = all_visits[:len(cache_hops_frames)] # divide up visits\n",
    "        shuff_noncache_hops_frames = all_visits[len(cache_hops_frames):]\n",
    "        for idx in range(f.cache_sites.size):\n",
    "            cache_site = f.cache_sites[idx]\n",
    "            cache_frames = shuff_cache_hops_frames[idx]\n",
    "            noncache_frames = [\n",
    "                arr for idx, arr in enumerate(shuff_noncache_hops_frames)\\\n",
    "                if noncache_hops_wedges[idx] == cache_site\n",
    "                ]\n",
    "            cache_idx = calc_cache_index(f.fr, cache_frames, noncache_frames)\n",
    "            shuff_cache_idx_mat[idx,:] = cache_idx\n",
    "        shuff_cache_idx_mean = np.mean(shuff_cache_idx_mat, axis=0)\n",
    "        shuff_means.append(shuff_cache_idx_mean)\n",
    "        significant += (shuff_cache_idx_mean < cache_idx_mean)\n",
    "    significant = np.array(significant > 0.95*110)\n",
    "    print(np.sum(significant))\n",
    "    #cache_idx_mat[:,np.logical_not(significant)] = np.nan\n",
    "    results[mat_file] =  {\"Matrix\": cache_idx_mat, \"Significants\": significant}\n",
    "with open(\"ci-visit-shuff-all-%d.p\"%window, \"wb\") as f:\n",
    "    pickle.dump(results,f)"
   ]
  },
  {
   "cell_type": "code",
   "execution_count": 25,
   "metadata": {
    "scrolled": true
   },
   "outputs": [
    {
     "name": "stdout",
     "output_type": "stream",
     "text": [
      "ExtractedWithXY_Cleaned184713_09102019.mat\n",
      "[ 2  4  5  7 14 18 21 22 37 38]\n",
      "Min: 0.20\n",
      "Max: 1.00\n",
      "[ 1.  1.  3.  3.  5.  8.  8.  9.  9. 11. 11. 13. 13. 15. 15.]\n"
     ]
    },
    {
     "name": "stderr",
     "output_type": "stream",
     "text": [
      "/home/chingf/anaconda3/lib/python3.7/site-packages/ipykernel_launcher.py:16: RuntimeWarning: invalid value encountered in greater\n",
      "  app.launch_new_instance()\n"
     ]
    },
    {
     "data": {
      "image/png": "[encoded data removed]",
      "text/plain": [
       "<Figure size 432x288 with 2 Axes>"
      ]
     },
     "metadata": {
      "needs_background": "light"
     },
     "output_type": "display_data"
    },
    {
     "name": "stdout",
     "output_type": "stream",
     "text": [
      "\n",
      "ExtractedWithXY_Cleaned184430_09102019.mat\n",
      "[ 1  4  6  7 10 12 14 17 20 24 25 27 28 29 30 31]\n",
      "Min: 0.32\n",
      "Max: 1.00\n",
      "[ 1.  1.  5.  5.  7. 10. 10. 11. 13. 15. 15. 16. 16.]\n"
     ]
    },
    {
     "data": {
      "image/png": "[encoded data removed]",
      "text/plain": [
       "<Figure size 432x288 with 2 Axes>"
      ]
     },
     "metadata": {
      "needs_background": "light"
     },
     "output_type": "display_data"
    },
    {
     "name": "stdout",
     "output_type": "stream",
     "text": [
      "\n",
      "ExtractedWithXY_Cleaned184526_09102019.mat\n",
      "[ 7 15 17 25 28 31 34 38 39 42 43]\n",
      "Min: 0.67\n",
      "Max: 1.00\n",
      "[ 1.  1.  3.  3.  7.  7.  8.  8. 10. 10. 15. 15.]\n"
     ]
    },
    {
     "data": {
      "image/png": "[encoded data removed]",
      "text/plain": [
       "<Figure size 432x288 with 2 Axes>"
      ]
     },
     "metadata": {
      "needs_background": "light"
     },
     "output_type": "display_data"
    },
    {
     "name": "stdout",
     "output_type": "stream",
     "text": [
      "\n",
      "ExtractedWithXY_Cleaned184946_09102019.mat\n",
      "[ 3  5  6 10 15 17 18 28 29 30 31 46 50]\n",
      "Min: 0.33\n",
      "Max: 1.00\n",
      "[ 1.  1.  4.  5.  5.  6.  6.  7.  7.  7.  8. 10. 10. 10. 12. 12. 14. 14.\n",
      " 14. 14.]\n"
     ]
    },
    {
     "data": {
      "image/png": "[encoded data removed]",
      "text/plain": [
       "<Figure size 432x288 with 2 Axes>"
      ]
     },
     "metadata": {
      "needs_background": "light"
     },
     "output_type": "display_data"
    },
    {
     "name": "stdout",
     "output_type": "stream",
     "text": [
      "\n",
      "ExtractedWithXY_Cleaned185033_09102019.mat\n",
      "[ 3 19 20 21 24 29 31 35 39 46]\n",
      "Min: 0.39\n",
      "Max: 1.00\n",
      "[ 2.  2.  5.  5.  7.  9. 11. 11. 14. 16. 16.]\n"
     ]
    },
    {
     "data": {
      "image/png": "[encoded data removed]",
      "text/plain": [
       "<Figure size 432x288 with 2 Axes>"
      ]
     },
     "metadata": {
      "needs_background": "light"
     },
     "output_type": "display_data"
    },
    {
     "name": "stdout",
     "output_type": "stream",
     "text": [
      "\n",
      "ExtractedWithXY_Cleaned184331_09102019.mat\n",
      "[ 3 14 23 39 40 43]\n",
      "Min: 0.62\n",
      "Max: 1.00\n",
      "[ 1.  1.  3.  3.  6.  6. 10. 10. 10. 10.]\n"
     ]
    },
    {
     "data": {
      "image/png": "[encoded data removed]",
      "text/plain": [
       "<Figure size 432x288 with 2 Axes>"
      ]
     },
     "metadata": {
      "needs_background": "light"
     },
     "output_type": "display_data"
    },
    {
     "name": "stdout",
     "output_type": "stream",
     "text": [
      "\n",
      "ExtractedWithXY_Cleaned144233_09112019.mat\n",
      "[ 7  8  9 19 22 24 30 31 36 45]\n",
      "Min: 0.42\n",
      "Max: 1.00\n",
      "[ 1.  1.  1.  1.  3.  3.  5.  5.  5.  5.  5.  5.  7.  7. 10. 10. 12. 12.\n",
      " 14. 14. 14. 14.]\n"
     ]
    },
    {
     "data": {
      "image/png": "[encoded data removed]",
      "text/plain": [
       "<Figure size 432x288 with 2 Axes>"
      ]
     },
     "metadata": {
      "needs_background": "light"
     },
     "output_type": "display_data"
    },
    {
     "name": "stdout",
     "output_type": "stream",
     "text": [
      "\n",
      "Total Num: 76\n"
     ]
    }
   ],
   "source": [
    "ep_f = \"mi-hopvis-circvisshuff-60.p\"\n",
    "ep_f = \"ci-visit-shuff-60.p\"\n",
    "with open(ep_f, \"rb\") as f:\n",
    "    results = pickle.load(f)\n",
    "total = 0\n",
    "for key1 in results.keys():\n",
    "    cache_idx_mat = results[key1]\n",
    "    f = h5py.File(\"data/\" + key1, 'r')\n",
    "    f = DataFile(f)\n",
    "    neurs = np.argwhere(np.nansum(cache_idx_mat, axis=0)>0).squeeze()\n",
    "    cache_idx_mat = cache_idx_mat[f.was_cache,:]\n",
    "    cache_only_sites = f.cache_sites[f.was_cache]\n",
    "    cache_idx_mat = cache_idx_mat[np.argsort(cache_only_sites),:]\n",
    "    print(key1)\n",
    "    print(neurs)\n",
    "    print(\"Min: %1.2f\"%cache_idx_mat[cache_idx_mat > 0].min())\n",
    "    print(\"Max: %1.2f\"%np.nanmax(cache_idx_mat))\n",
    "    print(np.sort(f.cache_sites))\n",
    "    ax = sns.heatmap(cache_idx_mat[:,neurs].T, cmap=\"viridis\")\n",
    "    ax.set_aspect(\"equal\")\n",
    "    plt.xlabel(\"Cache Site\", fontsize=12)\n",
    "    plt.ylabel(\"Neuron\", fontsize=12)\n",
    "    plt.xticks(np.arange(cache_only_sites.size)+0.5, np.sort(cache_only_sites.astype(int)))\n",
    "    plt.yticks([])\n",
    "    plt.title(\"Sorted Cache Tuning\", fontsize=14)\n",
    "    plt.show()\n",
    "    print()\n",
    "    total += neurs.size\n",
    "print(\"Total Num: %d\"%total)"
   ]
  },
  {
   "cell_type": "markdown",
   "metadata": {},
   "source": [
    "## Calculating cache index matrix visit-by-visit"
   ]
  },
  {
   "cell_type": "code",
   "execution_count": 7,
   "metadata": {},
   "outputs": [
    {
     "name": "stdout",
     "output_type": "stream",
     "text": [
      "ExtractedWithXY_Cleaned184713_09102019.mat\n",
      "ExtractedWithXY_Cleaned184430_09102019.mat\n",
      "ExtractedWithXY_Cleaned184526_09102019.mat\n",
      "ExtractedWithXY_Cleaned184946_09102019.mat\n",
      "ExtractedWithXY_Cleaned185033_09102019.mat\n",
      "ExtractedWithXY_Cleaned184331_09102019.mat\n",
      "ExtractedWithXY_Cleaned144233_09112019.mat\n"
     ]
    }
   ],
   "source": [
    "results = {}\n",
    "for mat_file in mat_files:\n",
    "    print(mat_file)\n",
    "    f = h5py.File(\"data/\" + mat_file, 'r')\n",
    "    f = DataFile(f)\n",
    "    cache_idxs = np.zeros((f.cache_sites.size, f.num_neurs))\n",
    "    for idx in range(f.cache_sites.size):\n",
    "        cache_site = f.cache_sites[idx]\n",
    "        cache_frames = np.arange(f.cache_enters[idx], f.cache_exits[idx]).astype(int)\n",
    "        noncache_enters = f.noncache_enters[f.noncache_wedges == cache_site]\n",
    "        noncache_exits = f.noncache_exits[f.noncache_wedges == cache_site]\n",
    "        noncache_frames = [\n",
    "            np.arange(enter, exit).astype(int) for \\\n",
    "            enter, exit in zip(noncache_enters, noncache_exits)\n",
    "            ]\n",
    "        cache_idx = calc_cache_index(f.fr, cache_frames, noncache_frames)\n",
    "        significant = np.zeros(cache_idx.size)\n",
    "        for _ in range(110):\n",
    "            shuff_cache_frames, shuff_noncache_frames = shuffle_1darray_lists(\n",
    "                cache_frames, noncache_frames\n",
    "                )\n",
    "            shuff_cache_idx = calc_cache_index(\n",
    "                f.fr, shuff_cache_frames, shuff_noncache_frames\n",
    "                )\n",
    "            significant += (cache_idx > shuff_cache_idx)\n",
    "        significant = significant > 0.99*110\n",
    "        cache_idxs[idx,significant] = cache_idx[significant]\n",
    "    results[mat_file] = cache_idxs\n",
    "# with open(\"ci-visit-shuff-%d.p\"%window, \"wb\") as f:\n",
    "#     pickle.dump(results,f)"
   ]
  },
  {
   "cell_type": "code",
   "execution_count": 8,
   "metadata": {},
   "outputs": [
    {
     "name": "stdout",
     "output_type": "stream",
     "text": [
      "ExtractedWithXY_Cleaned184713_09102019.mat\n",
      "[ 1  2  4  5  6  7  9 11 12 14 15 17 18 20 21 22 23 25 26 27 29 32 34 35\n",
      " 38 40 41]\n",
      "Min: 0.79\n",
      "Max: 1.00\n"
     ]
    },
    {
     "data": {
      "image/png": "[encoded data removed]",
      "text/plain": [
       "<Figure size 432x288 with 1 Axes>"
      ]
     },
     "metadata": {
      "needs_background": "light"
     },
     "output_type": "display_data"
    },
    {
     "name": "stdout",
     "output_type": "stream",
     "text": [
      "\n",
      "ExtractedWithXY_Cleaned184430_09102019.mat\n",
      "[ 1  2  6  7 12 13 14 17 20 21 22 23 25 29 30 31 32 33 34 36 38 39 41 42\n",
      " 43 44 46]\n",
      "Min: 0.79\n",
      "Max: 1.00\n"
     ]
    },
    {
     "data": {
      "image/png": "[encoded data removed]",
      "text/plain": [
       "<Figure size 432x288 with 1 Axes>"
      ]
     },
     "metadata": {
      "needs_background": "light"
     },
     "output_type": "display_data"
    },
    {
     "name": "stdout",
     "output_type": "stream",
     "text": [
      "\n",
      "ExtractedWithXY_Cleaned184526_09102019.mat\n",
      "[ 2  3  4  5  6  7  8 11 12 13 14 15 17 18 20 21 23 26 29 30 31 33 35 38\n",
      " 39 42 43]\n",
      "Min: 0.81\n",
      "Max: 1.00\n"
     ]
    },
    {
     "data": {
      "image/png": "[encoded data removed]",
      "text/plain": [
       "<Figure size 432x288 with 1 Axes>"
      ]
     },
     "metadata": {
      "needs_background": "light"
     },
     "output_type": "display_data"
    },
    {
     "name": "stdout",
     "output_type": "stream",
     "text": [
      "\n",
      "ExtractedWithXY_Cleaned184946_09102019.mat\n",
      "[ 1  2  3  5  6  7  8  9 10 12 14 15 17 18 19 21 22 25 26 27 28 29 30 31\n",
      " 32 33 34 35 36 38 41 42 43 44 45 46 47 48 49 50 52 53 54 55 56 57 58 59\n",
      " 60 61]\n",
      "Min: 0.79\n",
      "Max: 1.00\n"
     ]
    },
    {
     "data": {
      "image/png": "[encoded data removed]",
      "text/plain": [
       "<Figure size 432x288 with 1 Axes>"
      ]
     },
     "metadata": {
      "needs_background": "light"
     },
     "output_type": "display_data"
    },
    {
     "name": "stdout",
     "output_type": "stream",
     "text": [
      "\n",
      "ExtractedWithXY_Cleaned185033_09102019.mat\n",
      "[ 0  2  4  5  7  8 10 11 15 18 19 20 22 24 25 26 27 29 31 32 33 34 35 39\n",
      " 40 42 45 46 47 48 49 50]\n",
      "Min: 0.87\n",
      "Max: 1.00\n"
     ]
    },
    {
     "data": {
      "image/png": "[encoded data removed]",
      "text/plain": [
       "<Figure size 432x288 with 1 Axes>"
      ]
     },
     "metadata": {
      "needs_background": "light"
     },
     "output_type": "display_data"
    },
    {
     "name": "stdout",
     "output_type": "stream",
     "text": [
      "\n",
      "ExtractedWithXY_Cleaned184331_09102019.mat\n",
      "[ 1  3  4  6 12 15 16 17 18 19 21 23 32 34 36 38 40 43]\n",
      "Min: 0.82\n",
      "Max: 1.00\n"
     ]
    },
    {
     "data": {
      "image/png": "[encoded data removed]",
      "text/plain": [
       "<Figure size 432x288 with 1 Axes>"
      ]
     },
     "metadata": {
      "needs_background": "light"
     },
     "output_type": "display_data"
    },
    {
     "name": "stdout",
     "output_type": "stream",
     "text": [
      "\n",
      "ExtractedWithXY_Cleaned144233_09112019.mat\n",
      "[ 1  3  5  7  8  9 11 12 13 14 16 18 19 20 21 22 23 24 25 29 30 31 32 33\n",
      " 34 36 38 39 43 44 45 46 48 49 51 53]\n",
      "Min: 0.83\n",
      "Max: 1.00\n"
     ]
    },
    {
     "data": {
      "image/png": "[encoded data removed]",
      "text/plain": [
       "<Figure size 432x288 with 1 Axes>"
      ]
     },
     "metadata": {
      "needs_background": "light"
     },
     "output_type": "display_data"
    },
    {
     "name": "stdout",
     "output_type": "stream",
     "text": [
      "\n",
      "Total Num: 217\n"
     ]
    }
   ],
   "source": [
    "total = 0\n",
    "for key1 in results.keys():\n",
    "    cache_idx_mat = results[key1]\n",
    "    neurs = np.argwhere(np.sum(cache_idx_mat, axis=0)>0).squeeze()\n",
    "    print(key1)\n",
    "    print(neurs)\n",
    "    print(\"Min: %1.2f\"%cache_idx_mat[cache_idx_mat > 0].min())\n",
    "    print(\"Max: %1.2f\"%cache_idx_mat.max())\n",
    "    plt.imshow(cache_idx_mat); plt.show()\n",
    "    print()\n",
    "    total += neurs.size\n",
    "print(\"Total Num: %d\"%total)"
   ]
  },
  {
   "cell_type": "markdown",
   "metadata": {},
   "source": [
    "## Calculating cache index matrix with agglomerated visits"
   ]
  },
  {
   "cell_type": "code",
   "execution_count": 7,
   "metadata": {},
   "outputs": [
    {
     "name": "stdout",
     "output_type": "stream",
     "text": [
      "ExtractedWithXY_Cleaned184713_09102019.mat\n",
      "ExtractedWithXY_Cleaned184430_09102019.mat\n",
      "ExtractedWithXY_Cleaned184526_09102019.mat\n",
      "ExtractedWithXY_Cleaned184946_09102019.mat\n",
      "ExtractedWithXY_Cleaned185033_09102019.mat\n",
      "ExtractedWithXY_Cleaned184331_09102019.mat\n",
      "ExtractedWithXY_Cleaned144233_09112019.mat\n"
     ]
    }
   ],
   "source": [
    "window = 30\n",
    "results = {}\n",
    "for mat_file in mat_files:\n",
    "    print(mat_file)\n",
    "    f = h5py.File(\"data/\" + mat_file, 'r')\n",
    "    wedges = np.array(f['whichWedge']).squeeze()\n",
    "    cache_sites = np.array(f['CacheSites']).squeeze()\n",
    "    pokes = np.array(f['CacheFrames']).squeeze().astype(int) - 1\n",
    "    enters = np.array(f['CacheFramesEnter']).squeeze().astype(int) - 1\n",
    "    exits = np.array(f['CacheFramesExit']).squeeze().astype(int) - 1\n",
    "    was_retrieval = np.array(f['ThisWasRetrieval']).squeeze().astype(bool)\n",
    "    spikes = np.array(f['S'])\n",
    "    fr = get_fr(spikes)\n",
    "    cache_idxs = np.zeros((np.unique(cache_sites).size, fr.shape[1]))\n",
    "    all_cache_frames, all_noncache_frames = get_cache_index_frames(\n",
    "        wedges, cache_sites, pokes, enters, exits,\n",
    "        fr, window\n",
    "        )    \n",
    "    for idx, cache_site in enumerate(np.unique(cache_sites)):\n",
    "        cache_frames, _ = get_poke_centered_frames(\n",
    "            window, wedges,\n",
    "            cache_site, cache_sites,\n",
    "            pokes, enters, exits\n",
    "            )\n",
    "        noncache_frames = all_noncache_frames[cache_site]\n",
    "        cache_idx = calc_cache_index(fr, cache_frames, noncache_frames)\n",
    "        significant = np.zeros(cache_idx.size)\n",
    "        for _ in range(110):\n",
    "            shuff_cache_frames, shuff_noncache_frames = shuffle_1darray_lists(\n",
    "                cache_frames, noncache_frames\n",
    "                )\n",
    "            shuff_cache_idx = calc_cache_index(\n",
    "                fr, shuff_cache_frames, shuff_noncache_frames\n",
    "                )\n",
    "            significant += (cache_idx > shuff_cache_idx)\n",
    "        significant = significant > 0.99*110\n",
    "        cache_idxs[idx,significant] = cache_idx[significant]        \n",
    "    results[mat_file] = cache_idxs\n",
    "with open(\"ci-agglom-shuff-%d.p\"%window, \"wb\") as f:\n",
    "    pickle.dump(results,f)"
   ]
  },
  {
   "cell_type": "code",
   "execution_count": 9,
   "metadata": {},
   "outputs": [
    {
     "name": "stdout",
     "output_type": "stream",
     "text": [
      "ExtractedWithXY_Cleaned184713_09102019.mat\n",
      "[ 1  2  6  7  9 14 17 18 21 22 25 29 34 38 41]\n"
     ]
    },
    {
     "data": {
      "image/png": "[encoded data removed]",
      "text/plain": [
       "<Figure size 432x288 with 1 Axes>"
      ]
     },
     "metadata": {
      "needs_background": "light"
     },
     "output_type": "display_data"
    },
    {
     "name": "stdout",
     "output_type": "stream",
     "text": [
      "\n",
      "ExtractedWithXY_Cleaned184430_09102019.mat\n",
      "[ 1  6  7  8 12 13 14 23 24 27 30 31 33 36 39]\n"
     ]
    },
    {
     "data": {
      "image/png": "[encoded data removed]",
      "text/plain": [
       "<Figure size 432x288 with 1 Axes>"
      ]
     },
     "metadata": {
      "needs_background": "light"
     },
     "output_type": "display_data"
    },
    {
     "name": "stdout",
     "output_type": "stream",
     "text": [
      "\n",
      "ExtractedWithXY_Cleaned184526_09102019.mat\n",
      "[ 3  4  5  7  8 13 15 17 20 21 23 31 35 38 39 42 43]\n"
     ]
    },
    {
     "data": {
      "image/png": "[encoded data removed]",
      "text/plain": [
       "<Figure size 432x288 with 1 Axes>"
      ]
     },
     "metadata": {
      "needs_background": "light"
     },
     "output_type": "display_data"
    },
    {
     "name": "stdout",
     "output_type": "stream",
     "text": [
      "\n",
      "ExtractedWithXY_Cleaned184946_09102019.mat\n",
      "[ 1  3  5  6 17 18 19 21 22 26 27 28 30 31 33 35 36 37 38 40 41 44 46 47\n",
      " 48 49 50 52 53 56]\n"
     ]
    },
    {
     "data": {
      "image/png": "[encoded data removed]",
      "text/plain": [
       "<Figure size 432x288 with 1 Axes>"
      ]
     },
     "metadata": {
      "needs_background": "light"
     },
     "output_type": "display_data"
    },
    {
     "name": "stdout",
     "output_type": "stream",
     "text": [
      "\n",
      "ExtractedWithXY_Cleaned185033_09102019.mat\n",
      "[ 2  8 10 11 18 19 20 21 27 28 32 35 42 46 47 49 50]\n"
     ]
    },
    {
     "data": {
      "image/png": "[encoded data removed]",
      "text/plain": [
       "<Figure size 432x288 with 1 Axes>"
      ]
     },
     "metadata": {
      "needs_background": "light"
     },
     "output_type": "display_data"
    },
    {
     "name": "stdout",
     "output_type": "stream",
     "text": [
      "\n",
      "ExtractedWithXY_Cleaned184331_09102019.mat\n",
      "[ 6 14 18 32 34 36 37 38 40]\n"
     ]
    },
    {
     "data": {
      "image/png": "[encoded data removed]",
      "text/plain": [
       "<Figure size 432x288 with 1 Axes>"
      ]
     },
     "metadata": {
      "needs_background": "light"
     },
     "output_type": "display_data"
    },
    {
     "name": "stdout",
     "output_type": "stream",
     "text": [
      "\n",
      "ExtractedWithXY_Cleaned144233_09112019.mat\n",
      "[ 7  9 11 12 13 14 19 20 22 23 30 31 32 33 36 45 46 49 53]\n"
     ]
    },
    {
     "data": {
      "image/png": "[encoded data removed]",
      "text/plain": [
       "<Figure size 432x288 with 1 Axes>"
      ]
     },
     "metadata": {
      "needs_background": "light"
     },
     "output_type": "display_data"
    },
    {
     "name": "stdout",
     "output_type": "stream",
     "text": [
      "\n",
      "Total Num: 122\n"
     ]
    }
   ],
   "source": [
    "total = 0\n",
    "for key1 in results.keys():\n",
    "    cache_idx_mat = results[key1]\n",
    "    neurs = np.argwhere(np.sum(cache_idx_mat, axis=0)>0.95).squeeze()\n",
    "    print(key1)\n",
    "    print(neurs)\n",
    "#     print(\"Min: %1.2f\"%cache_idx_mat[cache_idx_mat > 0].min())\n",
    "#     print(\"Max: %1.2f\"%cache_idx_mat.max())\n",
    "    plt.imshow(cache_idx_mat); plt.show()\n",
    "    print()\n",
    "    total += neurs.size\n",
    "print(\"Total Num: %d\"%total)"
   ]
  },
  {
   "cell_type": "code",
   "execution_count": 13,
   "metadata": {},
   "outputs": [],
   "source": [
    "f = h5py.File(\"data/\" + mat_files[-2], 'r')\n",
    "f = DataFile(f)"
   ]
  },
  {
   "cell_type": "code",
   "execution_count": 14,
   "metadata": {},
   "outputs": [
    {
     "data": {
      "text/plain": [
       "array([ 6.,  6.,  3.,  3.,  1.,  1., 10., 10., 10., 10.])"
      ]
     },
     "execution_count": 14,
     "metadata": {},
     "output_type": "execute_result"
    }
   ],
   "source": [
    "f.cache_sites"
   ]
  },
  {
   "cell_type": "code",
   "execution_count": 16,
   "metadata": {},
   "outputs": [
    {
     "data": {
      "text/plain": [
       "22.5"
      ]
     },
     "execution_count": 16,
     "metadata": {},
     "output_type": "execute_result"
    }
   ],
   "source": [
    "((1/16)*2*pi)*180/pi"
   ]
  },
  {
   "cell_type": "code",
   "execution_count": 17,
   "metadata": {},
   "outputs": [
    {
     "data": {
      "text/plain": [
       "67.5"
      ]
     },
     "execution_count": 17,
     "metadata": {},
     "output_type": "execute_result"
    }
   ],
   "source": [
    "((3/16)*2*pi)*180/pi"
   ]
  },
  {
   "cell_type": "code",
   "execution_count": 18,
   "metadata": {},
   "outputs": [
    {
     "data": {
      "text/plain": [
       "135.0"
      ]
     },
     "execution_count": 18,
     "metadata": {},
     "output_type": "execute_result"
    }
   ],
   "source": [
    "((6/16)*2*pi)*180/pi"
   ]
  },
  {
   "cell_type": "code",
   "execution_count": 19,
   "metadata": {},
   "outputs": [
    {
     "data": {
      "text/plain": [
       "225.0"
      ]
     },
     "execution_count": 19,
     "metadata": {},
     "output_type": "execute_result"
    }
   ],
   "source": [
    "((10/16)*2*pi)*180/pi"
   ]
  },
  {
   "cell_type": "code",
   "execution_count": null,
   "metadata": {},
   "outputs": [],
   "source": []
  }
 ],
 "metadata": {
  "kernelspec": {
   "display_name": "Python 3",
   "language": "python",
   "name": "python3"
  },
  "language_info": {
   "codemirror_mode": {
    "name": "ipython",
    "version": 3
   },
   "file_extension": ".py",
   "mimetype": "text/x-python",
   "name": "python",
   "nbconvert_exporter": "python",
   "pygments_lexer": "ipython3",
   "version": "3.7.6"
  }
 },
 "nbformat": 4,
 "nbformat_minor": 4
}
