{
 "cells": [
  {
   "cell_type": "code",
   "execution_count": 3,
   "metadata": {},
   "outputs": [],
   "source": [
    "import pickle\n",
    "import numpy as np\n",
    "import pandas as pd\n",
    "import matplotlib.pyplot as plt\n",
    "import matplotlib.cm as cm\n",
    "import seaborn as sns\n",
    "import h5py\n",
    "from math import pi\n",
    "from scipy.stats import zscore\n",
    "\n",
    "from analysis.config import birds, h5_path_dict, pickle_dir\n",
    "from analysis.ExpData import ExpData\n",
    "from analysis.utils import get_fr"
   ]
  },
  {
   "cell_type": "markdown",
   "metadata": {},
   "source": [
    "# Collect population patterns and save into pickle file\n",
    "Hop patterns are (hops, neurs, frames) size"
   ]
  },
  {
   "cell_type": "markdown",
   "metadata": {},
   "source": [
    "### Parameters"
   ]
  },
  {
   "cell_type": "code",
   "execution_count": 4,
   "metadata": {},
   "outputs": [],
   "source": [
    "window = int(20*10)\n",
    "fr_smoothing_window = int(20*0.25)\n",
    "l2_normalization = True\n",
    "min_hop_gap = 20\n",
    "pfile_name = \"population_patterns_checks_long_withdash.p\""
   ]
  },
  {
   "cell_type": "markdown",
   "metadata": {},
   "source": [
    "### Data formatting"
   ]
  },
  {
   "cell_type": "code",
   "execution_count": 5,
   "metadata": {
    "code_folding": [
     1
    ],
    "scrolled": true
   },
   "outputs": [
    {
     "name": "stderr",
     "output_type": "stream",
     "text": [
      "/home/chingf/anaconda3/envs/analysis-env/lib/python3.7/site-packages/ipykernel_launcher.py:14: RuntimeWarning: invalid value encountered in true_divide\n",
      "  \n"
     ]
    }
   ],
   "source": [
    "data = {}\n",
    "for key in h5_path_dict.keys():\n",
    "    for fil in range(len(h5_path_dict[key])):\n",
    "        fil_string = h5_path_dict[key][fil].as_posix()\n",
    "        f = h5py.File(fil_string, 'r')\n",
    "        exp_data = ExpData(f, min_hop_gap=min_hop_gap)\n",
    "        data[fil_string] = {}\n",
    "        c_hops, r_hops, ch_hops, noncrch_hops = exp_data.get_crch_hops()\n",
    "        hop_windows = exp_data.get_hop_windows(window)\n",
    "        fr = get_fr(exp_data.spikes, fr_smoothing_window)\n",
    "        if l2_normalization:\n",
    "            scaling = np.square(np.linalg.norm(fr, axis=1))\n",
    "            #scaling = np.linalg.norm(fr, axis=1)\n",
    "            fr /= scaling[:, None]\n",
    "            fr[np.isnan(fr)] = 0\n",
    "        hop_patterns = np.zeros(\n",
    "            (hop_windows.shape[0], exp_data.num_neurs, window*2 + 1)\n",
    "            )\n",
    "        hop_details = np.zeros((hop_windows.shape[0], 4)) # start, peak, end, len\n",
    "        for i, hop in enumerate(hop_windows):\n",
    "            hop_pattern = fr[:, hop]\n",
    "            hop_pattern[:, hop == -1] = np.nan\n",
    "            hop_patterns[i] = hop_pattern\n",
    "            hop_details[i, 0] = exp_data.hop_starts[i] - hop[0]\n",
    "            hop_details[i, 1] = exp_data.hops[i] - hop[0]\n",
    "            hop_details[i, 2] = exp_data.hop_ends[i] - hop[0]\n",
    "            hop_details[i, 3] = exp_data.hop_ends[i] - exp_data.hop_starts[i]\n",
    "        data[fil_string]['c_hops'] = c_hops\n",
    "        data[fil_string]['r_hops'] = r_hops\n",
    "        data[fil_string]['ch_hops'] = ch_hops\n",
    "        data[fil_string]['noncrch_hops'] = noncrch_hops\n",
    "        data[fil_string]['fr'] = fr\n",
    "        data[fil_string]['hop_patterns'] = hop_patterns\n",
    "        data[fil_string]['hop_times'] = hop_windows\n",
    "        data[fil_string]['hop_details'] = hop_details\n",
    "    data[\"window\"] = window\n",
    "    data[\"fr_smoothing_window\"] = fr_smoothing_window\n",
    "    data[\"l2_normalization\"] = l2_normalization\n",
    "    data[\"min_hop_gap\"] = min_hop_gap\n",
    "with open(pickle_dir / pfile_name, 'wb') as f: \n",
    "    pickle.dump(data, f)"
   ]
  },
  {
   "cell_type": "code",
   "execution_count": null,
   "metadata": {},
   "outputs": [],
   "source": []
  }
 ],
 "metadata": {
  "kernelspec": {
   "display_name": "Python 3",
   "language": "python",
   "name": "python3"
  },
  "language_info": {
   "codemirror_mode": {
    "name": "ipython",
    "version": 3
   },
   "file_extension": ".py",
   "mimetype": "text/x-python",
   "name": "python",
   "nbconvert_exporter": "python",
   "pygments_lexer": "ipython3",
   "version": "3.7.6"
  }
 },
 "nbformat": 4,
 "nbformat_minor": 4
}
