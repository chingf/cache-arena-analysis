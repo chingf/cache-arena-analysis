{
 "cells": [
  {
   "cell_type": "code",
   "execution_count": 1,
   "metadata": {},
   "outputs": [],
   "source": [
    "import pickle\n",
    "import numpy as np\n",
    "import pandas as pd\n",
    "import matplotlib.pyplot as plt\n",
    "import matplotlib.cm as cm\n",
    "import seaborn as sns\n",
    "import h5py\n",
    "from math import pi\n",
    "\n",
    "from analysis.config import birds, h5_path_dict, pickle_dir\n",
    "from analysis.ExpData import ExpData\n",
    "from analysis.PlaceCalc import PlaceCalc"
   ]
  },
  {
   "cell_type": "code",
   "execution_count": 3,
   "metadata": {},
   "outputs": [
    {
     "name": "stderr",
     "output_type": "stream",
     "text": [
      "/home/chingf/Code/cache-arena-analysis/analysis/tuning_measures/mutual_info.py:20: RuntimeWarning: divide by zero encountered in log2\n",
      "  log_term = np.log2(condn_mean_fr/mean_fr)\n",
      "/home/chingf/Code/cache-arena-analysis/analysis/tuning_measures/mutual_info.py:20: RuntimeWarning: invalid value encountered in true_divide\n",
      "  log_term = np.log2(condn_mean_fr/mean_fr)\n",
      "/home/chingf/Code/cache-arena-analysis/analysis/PlaceCalc.py:33: RuntimeWarning: invalid value encountered in true_divide\n",
      "  spatial_info /= shuffled_spatial_info\n"
     ]
    }
   ],
   "source": [
    "data = {}\n",
    "place_calc = PlaceCalc(\n",
    "    num_shuffles=200, threshold=0.99, dimension=1, bins_2d=None\n",
    "    )\n",
    "for key in h5_path_dict.keys():\n",
    "    for fil in range(len(h5_path_dict[key])):\n",
    "        fil_string = h5_path_dict[key][fil].as_posix()\n",
    "        f = h5py.File(fil_string, 'r')\n",
    "        exp_data = ExpData(f)\n",
    "        data[fil_string] = {}\n",
    "        spatial_info, significance_1d = place_calc.calc_place_cells(exp_data)\n",
    "        data[fil_string]['spatial_info'] = spatial_info\n",
    "        data[fil_string]['significance'] = significance_1d\n",
    "with open(pickle_dir / 'place_cells_1d.p', 'wb') as f: \n",
    "    pickle.dump(data, f)"
   ]
  },
  {
   "cell_type": "code",
   "execution_count": null,
   "metadata": {},
   "outputs": [],
   "source": []
  }
 ],
 "metadata": {
  "kernelspec": {
   "display_name": "Python 3",
   "language": "python",
   "name": "python3"
  },
  "language_info": {
   "codemirror_mode": {
    "name": "ipython",
    "version": 3
   },
   "file_extension": ".py",
   "mimetype": "text/x-python",
   "name": "python",
   "nbconvert_exporter": "python",
   "pygments_lexer": "ipython3",
   "version": "3.7.6"
  }
 },
 "nbformat": 4,
 "nbformat_minor": 4
}
