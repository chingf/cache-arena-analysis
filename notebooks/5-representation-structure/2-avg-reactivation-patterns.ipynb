{
 "cells": [
  {
   "cell_type": "code",
   "execution_count": 8,
   "metadata": {},
   "outputs": [],
   "source": [
    "import pickle\n",
    "import numpy as np\n",
    "import pandas as pd\n",
    "import matplotlib.pyplot as plt\n",
    "import matplotlib.cm as cm\n",
    "import seaborn as sns\n",
    "import h5py\n",
    "from math import pi\n",
    "from scipy.stats import zscore\n",
    "\n",
    "from analysis.config import birds, h5_path_dict, pickle_dir\n",
    "from analysis.ExpData import ExpData\n",
    "from analysis.utils import get_fr, popln_overlap"
   ]
  },
  {
   "cell_type": "code",
   "execution_count": 2,
   "metadata": {},
   "outputs": [],
   "source": [
    "with open(pickle_dir / 'population_patterns_checks.p', 'rb') as f: \n",
    "    population_patterns = pickle.load(f)"
   ]
  },
  {
   "cell_type": "code",
   "execution_count": 102,
   "metadata": {},
   "outputs": [],
   "source": [
    "with open(pickle_dir / 'place_cells_1d.p', 'rb') as f:\n",
    "    place_cells = pickle.load(f)"
   ]
  },
  {
   "cell_type": "code",
   "execution_count": 114,
   "metadata": {},
   "outputs": [],
   "source": [
    "to_pop = []\n",
    "for k in population_patterns.keys():\n",
    "    if \"LMN\" not in k:\n",
    "        to_pop.append(k)\n",
    "for k in to_pop:\n",
    "    population_patterns.pop(k)"
   ]
  },
  {
   "cell_type": "code",
   "execution_count": 117,
   "metadata": {},
   "outputs": [],
   "source": [
    "all_keys = [k for k in population_patterns.keys()]"
   ]
  },
  {
   "cell_type": "code",
   "execution_count": 118,
   "metadata": {},
   "outputs": [
    {
     "data": {
      "text/plain": [
       "12"
      ]
     },
     "execution_count": 118,
     "metadata": {},
     "output_type": "execute_result"
    }
   ],
   "source": [
    "len(all_keys)"
   ]
  },
  {
   "cell_type": "code",
   "execution_count": 154,
   "metadata": {},
   "outputs": [],
   "source": [
    "exp_key = all_keys[2]"
   ]
  },
  {
   "cell_type": "code",
   "execution_count": 155,
   "metadata": {},
   "outputs": [
    {
     "name": "stdout",
     "output_type": "stream",
     "text": [
      "This experiment has 31 neurons\n"
     ]
    }
   ],
   "source": [
    "f = h5py.File(exp_key, 'r')\n",
    "exp_data = ExpData(f)\n",
    "c_hops = population_patterns[exp_key]['c_hops']\n",
    "r_hops = population_patterns[exp_key]['r_hops']\n",
    "ch_hops = population_patterns[exp_key]['ch_hops']\n",
    "noncrch_hops = population_patterns[exp_key]['noncrch_hops']\n",
    "hop_patterns = population_patterns[exp_key]['hop_patterns']\n",
    "print(f\"This experiment has {exp_data.num_neurs} neurons\")"
   ]
  },
  {
   "cell_type": "code",
   "execution_count": 156,
   "metadata": {},
   "outputs": [],
   "source": [
    "pl_mean_fr = place_cells[exp_key]['mean_fr']\n",
    "pl_tuning_sorting = np.argsort(np.argmax(pl_mean_fr, axis=1))"
   ]
  },
  {
   "cell_type": "markdown",
   "metadata": {},
   "source": [
    "## Gather Nav v Nav patterns"
   ]
  },
  {
   "cell_type": "code",
   "execution_count": 164,
   "metadata": {
    "code_folding": [
     0
    ]
   },
   "outputs": [
    {
     "name": "stderr",
     "output_type": "stream",
     "text": [
      "/home/chingf/anaconda3/envs/analysis-env/lib/python3.7/site-packages/ipykernel_launcher.py:22: RuntimeWarning: All-NaN slice encountered\n"
     ]
    }
   ],
   "source": [
    "# Collect average pattern\n",
    "nav_patterns = [[] for _ in range(16)]\n",
    "nav_overlaps = [] # For validation\n",
    "for i, noncrch1_hop in enumerate(noncrch_hops):\n",
    "    noncrch1_site = exp_data.hop_end_wedges[noncrch1_hop] - 1\n",
    "    if noncrch1_site == 16: continue\n",
    "    if exp_data.cache_present[noncrch1_hop, noncrch1_site]: continue\n",
    "    noncrch1_pattern_mat = hop_patterns[noncrch1_hop]\n",
    "    for j, noncrch2_hop in enumerate(noncrch_hops):\n",
    "        if j <= i: continue\n",
    "        overlaps = []\n",
    "        noncrch2_site = exp_data.hop_end_wedges[noncrch2_hop] - 1\n",
    "        if noncrch2_site != noncrch1_site: continue\n",
    "        if exp_data.cache_present[noncrch2_hop, noncrch2_site]: continue\n",
    "        navig2_pattern_mat = hop_patterns[noncrch2_hop]\n",
    "        overlaps = []\n",
    "        overlap_patterns = []\n",
    "        for navig2_pattern in navig2_pattern_mat.T:\n",
    "            nav1_nav2_overlap = popln_overlap(\n",
    "                noncrch1_pattern_mat, navig2_pattern\n",
    "                )\n",
    "            max_val = np.nanmax(nav1_nav2_overlap)\n",
    "            if not np.isnan(max_val):\n",
    "                max_idx = np.nanargmax(nav1_nav2_overlap)\n",
    "                overlaps.append(max_val)\n",
    "                overlap_patterns.append(\n",
    "                    np.mean((noncrch1_pattern_mat[:,max_idx], navig2_pattern), axis=0)\n",
    "                    )\n",
    "        if len(overlaps) > 0:\n",
    "            max_overlap = np.nanmax(overlaps)\n",
    "            max_idx = np.nanargmax(overlaps)\n",
    "            max_pattern = overlap_patterns[max_idx]\n",
    "            nav_overlaps.append(max_overlap)\n",
    "            nav_patterns[noncrch1_site].append(max_pattern)\n",
    "nav_patterns = [np.mean(n_p, axis=0) for n_p in nav_patterns]\n",
    "nav_patterns = np.array(nav_patterns)\n",
    "nav_overlaps = np.array(nav_overlaps)\n",
    "norm_nav_patterns = nav_patterns/np.sum(nav_patterns, axis=1)[:,None]\n",
    "norm_nav_patterns[np.isnan(norm_nav_patterns)] = 0\n",
    "nav_sorting = np.argsort(np.argmax(norm_nav_patterns, axis=0))"
   ]
  },
  {
   "cell_type": "code",
   "execution_count": 165,
   "metadata": {
    "code_folding": [
     0
    ]
   },
   "outputs": [
    {
     "data": {
      "image/png": "[encoded data removed]",
      "text/plain": [
       "<Figure size 720x360 with 1 Axes>"
      ]
     },
     "metadata": {
      "needs_background": "light"
     },
     "output_type": "display_data"
    }
   ],
   "source": [
    "# Sort by reactivated nav pattern\n",
    "plt.figure(figsize=(10,5))\n",
    "plt.imshow(norm_nav_patterns[:,nav_sorting])\n",
    "plt.xlabel(\"Neuron\")\n",
    "plt.ylabel(\"Site\")\n",
    "plt.title(\"Mean Reactivated Navigation Pattern\\nSorted by Reactivation\", fontsize=14)\n",
    "plt.show()"
   ]
  },
  {
   "cell_type": "code",
   "execution_count": 166,
   "metadata": {
    "code_folding": [
     0
    ]
   },
   "outputs": [
    {
     "data": {
      "image/png": "[encoded data removed]",
      "text/plain": [
       "<Figure size 720x360 with 1 Axes>"
      ]
     },
     "metadata": {
      "needs_background": "light"
     },
     "output_type": "display_data"
    }
   ],
   "source": [
    "# Sort by place tuning\n",
    "plt.figure(figsize=(10,5))\n",
    "plt.imshow(norm_nav_patterns[:,pl_tuning_sorting])\n",
    "plt.xlabel(\"Neuron\")\n",
    "plt.ylabel(\"Site\")\n",
    "plt.title(\"Mean Reactivated Navigation Pattern\\nSorted by Place Tuning\", fontsize=14)\n",
    "plt.show()"
   ]
  },
  {
   "cell_type": "markdown",
   "metadata": {},
   "source": [
    "## Gather Cache v Retriev patterns"
   ]
  },
  {
   "cell_type": "code",
   "execution_count": 160,
   "metadata": {
    "code_folding": [
     0
    ]
   },
   "outputs": [
    {
     "name": "stderr",
     "output_type": "stream",
     "text": [
      "/home/chingf/anaconda3/envs/analysis-env/lib/python3.7/site-packages/ipykernel_launcher.py:31: RuntimeWarning: Mean of empty slice\n",
      "/home/chingf/anaconda3/envs/analysis-env/lib/python3.7/site-packages/ipykernel_launcher.py:37: RuntimeWarning: invalid value encountered in true_divide\n"
     ]
    }
   ],
   "source": [
    "# Collect average pattern\n",
    "cache_patterns = [[] for _ in range(16)]\n",
    "cache_overlaps = [] # For validation\n",
    "\n",
    "for i, c_hop in enumerate(c_hops):\n",
    "    c_site = int(exp_data.event_sites[exp_data.cache_event][i]) - 1\n",
    "    cache_pattern_mat = hop_patterns[c_hop]\n",
    "    for j, r_hop in enumerate(r_hops):\n",
    "        r_site = int(exp_data.event_sites[exp_data.retriev_event][j]) - 1\n",
    "        if c_site != r_site: continue\n",
    "        retriev_pattern_mat = hop_patterns[r_hop]\n",
    "        overlaps = []\n",
    "        for retriev_pattern in retriev_pattern_mat.T:\n",
    "            cache_retriev_overlap = popln_overlap(\n",
    "                cache_pattern_mat, retriev_pattern\n",
    "                )\n",
    "            max_val = np.nanmax(cache_retriev_overlap)\n",
    "            if not np.isnan(max_val):\n",
    "                overlaps.append(max_val)\n",
    "                max_idx = np.nanargmax(cache_retriev_overlap)\n",
    "                overlaps.append(max_val)\n",
    "                overlap_patterns.append(\n",
    "                    np.mean((cache_pattern_mat[:,max_idx], retriev_pattern), axis=0)\n",
    "                    )\n",
    "        if len(overlaps) > 0:\n",
    "            max_overlap = np.nanmax(overlaps)\n",
    "            max_idx = np.nanargmax(overlaps)\n",
    "            max_pattern = overlap_patterns[max_idx]\n",
    "            cache_overlaps.append(max_overlap)\n",
    "            cache_patterns[c_site].append(max_pattern)\n",
    "cache_patterns = [np.nanmean(n_p, axis=0) for n_p in cache_patterns]\n",
    "for i in range(16):\n",
    "    if np.any(np.isnan(cache_patterns[i])):\n",
    "        cache_patterns[i] = np.zeros(exp_data.num_neurs)\n",
    "cache_patterns = np.array(cache_patterns)\n",
    "cache_overlaps = np.array(cache_overlaps)\n",
    "norm_cache_patterns = cache_patterns/np.sum(cache_patterns, axis=1)[:,None]\n",
    "norm_cache_patterns[np.isnan(norm_cache_patterns)] = 0"
   ]
  },
  {
   "cell_type": "code",
   "execution_count": 167,
   "metadata": {
    "code_folding": [
     0
    ]
   },
   "outputs": [
    {
     "data": {
      "image/png": "[encoded data removed]",
      "text/plain": [
       "<Figure size 720x360 with 1 Axes>"
      ]
     },
     "metadata": {
      "needs_background": "light"
     },
     "output_type": "display_data"
    }
   ],
   "source": [
    "# Sort by reactivated nav pattern\n",
    "plt.figure(figsize=(10,5))\n",
    "plt.imshow(norm_cache_patterns[:,nav_sorting])\n",
    "plt.xlabel(\"Neuron\")\n",
    "plt.ylabel(\"Site\")\n",
    "plt.title(\"Mean Reactivated Cache Pattern\", fontsize=14)\n",
    "plt.show()"
   ]
  },
  {
   "cell_type": "markdown",
   "metadata": {},
   "source": [
    "## Gather Full Check v Retriev patterns"
   ]
  },
  {
   "cell_type": "code",
   "execution_count": 162,
   "metadata": {
    "code_folding": [
     0
    ]
   },
   "outputs": [
    {
     "name": "stderr",
     "output_type": "stream",
     "text": [
      "/home/chingf/anaconda3/envs/analysis-env/lib/python3.7/site-packages/ipykernel_launcher.py:33: RuntimeWarning: Mean of empty slice\n",
      "/home/chingf/anaconda3/envs/analysis-env/lib/python3.7/site-packages/ipykernel_launcher.py:39: RuntimeWarning: invalid value encountered in true_divide\n"
     ]
    }
   ],
   "source": [
    "# Collect average pattern\n",
    "check_patterns = [[] for _ in range(16)]\n",
    "check_overlaps = [] # For validation\n",
    "\n",
    "for i, ch_hop in enumerate(ch_hops):\n",
    "    ch_site = int(exp_data.event_sites[exp_data.check_event][i]) - 1\n",
    "    check_pattern_mat = hop_patterns[ch_hop]\n",
    "    if not exp_data.cache_present[ch_hop, ch_site]: continue\n",
    "    for j, r_hop in enumerate(r_hops):\n",
    "        if ch_hop == r_hop: continue\n",
    "        r_site = int(exp_data.event_sites[exp_data.retriev_event][j]) - 1\n",
    "        if ch_site != r_site: continue\n",
    "        retriev_pattern_mat = hop_patterns[r_hop]\n",
    "        overlaps = []\n",
    "        for retriev_pattern in retriev_pattern_mat.T:\n",
    "            check_retriev_overlap = popln_overlap(\n",
    "                check_pattern_mat, retriev_pattern\n",
    "                )\n",
    "            max_val = np.nanmax(check_retriev_overlap)\n",
    "            if not np.isnan(max_val):\n",
    "                overlaps.append(max_val)\n",
    "                max_idx = np.nanargmax(check_retriev_overlap)\n",
    "                overlaps.append(max_val)\n",
    "                overlap_patterns.append(\n",
    "                    np.mean((check_pattern_mat[:,max_idx], retriev_pattern), axis=0)\n",
    "                    )\n",
    "        if len(overlaps) > 0:\n",
    "            max_overlap = np.nanmax(overlaps)\n",
    "            max_idx = np.nanargmax(overlaps)\n",
    "            max_pattern = overlap_patterns[max_idx]\n",
    "            check_overlaps.append(max_overlap)\n",
    "            check_patterns[ch_site].append(max_pattern)\n",
    "check_patterns = [np.nanmean(n_p, axis=0) for n_p in check_patterns]\n",
    "for i in range(16):\n",
    "    if np.any(np.isnan(check_patterns[i])):\n",
    "        check_patterns[i] = np.zeros(exp_data.num_neurs)\n",
    "check_patterns = np.array(check_patterns)\n",
    "check_overlaps = np.array(check_overlaps)\n",
    "norm_check_patterns = check_patterns/np.sum(check_patterns, axis=1)[:,None]\n",
    "norm_check_patterns[np.isnan(norm_check_patterns)] = 0"
   ]
  },
  {
   "cell_type": "code",
   "execution_count": 163,
   "metadata": {
    "code_folding": [
     0
    ]
   },
   "outputs": [
    {
     "data": {
      "image/png": "[encoded data removed]",
      "text/plain": [
       "<Figure size 720x360 with 1 Axes>"
      ]
     },
     "metadata": {
      "needs_background": "light"
     },
     "output_type": "display_data"
    }
   ],
   "source": [
    "# Sort by reactivated nav pattern\n",
    "plt.figure(figsize=(10,5))\n",
    "plt.imshow(norm_check_patterns[:,nav_sorting])\n",
    "plt.xlabel(\"Neuron\")\n",
    "plt.ylabel(\"Site\")\n",
    "plt.title(\"Mean Reactivated Pattern\")\n",
    "plt.show()"
   ]
  },
  {
   "cell_type": "code",
   "execution_count": null,
   "metadata": {},
   "outputs": [],
   "source": []
  }
 ],
 "metadata": {
  "kernelspec": {
   "display_name": "Python 3",
   "language": "python",
   "name": "python3"
  },
  "language_info": {
   "codemirror_mode": {
    "name": "ipython",
    "version": 3
   },
   "file_extension": ".py",
   "mimetype": "text/x-python",
   "name": "python",
   "nbconvert_exporter": "python",
   "pygments_lexer": "ipython3",
   "version": "3.7.6"
  }
 },
 "nbformat": 4,
 "nbformat_minor": 4
}
