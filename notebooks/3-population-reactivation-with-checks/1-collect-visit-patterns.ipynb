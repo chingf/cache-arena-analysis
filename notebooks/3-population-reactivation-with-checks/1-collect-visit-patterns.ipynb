{
 "cells": [
  {
   "cell_type": "code",
   "execution_count": 2,
   "metadata": {},
   "outputs": [],
   "source": [
    "import pickle\n",
    "import numpy as np\n",
    "import pandas as pd\n",
    "import matplotlib.pyplot as plt\n",
    "import matplotlib.cm as cm\n",
    "import seaborn as sns\n",
    "import h5py\n",
    "from math import pi\n",
    "from scipy.stats import zscore\n",
    "\n",
    "from analysis.config import birds, h5_path_dict, pickle_dir\n",
    "from analysis.ExpData import ExpData\n",
    "from analysis.utils import get_fr"
   ]
  },
  {
   "cell_type": "markdown",
   "metadata": {},
   "source": [
    "# Collect population patterns and save into pickle file\n",
    "Hop patterns are (hops, neurs, frames) size"
   ]
  },
  {
   "cell_type": "markdown",
   "metadata": {},
   "source": [
    "### Parameters"
   ]
  },
  {
   "cell_type": "code",
   "execution_count": 3,
   "metadata": {},
   "outputs": [],
   "source": [
    "window = int(20*2)\n",
    "fr_smoothing_window = int(20*0.25)\n",
    "l2_normalization = True\n",
    "pfile_name = \"population_patterns_checks.p\""
   ]
  },
  {
   "cell_type": "markdown",
   "metadata": {},
   "source": [
    "### Data formatting"
   ]
  },
  {
   "cell_type": "code",
   "execution_count": null,
   "metadata": {
    "code_folding": [],
    "scrolled": true
   },
   "outputs": [],
   "source": [
    "data = {}\n",
    "for key in h5_path_dict.keys():\n",
    "    for fil in range(len(h5_path_dict[key])):\n",
    "        fil_string = h5_path_dict[key][fil].as_posix()\n",
    "        print(fil_string)\n",
    "        f = h5py.File(fil_string, 'r')\n",
    "        exp_data = ExpData(f)\n",
    "        data[fil_string] = {}\n",
    "        c_hops, r_hops, ch_hops, noncrch_hops = exp_data.get_crch_hops()\n",
    "        import pdb; pdb.set_trace()\n",
    "        hop_windows = exp_data.get_hop_windows(window)\n",
    "        fr = get_fr(exp_data.spikes, fr_smoothing_window)\n",
    "        if l2_normalization:\n",
    "            scaling = np.square(np.linalg.norm(fr, axis=1))\n",
    "            #scaling = np.linalg.norm(fr, axis=1)\n",
    "            fr /= scaling[:, None]\n",
    "            fr[np.isnan(fr)] = 0\n",
    "        hop_patterns = np.zeros(\n",
    "            (hop_windows.shape[0], exp_data.num_neurs, window*2 + 1)\n",
    "            )\n",
    "        for i, hop in enumerate(hop_windows):\n",
    "            hop_pattern = fr[:, hop]\n",
    "            hop_pattern[:, hop == -1] = np.nan\n",
    "            hop_patterns[i] = hop_pattern            \n",
    "        data[fil_string]['c_hops'] = c_hops\n",
    "        data[fil_string]['r_hops'] = r_hops\n",
    "        data[fil_string]['ch_hops'] = ch_hops\n",
    "        data[fil_string]['noncrch_hops'] = noncrch_hops\n",
    "        data[fil_string]['fr'] = fr\n",
    "        data[fil_string]['hop_patterns'] = hop_patterns\n",
    "        data[fil_string]['hop_times'] = hop_windows\n",
    "with open(pickle_dir / pfile_name, 'wb') as f: \n",
    "    pickle.dump(data, f)"
   ]
  },
  {
   "cell_type": "code",
   "execution_count": null,
   "metadata": {},
   "outputs": [],
   "source": []
  }
 ],
 "metadata": {
  "kernelspec": {
   "display_name": "Python 3",
   "language": "python",
   "name": "python3"
  },
  "language_info": {
   "codemirror_mode": {
    "name": "ipython",
    "version": 3
   },
   "file_extension": ".py",
   "mimetype": "text/x-python",
   "name": "python",
   "nbconvert_exporter": "python",
   "pygments_lexer": "ipython3",
   "version": "3.7.6"
  }
 },
 "nbformat": 4,
 "nbformat_minor": 4
}
