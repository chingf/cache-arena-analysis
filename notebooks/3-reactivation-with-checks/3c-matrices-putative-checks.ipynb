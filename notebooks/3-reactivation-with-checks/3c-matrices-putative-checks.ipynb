{
 "cells": [
  {
   "cell_type": "code",
   "execution_count": 1,
   "metadata": {},
   "outputs": [],
   "source": [
    "import pickle\n",
    "import numpy as np\n",
    "import pandas as pd\n",
    "import matplotlib.pyplot as plt\n",
    "import matplotlib.cm as cm\n",
    "import multiprocessing\n",
    "import seaborn as sns\n",
    "import h5py\n",
    "from math import pi\n",
    "\n",
    "from analysis.config import birds, h5_path_dict, pickle_dir\n",
    "from analysis.ExpData import ExpData\n",
    "from analysis.utils import popln_overlap, get_fr"
   ]
  },
  {
   "cell_type": "code",
   "execution_count": 2,
   "metadata": {},
   "outputs": [],
   "source": [
    "import warnings\n",
    "warnings.filterwarnings('ignore')"
   ]
  },
  {
   "cell_type": "code",
   "execution_count": 3,
   "metadata": {
    "code_folding": [
     0
    ]
   },
   "outputs": [],
   "source": [
    "with open(pickle_dir / 'population_patterns_checks.p', 'rb') as f: \n",
    "    population_patterns = pickle.load(f)"
   ]
  },
  {
   "cell_type": "code",
   "execution_count": 4,
   "metadata": {},
   "outputs": [],
   "source": [
    "save_dir = pickle_dir/\"reactivation_pairs_pchecks\""
   ]
  },
  {
   "cell_type": "code",
   "execution_count": 5,
   "metadata": {
    "code_folding": [
     1
    ]
   },
   "outputs": [],
   "source": [
    "new_population_patterns = {}\n",
    "for key in population_patterns.keys():\n",
    "    if \"LMN\" not in key: continue\n",
    "    new_population_patterns[key] = population_patterns[key]\n",
    "population_patterns = new_population_patterns"
   ]
  },
  {
   "cell_type": "markdown",
   "metadata": {},
   "source": [
    "# Runs pairwise overlap comparisons between visit types\n",
    "For each pairwise comparison, will do this for each pair of sites"
   ]
  },
  {
   "cell_type": "markdown",
   "metadata": {},
   "source": [
    "### Cache v Full Nav"
   ]
  },
  {
   "cell_type": "code",
   "execution_count": null,
   "metadata": {
    "code_folding": [
     1
    ]
   },
   "outputs": [],
   "source": [
    "distance_matrix = [[[] for _ in range(16)] for _ in range(16)]\n",
    "for fil_string in population_patterns.keys():\n",
    "    f = h5py.File(fil_string, 'r')\n",
    "    exp_data = ExpData(f)\n",
    "    putative_checks = exp_data.get_putative_checks()\n",
    "    c_hops = population_patterns[fil_string]['c_hops']\n",
    "    ch_hops = population_patterns[fil_string]['ch_hops']\n",
    "    noncrch_hops = population_patterns[fil_string]['noncrch_hops']\n",
    "    hop_patterns = population_patterns[fil_string]['hop_patterns']\n",
    "    for i, c_hop in enumerate(c_hops):\n",
    "        c_site = exp_data.event_sites[exp_data.cache_event][i] - 1\n",
    "        cache_pattern_mat = hop_patterns[c_hop]\n",
    "        for j, noncrch_hop in enumerate(noncrch_hops):\n",
    "            overlaps = []\n",
    "            noncrch_site = exp_data.hop_end_wedges[noncrch_hop] - 1\n",
    "            if putative_checks[noncrch_hop]: continue\n",
    "            if noncrch_site == 16: continue\n",
    "            if not exp_data.cache_present[noncrch_hop, noncrch_site]: continue\n",
    "            navig_pattern_mat = hop_patterns[noncrch_hop]\n",
    "            overlaps = []\n",
    "            for navig_pattern in navig_pattern_mat.T:\n",
    "                cache_nav_overlap = popln_overlap(\n",
    "                    cache_pattern_mat, navig_pattern\n",
    "                    )\n",
    "                max_val = np.nanmax(cache_nav_overlap)\n",
    "                if not np.isnan(max_val):\n",
    "                    overlaps.append(max_val)\n",
    "            if len(overlaps) > 0:\n",
    "                max_overlap = np.nanmax(overlaps)\n",
    "                distance_matrix[c_site][noncrch_site].append(max_overlap)\n",
    "distance_matrix = np.array(distance_matrix)"
   ]
  },
  {
   "cell_type": "code",
   "execution_count": null,
   "metadata": {
    "code_folding": [
     0
    ]
   },
   "outputs": [],
   "source": [
    "with open(save_dir/'cache_navfull.p', 'wb') as f:\n",
    "    pickle.dump(distance_matrix, f)"
   ]
  },
  {
   "cell_type": "markdown",
   "metadata": {},
   "source": [
    "### Cache v Empty Nav"
   ]
  },
  {
   "cell_type": "code",
   "execution_count": null,
   "metadata": {
    "code_folding": [
     1
    ]
   },
   "outputs": [],
   "source": [
    "distance_matrix = [[[] for _ in range(16)] for _ in range(16)]\n",
    "for fil_string in population_patterns.keys():\n",
    "    f = h5py.File(fil_string, 'r')\n",
    "    exp_data = ExpData(f)\n",
    "    putative_checks = exp_data.get_putative_checks()\n",
    "    c_hops = population_patterns[fil_string]['c_hops']\n",
    "    ch_hops = population_patterns[fil_string]['ch_hops']\n",
    "    noncrch_hops = population_patterns[fil_string]['noncrch_hops']\n",
    "    hop_patterns = population_patterns[fil_string]['hop_patterns']\n",
    "    for i, c_hop in enumerate(c_hops):\n",
    "        c_site = exp_data.event_sites[exp_data.cache_event][i] - 1\n",
    "        cache_pattern_mat = hop_patterns[c_hop]\n",
    "        for j, noncrch_hop in enumerate(noncrch_hops):\n",
    "            overlaps = []\n",
    "            noncrch_site = exp_data.hop_end_wedges[noncrch_hop] - 1\n",
    "            if putative_checks[noncrch_hop]: continue\n",
    "            if noncrch_site == 16: continue\n",
    "            if exp_data.cache_present[noncrch_hop, noncrch_site]: continue\n",
    "            navig_pattern_mat = hop_patterns[noncrch_hop]\n",
    "            overlaps = []\n",
    "            for navig_pattern in navig_pattern_mat.T:\n",
    "                cache_nav_overlap = popln_overlap(\n",
    "                    cache_pattern_mat, navig_pattern\n",
    "                    )\n",
    "                max_val = np.nanmax(cache_nav_overlap)\n",
    "                if not np.isnan(max_val):\n",
    "                    overlaps.append(max_val)\n",
    "            if len(overlaps) > 0:\n",
    "                max_overlap = np.nanmax(overlaps)\n",
    "                distance_matrix[c_site][noncrch_site].append(max_overlap)\n",
    "distance_matrix = np.array(distance_matrix)"
   ]
  },
  {
   "cell_type": "code",
   "execution_count": null,
   "metadata": {
    "code_folding": [
     0
    ]
   },
   "outputs": [],
   "source": [
    "with open(save_dir/'cache_navempty.p', 'wb') as f:\n",
    "    pickle.dump(distance_matrix, f)"
   ]
  },
  {
   "cell_type": "markdown",
   "metadata": {},
   "source": [
    "### Retriev v Full Nav"
   ]
  },
  {
   "cell_type": "code",
   "execution_count": null,
   "metadata": {
    "code_folding": [
     1
    ]
   },
   "outputs": [],
   "source": [
    "distance_matrix = [[[] for _ in range(16)] for _ in range(16)]\n",
    "for fil_string in population_patterns.keys():\n",
    "    f = h5py.File(fil_string, 'r')\n",
    "    exp_data = ExpData(f)\n",
    "    putative_checks = exp_data.get_putative_checks()\n",
    "    c_hops = population_patterns[fil_string]['c_hops']\n",
    "    r_hops = population_patterns[fil_string]['r_hops']\n",
    "    ch_hops = population_patterns[fil_string]['ch_hops']\n",
    "    noncrch_hops = population_patterns[fil_string]['noncrch_hops']\n",
    "    hop_patterns = population_patterns[fil_string]['hop_patterns']\n",
    "    for i, r_hop in enumerate(r_hops):\n",
    "        r_site = exp_data.event_sites[exp_data.retriev_event][i] - 1\n",
    "        retriev_pattern_mat = hop_patterns[r_hop]\n",
    "        for j, noncrch_hop in enumerate(noncrch_hops):\n",
    "            overlaps = []\n",
    "            noncrch_site = exp_data.hop_end_wedges[noncrch_hop] - 1\n",
    "            if putative_checks[noncrch_hop]: continue\n",
    "            if noncrch_site == 16: continue\n",
    "            if not exp_data.cache_present[noncrch_hop, noncrch_site]: continue\n",
    "            navig_pattern_mat = hop_patterns[noncrch_hop]\n",
    "            overlaps = []\n",
    "            for navig_pattern in navig_pattern_mat.T:\n",
    "                retriev_nav_overlap = popln_overlap(\n",
    "                    retriev_pattern_mat, navig_pattern\n",
    "                    )\n",
    "                max_val = np.nanmax(retriev_nav_overlap)\n",
    "                if not np.isnan(max_val):\n",
    "                    overlaps.append(max_val)\n",
    "            if len(overlaps) > 0:\n",
    "                max_overlap = np.nanmax(overlaps)\n",
    "                distance_matrix[r_site][noncrch_site].append(max_overlap)\n",
    "distance_matrix = np.array(distance_matrix)"
   ]
  },
  {
   "cell_type": "code",
   "execution_count": null,
   "metadata": {
    "code_folding": [
     0
    ]
   },
   "outputs": [],
   "source": [
    "with open(save_dir/'retriev_navfull.p', 'wb') as f:\n",
    "    pickle.dump(distance_matrix, f)"
   ]
  },
  {
   "cell_type": "markdown",
   "metadata": {},
   "source": [
    "### Retriev v Empty Nav"
   ]
  },
  {
   "cell_type": "code",
   "execution_count": null,
   "metadata": {
    "code_folding": [
     1
    ]
   },
   "outputs": [],
   "source": [
    "distance_matrix = [[[] for _ in range(16)] for _ in range(16)]\n",
    "for fil_string in population_patterns.keys():\n",
    "    f = h5py.File(fil_string, 'r')\n",
    "    exp_data = ExpData(f)\n",
    "    putative_checks = exp_data.get_putative_checks()\n",
    "    c_hops = population_patterns[fil_string]['c_hops']\n",
    "    r_hops = population_patterns[fil_string]['r_hops']\n",
    "    ch_hops = population_patterns[fil_string]['ch_hops']\n",
    "    noncrch_hops = population_patterns[fil_string]['noncrch_hops']\n",
    "    hop_patterns = population_patterns[fil_string]['hop_patterns']\n",
    "    for i, r_hop in enumerate(r_hops):\n",
    "        r_site = exp_data.event_sites[exp_data.retriev_event][i] - 1\n",
    "        retriev_pattern_mat = hop_patterns[r_hop]\n",
    "        for j, noncrch_hop in enumerate(noncrch_hops):\n",
    "            overlaps = []\n",
    "            noncrch_site = exp_data.hop_end_wedges[noncrch_hop] - 1\n",
    "            if putative_checks[noncrch_hop]: continue\n",
    "            if noncrch_site == 16: continue\n",
    "            if exp_data.cache_present[noncrch_hop, noncrch_site]: continue\n",
    "            navig_pattern_mat = hop_patterns[noncrch_hop]\n",
    "            overlaps = []\n",
    "            for navig_pattern in navig_pattern_mat.T:\n",
    "                retriev_nav_overlap = popln_overlap(\n",
    "                    retriev_pattern_mat, navig_pattern\n",
    "                    )\n",
    "                max_val = np.nanmax(retriev_nav_overlap)\n",
    "                if not np.isnan(max_val):\n",
    "                    overlaps.append(max_val)\n",
    "            if len(overlaps) > 0:\n",
    "                max_overlap = np.nanmax(overlaps)\n",
    "                distance_matrix[r_site][noncrch_site].append(max_overlap)\n",
    "distance_matrix = np.array(distance_matrix)"
   ]
  },
  {
   "cell_type": "code",
   "execution_count": null,
   "metadata": {
    "code_folding": [
     0
    ]
   },
   "outputs": [],
   "source": [
    "with open(save_dir/'retriev_navempty.p', 'wb') as f:\n",
    "    pickle.dump(distance_matrix, f)"
   ]
  },
  {
   "cell_type": "markdown",
   "metadata": {},
   "source": [
    "### Empty Check v Empty Nav"
   ]
  },
  {
   "cell_type": "code",
   "execution_count": null,
   "metadata": {
    "code_folding": [
     1
    ]
   },
   "outputs": [],
   "source": [
    "distance_matrix = [[[] for _ in range(16)] for _ in range(16)]\n",
    "for fil_string in population_patterns.keys():\n",
    "    f = h5py.File(fil_string, 'r')\n",
    "    exp_data = ExpData(f)\n",
    "    putative_checks = exp_data.get_putative_checks()\n",
    "    c_hops = population_patterns[fil_string]['c_hops']\n",
    "    r_hops = population_patterns[fil_string]['r_hops']\n",
    "    ch_hops = population_patterns[fil_string]['ch_hops']\n",
    "    noncrch_hops = population_patterns[fil_string]['noncrch_hops']\n",
    "    hop_patterns = population_patterns[fil_string]['hop_patterns']\n",
    "    if ch_hops.size == 0: continue\n",
    "    for i, ch_hop in enumerate(ch_hops):\n",
    "        ch_site = exp_data.event_sites[exp_data.check_event][i] - 1\n",
    "        if exp_data.cache_present[ch_hop, ch_site]: continue\n",
    "        check_pattern_mat = hop_patterns[ch_hop]\n",
    "        for j, noncrch_hop in enumerate(noncrch_hops):\n",
    "            overlaps = []\n",
    "            noncrch_site = exp_data.hop_end_wedges[noncrch_hop] - 1\n",
    "            if putative_checks[noncrch_hop]: continue\n",
    "            if noncrch_site == 16: continue\n",
    "            if exp_data.cache_present[noncrch_hop, noncrch_site]: continue\n",
    "            navig_pattern_mat = hop_patterns[noncrch_hop]\n",
    "            overlaps = []\n",
    "            for navig_pattern in navig_pattern_mat.T:\n",
    "                check_nav_overlap = popln_overlap(\n",
    "                    check_pattern_mat, navig_pattern\n",
    "                    )\n",
    "                max_val = np.nanmax(check_nav_overlap)\n",
    "                if not np.isnan(max_val):\n",
    "                    overlaps.append(max_val)\n",
    "            if len(overlaps) > 0:\n",
    "                max_overlap = np.nanmax(overlaps)\n",
    "                distance_matrix[ch_site][noncrch_site].append(max_overlap)\n",
    "distance_matrix = np.array(distance_matrix)"
   ]
  },
  {
   "cell_type": "code",
   "execution_count": null,
   "metadata": {
    "code_folding": [
     0
    ]
   },
   "outputs": [],
   "source": [
    "with open(save_dir/'checkempty_navempty.p', 'wb') as f:\n",
    "    pickle.dump(distance_matrix, f)"
   ]
  },
  {
   "cell_type": "markdown",
   "metadata": {},
   "source": [
    "### Empty Check v Full Nav"
   ]
  },
  {
   "cell_type": "code",
   "execution_count": null,
   "metadata": {
    "code_folding": [
     1
    ]
   },
   "outputs": [],
   "source": [
    "distance_matrix = [[[] for _ in range(16)] for _ in range(16)]\n",
    "for fil_string in population_patterns.keys():\n",
    "    f = h5py.File(fil_string, 'r')\n",
    "    exp_data = ExpData(f)\n",
    "    putative_checks = exp_data.get_putative_checks()\n",
    "    c_hops = population_patterns[fil_string]['c_hops']\n",
    "    r_hops = population_patterns[fil_string]['r_hops']\n",
    "    ch_hops = population_patterns[fil_string]['ch_hops']\n",
    "    noncrch_hops = population_patterns[fil_string]['noncrch_hops']\n",
    "    hop_patterns = population_patterns[fil_string]['hop_patterns']\n",
    "    if ch_hops.size == 0: continue\n",
    "    for i, ch_hop in enumerate(ch_hops):\n",
    "        ch_site = exp_data.event_sites[exp_data.check_event][i] - 1\n",
    "        if exp_data.cache_present[ch_hop, ch_site]: continue\n",
    "        check_pattern_mat = hop_patterns[ch_hop]\n",
    "        for j, noncrch_hop in enumerate(noncrch_hops):\n",
    "            overlaps = []\n",
    "            noncrch_site = exp_data.hop_end_wedges[noncrch_hop] - 1\n",
    "            if noncrch_site == 16: continue\n",
    "            if putative_checks[noncrch_hop]: continue\n",
    "            if not exp_data.cache_present[noncrch_hop, noncrch_site]: continue\n",
    "            navig_pattern_mat = hop_patterns[noncrch_hop]\n",
    "            overlaps = []\n",
    "            for navig_pattern in navig_pattern_mat.T:\n",
    "                check_nav_overlap = popln_overlap(\n",
    "                    check_pattern_mat, navig_pattern\n",
    "                    )\n",
    "                max_val = np.nanmax(check_nav_overlap)\n",
    "                if not np.isnan(max_val):\n",
    "                    overlaps.append(max_val)\n",
    "            if len(overlaps) > 0:\n",
    "                max_overlap = np.nanmax(overlaps)\n",
    "                distance_matrix[ch_site][noncrch_site].append(max_overlap)\n",
    "distance_matrix = np.array(distance_matrix)"
   ]
  },
  {
   "cell_type": "code",
   "execution_count": null,
   "metadata": {
    "code_folding": [
     0
    ]
   },
   "outputs": [],
   "source": [
    "with open(save_dir/'checkempty_navfull.p', 'wb') as f:\n",
    "    pickle.dump(distance_matrix, f)"
   ]
  },
  {
   "cell_type": "markdown",
   "metadata": {},
   "source": [
    "### Full Check v Empty Nav"
   ]
  },
  {
   "cell_type": "code",
   "execution_count": null,
   "metadata": {
    "code_folding": [
     0
    ]
   },
   "outputs": [],
   "source": [
    "def get_distance_mat(fil_string):\n",
    "    f = h5py.File(fil_string, 'r')\n",
    "    exp_data = ExpData(f)\n",
    "    putative_checks = exp_data.get_putative_checks()\n",
    "    c_hops = population_patterns[fil_string]['c_hops']\n",
    "    r_hops = population_patterns[fil_string]['r_hops']\n",
    "    ch_hops = population_patterns[fil_string]['ch_hops']\n",
    "    noncrch_hops = population_patterns[fil_string]['noncrch_hops']\n",
    "    hop_patterns = population_patterns[fil_string]['hop_patterns']\n",
    "    distance_matrix = [[[] for _ in range(16)] for _ in range(16)]\n",
    "    if ch_hops.size == 0: return np.array(distance_matrix)\n",
    "    for i, ch_hop in enumerate(ch_hops):\n",
    "        ch_site = exp_data.event_sites[exp_data.check_event][i] - 1\n",
    "        if not exp_data.cache_present[ch_hop, ch_site]: continue\n",
    "        check_pattern_mat = hop_patterns[ch_hop]\n",
    "        for j, noncrch_hop in enumerate(noncrch_hops):\n",
    "            overlaps = []\n",
    "            noncrch_site = exp_data.hop_end_wedges[noncrch_hop] - 1\n",
    "            if putative_checks[noncrch_hop]: continue\n",
    "            if noncrch_site == 16: continue\n",
    "            if exp_data.cache_present[noncrch_hop, noncrch_site]: continue\n",
    "            navig_pattern_mat = hop_patterns[noncrch_hop]\n",
    "            overlaps = []\n",
    "            for navig_pattern in navig_pattern_mat.T:\n",
    "                check_nav_overlap = popln_overlap(\n",
    "                    check_pattern_mat, navig_pattern\n",
    "                    )\n",
    "                max_val = np.nanmax(check_nav_overlap)\n",
    "                if not np.isnan(max_val):\n",
    "                    overlaps.append(max_val)\n",
    "            if len(overlaps) > 0:\n",
    "                max_overlap = np.nanmax(overlaps)\n",
    "                distance_matrix[ch_site][noncrch_site].append(max_overlap)\n",
    "    return np.array(distance_matrix)"
   ]
  },
  {
   "cell_type": "code",
   "execution_count": null,
   "metadata": {
    "code_folding": [
     0
    ]
   },
   "outputs": [],
   "source": [
    "# Run in parallel\n",
    "PROCESSES = 5\n",
    "distance_matrices = []\n",
    "with multiprocessing.Pool(PROCESSES) as pool:\n",
    "    params = [p for p in population_patterns.keys()]\n",
    "    for res in pool.map(get_distance_mat, params):\n",
    "        distance_matrices.append(res)"
   ]
  },
  {
   "cell_type": "code",
   "execution_count": null,
   "metadata": {
    "code_folding": [
     0
    ]
   },
   "outputs": [],
   "source": [
    "# Format into the same structure as before\n",
    "distance_matrix = [[[] for _ in range(16)] for _ in range(16)]\n",
    "for mat in distance_matrices:\n",
    "    for i in range(16):\n",
    "        for j in range(16):\n",
    "            distance_matrix[i][j].extend(mat[i][j])\n",
    "distance_matrix = np.array(distance_matrix)"
   ]
  },
  {
   "cell_type": "code",
   "execution_count": null,
   "metadata": {
    "code_folding": [
     0
    ]
   },
   "outputs": [],
   "source": [
    "with open(save_dir/'checkfull_navempty.p', 'wb') as f:\n",
    "    pickle.dump(distance_matrix, f)"
   ]
  },
  {
   "cell_type": "markdown",
   "metadata": {},
   "source": [
    "### Full Check v Full Nav"
   ]
  },
  {
   "cell_type": "code",
   "execution_count": null,
   "metadata": {
    "code_folding": [
     0
    ]
   },
   "outputs": [],
   "source": [
    "def get_distance_mat(fil_string):\n",
    "    f = h5py.File(fil_string, 'r')\n",
    "    exp_data = ExpData(f)\n",
    "    putative_checks = exp_data.get_putative_checks()\n",
    "    c_hops = population_patterns[fil_string]['c_hops']\n",
    "    r_hops = population_patterns[fil_string]['r_hops']\n",
    "    ch_hops = population_patterns[fil_string]['ch_hops']\n",
    "    noncrch_hops = population_patterns[fil_string]['noncrch_hops']\n",
    "    hop_patterns = population_patterns[fil_string]['hop_patterns']\n",
    "    distance_matrix = [[[] for _ in range(16)] for _ in range(16)]\n",
    "    if ch_hops.size == 0: np.array(distance_matrix)\n",
    "    for i, ch_hop in enumerate(ch_hops):\n",
    "        ch_site = exp_data.event_sites[exp_data.check_event][i] - 1\n",
    "        if not exp_data.cache_present[ch_hop, ch_site]: continue\n",
    "        check_pattern_mat = hop_patterns[ch_hop]\n",
    "        for j, noncrch_hop in enumerate(noncrch_hops):\n",
    "            overlaps = []\n",
    "            noncrch_site = exp_data.hop_end_wedges[noncrch_hop] - 1\n",
    "            if putative_checks[noncrch_hop]: continue\n",
    "            if noncrch_site == 16: continue\n",
    "            if not exp_data.cache_present[noncrch_hop, noncrch_site]: continue\n",
    "            navig_pattern_mat = hop_patterns[noncrch_hop]\n",
    "            overlaps = []\n",
    "            for navig_pattern in navig_pattern_mat.T:\n",
    "                check_nav_overlap = popln_overlap(\n",
    "                    check_pattern_mat, navig_pattern\n",
    "                    )\n",
    "                max_val = np.nanmax(check_nav_overlap)\n",
    "                if not np.isnan(max_val):\n",
    "                    overlaps.append(max_val)\n",
    "            if len(overlaps) > 0:\n",
    "                max_overlap = np.nanmax(overlaps)\n",
    "                distance_matrix[ch_site][noncrch_site].append(max_overlap)\n",
    "    return np.array(distance_matrix)"
   ]
  },
  {
   "cell_type": "code",
   "execution_count": null,
   "metadata": {
    "code_folding": [
     0
    ]
   },
   "outputs": [],
   "source": [
    "# Run in parallel\n",
    "PROCESSES = 5\n",
    "distance_matrices = []\n",
    "with multiprocessing.Pool(PROCESSES) as pool:\n",
    "    params = [p for p in population_patterns.keys()]\n",
    "    for res in pool.map(get_distance_mat, params):\n",
    "        distance_matrices.append(res)"
   ]
  },
  {
   "cell_type": "code",
   "execution_count": null,
   "metadata": {
    "code_folding": [
     0
    ]
   },
   "outputs": [],
   "source": [
    "# Format into the same structure as before\n",
    "distance_matrix = [[[] for _ in range(16)] for _ in range(16)]\n",
    "for mat in distance_matrices:\n",
    "    for i in range(16):\n",
    "        for j in range(16):\n",
    "            distance_matrix[i][j].extend(mat[i][j])\n",
    "distance_matrix = np.array(distance_matrix)"
   ]
  },
  {
   "cell_type": "code",
   "execution_count": null,
   "metadata": {
    "code_folding": [
     0
    ]
   },
   "outputs": [],
   "source": [
    "with open(save_dir/'checkfull_navfull.p', 'wb') as f:\n",
    "    pickle.dump(distance_matrix, f)"
   ]
  },
  {
   "cell_type": "markdown",
   "metadata": {},
   "source": [
    "### Empty Nav v Empty Nav"
   ]
  },
  {
   "cell_type": "code",
   "execution_count": 54,
   "metadata": {
    "code_folding": [
     0
    ]
   },
   "outputs": [],
   "source": [
    "def get_distance_mat(fil_string):\n",
    "    f = h5py.File(fil_string, 'r')\n",
    "    exp_data = ExpData(f)\n",
    "    putative_checks = exp_data.get_putative_checks()\n",
    "    c_hops = population_patterns[fil_string]['c_hops']\n",
    "    r_hops = population_patterns[fil_string]['r_hops']\n",
    "    ch_hops = population_patterns[fil_string]['ch_hops']\n",
    "    noncrch_hops = population_patterns[fil_string]['noncrch_hops']\n",
    "    hop_patterns = population_patterns[fil_string]['hop_patterns']\n",
    "    distance_matrix = [[[] for _ in range(16)] for _ in range(16)]\n",
    "    for i, noncrch1_hop in enumerate(noncrch_hops):\n",
    "        noncrch1_site = exp_data.hop_end_wedges[noncrch1_hop] - 1\n",
    "        if putative_checks[noncrch1_hop]: continue\n",
    "        if noncrch1_site == 16: continue\n",
    "        if exp_data.cache_present[noncrch1_hop, noncrch1_site]: continue\n",
    "        noncrch1_pattern_mat = hop_patterns[noncrch1_hop]\n",
    "        for j, noncrch2_hop in enumerate(noncrch_hops):\n",
    "            if j <= i: continue\n",
    "            overlaps = []\n",
    "            noncrch2_site = exp_data.hop_end_wedges[noncrch2_hop] - 1\n",
    "            if putative_checks[noncrch2_hop]: continue\n",
    "            if noncrch2_site == 16: continue\n",
    "            if exp_data.cache_present[noncrch2_hop, noncrch2_site]: continue\n",
    "            navig2_pattern_mat = hop_patterns[noncrch2_hop]\n",
    "            overlaps = []\n",
    "            for navig2_pattern in navig2_pattern_mat.T:\n",
    "                nav1_nav2_overlap = popln_overlap(\n",
    "                    noncrch1_pattern_mat, navig2_pattern\n",
    "                    )\n",
    "                max_val = np.nanmax(nav1_nav2_overlap)\n",
    "                if not np.isnan(max_val):\n",
    "                    overlaps.append(max_val)\n",
    "            if len(overlaps) > 0:\n",
    "                max_overlap = np.nanmax(overlaps)\n",
    "                distance_matrix[noncrch1_site][noncrch2_site].append(max_overlap)\n",
    "    return np.array(distance_matrix)"
   ]
  },
  {
   "cell_type": "code",
   "execution_count": 55,
   "metadata": {
    "code_folding": [
     0
    ],
    "scrolled": true
   },
   "outputs": [],
   "source": [
    "# Run in parallel\n",
    "PROCESSES = 5\n",
    "distance_matrices = []\n",
    "with multiprocessing.Pool(PROCESSES) as pool:\n",
    "    params = [p for p in population_patterns.keys()]\n",
    "    for res in pool.map(get_distance_mat, params):\n",
    "        distance_matrices.append(res)"
   ]
  },
  {
   "cell_type": "code",
   "execution_count": 56,
   "metadata": {
    "code_folding": [
     0
    ]
   },
   "outputs": [],
   "source": [
    "# Format into the same structure as before\n",
    "distance_matrix = [[[] for _ in range(16)] for _ in range(16)]\n",
    "for mat in distance_matrices:\n",
    "    for i in range(16):\n",
    "        for j in range(16):\n",
    "            distance_matrix[i][j].extend(mat[i][j])\n",
    "distance_matrix = np.array(distance_matrix)"
   ]
  },
  {
   "cell_type": "code",
   "execution_count": 57,
   "metadata": {
    "code_folding": [
     0
    ]
   },
   "outputs": [],
   "source": [
    "with open(save_dir/'navempty_navempty.p', 'wb') as f:\n",
    "    pickle.dump(distance_matrix, f)"
   ]
  },
  {
   "cell_type": "markdown",
   "metadata": {},
   "source": [
    "### Empty Nav v Full Nav"
   ]
  },
  {
   "cell_type": "code",
   "execution_count": 58,
   "metadata": {
    "code_folding": [
     0
    ]
   },
   "outputs": [],
   "source": [
    "def get_distance_mat(fil_string):\n",
    "    f = h5py.File(fil_string, 'r')\n",
    "    exp_data = ExpData(f)\n",
    "    putative_checks = exp_data.get_putative_checks()\n",
    "    c_hops = population_patterns[fil_string]['c_hops']\n",
    "    r_hops = population_patterns[fil_string]['r_hops']\n",
    "    ch_hops = population_patterns[fil_string]['ch_hops']\n",
    "    noncrch_hops = population_patterns[fil_string]['noncrch_hops']\n",
    "    hop_patterns = population_patterns[fil_string]['hop_patterns']\n",
    "    distance_matrix = [[[] for _ in range(16)] for _ in range(16)]\n",
    "    for i, noncrch1_hop in enumerate(noncrch_hops):\n",
    "        noncrch1_site = exp_data.hop_end_wedges[noncrch1_hop] - 1\n",
    "        if putative_checks[noncrch1_hop]: continue\n",
    "        if noncrch1_site == 16: continue\n",
    "        if exp_data.cache_present[noncrch1_hop, noncrch1_site]: continue\n",
    "        noncrch1_pattern_mat = hop_patterns[noncrch1_hop]\n",
    "        for j, noncrch2_hop in enumerate(noncrch_hops):\n",
    "            if j <= i: continue\n",
    "            overlaps = []\n",
    "            noncrch2_site = exp_data.hop_end_wedges[noncrch2_hop] - 1\n",
    "            if putative_checks[noncrch2_hop]: continue\n",
    "            if noncrch2_site == 16: continue\n",
    "            if not exp_data.cache_present[noncrch2_hop, noncrch2_site]: continue\n",
    "            navig2_pattern_mat = hop_patterns[noncrch2_hop]\n",
    "            overlaps = []\n",
    "            for navig2_pattern in navig2_pattern_mat.T:\n",
    "                nav1_nav2_overlap = popln_overlap(\n",
    "                    noncrch1_pattern_mat, navig2_pattern\n",
    "                    )\n",
    "                max_val = np.nanmax(nav1_nav2_overlap)\n",
    "                if not np.isnan(max_val):\n",
    "                    overlaps.append(max_val)\n",
    "            if len(overlaps) > 0:\n",
    "                max_overlap = np.nanmax(overlaps)\n",
    "                distance_matrix[noncrch1_site][noncrch2_site].append(max_overlap)\n",
    "    return np.array(distance_matrix)"
   ]
  },
  {
   "cell_type": "code",
   "execution_count": 59,
   "metadata": {
    "code_folding": [
     0
    ]
   },
   "outputs": [],
   "source": [
    "# Run in parallel\n",
    "PROCESSES = 5\n",
    "distance_matrices = []\n",
    "with multiprocessing.Pool(PROCESSES) as pool:\n",
    "    params = [p for p in population_patterns.keys()]\n",
    "    for res in pool.map(get_distance_mat, params):\n",
    "        distance_matrices.append(res)"
   ]
  },
  {
   "cell_type": "code",
   "execution_count": 60,
   "metadata": {
    "code_folding": [
     0
    ]
   },
   "outputs": [],
   "source": [
    "# Format into the same structure as before\n",
    "distance_matrix = [[[] for _ in range(16)] for _ in range(16)]\n",
    "for mat in distance_matrices:\n",
    "    for i in range(16):\n",
    "        for j in range(16):\n",
    "            distance_matrix[i][j].extend(mat[i][j])\n",
    "distance_matrix = np.array(distance_matrix)"
   ]
  },
  {
   "cell_type": "code",
   "execution_count": 61,
   "metadata": {
    "code_folding": [
     0
    ]
   },
   "outputs": [],
   "source": [
    "with open(save_dir/'navempty_navfull.p', 'wb') as f:\n",
    "    pickle.dump(distance_matrix, f)"
   ]
  },
  {
   "cell_type": "markdown",
   "metadata": {},
   "source": [
    "### Full Nav v Full Nav"
   ]
  },
  {
   "cell_type": "code",
   "execution_count": 50,
   "metadata": {
    "code_folding": [
     0
    ]
   },
   "outputs": [],
   "source": [
    "def get_distance_mat(fil_string):\n",
    "    f = h5py.File(fil_string, 'r')\n",
    "    exp_data = ExpData(f)\n",
    "    putative_checks = exp_data.get_putative_checks()\n",
    "    c_hops = population_patterns[fil_string]['c_hops']\n",
    "    r_hops = population_patterns[fil_string]['r_hops']\n",
    "    ch_hops = population_patterns[fil_string]['ch_hops']\n",
    "    noncrch_hops = population_patterns[fil_string]['noncrch_hops']\n",
    "    hop_patterns = population_patterns[fil_string]['hop_patterns']\n",
    "    distance_matrix = [[[] for _ in range(16)] for _ in range(16)]\n",
    "    for i, noncrch1_hop in enumerate(noncrch_hops):\n",
    "        noncrch1_site = exp_data.hop_end_wedges[noncrch1_hop] - 1\n",
    "        if putative_checks[noncrch1_hop]: continue\n",
    "        if noncrch1_site == 16: continue\n",
    "        if not exp_data.cache_present[noncrch1_hop, noncrch1_site]: continue\n",
    "        noncrch1_pattern_mat = hop_patterns[noncrch1_hop]\n",
    "        for j, noncrch2_hop in enumerate(noncrch_hops):\n",
    "            if j <= i: continue\n",
    "            overlaps = []\n",
    "            noncrch2_site = exp_data.hop_end_wedges[noncrch2_hop] - 1\n",
    "            if putative_checks[noncrch2_hop]: continue\n",
    "            if noncrch2_site == 16: continue\n",
    "            if not exp_data.cache_present[noncrch2_hop, noncrch2_site]: continue\n",
    "            navig2_pattern_mat = hop_patterns[noncrch2_hop]\n",
    "            overlaps = []\n",
    "            for navig2_pattern in navig2_pattern_mat.T:\n",
    "                nav1_nav2_overlap = popln_overlap(\n",
    "                    noncrch1_pattern_mat, navig2_pattern\n",
    "                    )\n",
    "                max_val = np.nanmax(nav1_nav2_overlap)\n",
    "                if not np.isnan(max_val):\n",
    "                    overlaps.append(max_val)\n",
    "            if len(overlaps) > 0:\n",
    "                max_overlap = np.nanmax(overlaps)\n",
    "                distance_matrix[noncrch1_site][noncrch2_site].append(max_overlap)\n",
    "    return np.array(distance_matrix)"
   ]
  },
  {
   "cell_type": "code",
   "execution_count": 51,
   "metadata": {
    "code_folding": [
     0
    ]
   },
   "outputs": [],
   "source": [
    "# Run in parallel\n",
    "PROCESSES = 5\n",
    "distance_matrices = []\n",
    "with multiprocessing.Pool(PROCESSES) as pool:\n",
    "    params = [p for p in population_patterns.keys()]\n",
    "    for res in pool.map(get_distance_mat, params):\n",
    "        distance_matrices.append(res)"
   ]
  },
  {
   "cell_type": "code",
   "execution_count": 52,
   "metadata": {
    "code_folding": [
     0
    ]
   },
   "outputs": [],
   "source": [
    "# Format into the same structure as before\n",
    "distance_matrix = [[[] for _ in range(16)] for _ in range(16)]\n",
    "for mat in distance_matrices:\n",
    "    for i in range(16):\n",
    "        for j in range(16):\n",
    "            distance_matrix[i][j].extend(mat[i][j])\n",
    "distance_matrix = np.array(distance_matrix)"
   ]
  },
  {
   "cell_type": "code",
   "execution_count": 53,
   "metadata": {},
   "outputs": [],
   "source": [
    "with open(save_dir/'navfull_navfull.p', 'wb') as f:\n",
    "    pickle.dump(distance_matrix, f)"
   ]
  },
  {
   "cell_type": "markdown",
   "metadata": {},
   "source": [
    "### Put. Full Check v Cache"
   ]
  },
  {
   "cell_type": "code",
   "execution_count": null,
   "metadata": {
    "code_folding": [
     1
    ]
   },
   "outputs": [],
   "source": [
    "distance_matrix = [[[] for _ in range(16)] for _ in range(16)]\n",
    "for fil_string in population_patterns.keys():\n",
    "    f = h5py.File(fil_string, 'r')\n",
    "    exp_data = ExpData(f)\n",
    "    putative_checks = exp_data.get_putative_checks()\n",
    "    c_hops = population_patterns[fil_string]['c_hops']\n",
    "    ch_hops = population_patterns[fil_string]['ch_hops']\n",
    "    noncrch_hops = population_patterns[fil_string]['noncrch_hops']\n",
    "    hop_patterns = population_patterns[fil_string]['hop_patterns']\n",
    "    for i, c_hop in enumerate(c_hops):\n",
    "        c_site = exp_data.event_sites[exp_data.cache_event][i] - 1\n",
    "        cache_pattern_mat = hop_patterns[c_hop]\n",
    "        for j, noncrch_hop in enumerate(noncrch_hops):\n",
    "            overlaps = []\n",
    "            noncrch_site = exp_data.hop_end_wedges[noncrch_hop] - 1\n",
    "            if not putative_checks[noncrch_hop]: continue\n",
    "            if noncrch_site == 16: continue\n",
    "            if not exp_data.cache_present[noncrch_hop, noncrch_site]: continue\n",
    "            navig_pattern_mat = hop_patterns[noncrch_hop]\n",
    "            overlaps = []\n",
    "            for navig_pattern in navig_pattern_mat.T:\n",
    "                cache_nav_overlap = popln_overlap(\n",
    "                    cache_pattern_mat, navig_pattern\n",
    "                    )\n",
    "                max_val = np.nanmax(cache_nav_overlap)\n",
    "                if not np.isnan(max_val):\n",
    "                    overlaps.append(max_val)\n",
    "            if len(overlaps) > 0:\n",
    "                max_overlap = np.nanmax(overlaps)\n",
    "                distance_matrix[c_site][noncrch_site].append(max_overlap)\n",
    "distance_matrix = np.array(distance_matrix)"
   ]
  },
  {
   "cell_type": "code",
   "execution_count": null,
   "metadata": {
    "code_folding": [
     0
    ]
   },
   "outputs": [],
   "source": [
    "with open(save_dir/'pcheckfull_cache.p', 'wb') as f:\n",
    "    pickle.dump(distance_matrix, f)"
   ]
  },
  {
   "cell_type": "markdown",
   "metadata": {},
   "source": [
    "### Put. Full Check v Retrieval"
   ]
  },
  {
   "cell_type": "code",
   "execution_count": null,
   "metadata": {
    "code_folding": [
     1
    ]
   },
   "outputs": [],
   "source": [
    "distance_matrix = [[[] for _ in range(16)] for _ in range(16)]\n",
    "for fil_string in population_patterns.keys():\n",
    "    f = h5py.File(fil_string, 'r')\n",
    "    exp_data = ExpData(f)\n",
    "    putative_checks = exp_data.get_putative_checks()\n",
    "    c_hops = population_patterns[fil_string]['c_hops']\n",
    "    r_hops = population_patterns[fil_string]['r_hops']\n",
    "    ch_hops = population_patterns[fil_string]['ch_hops']\n",
    "    noncrch_hops = population_patterns[fil_string]['noncrch_hops']\n",
    "    hop_patterns = population_patterns[fil_string]['hop_patterns']\n",
    "    for i, r_hop in enumerate(r_hops):\n",
    "        r_site = exp_data.event_sites[exp_data.retriev_event][i] - 1\n",
    "        retriev_pattern_mat = hop_patterns[r_hop]\n",
    "        for j, noncrch_hop in enumerate(noncrch_hops):\n",
    "            overlaps = []\n",
    "            noncrch_site = exp_data.hop_end_wedges[noncrch_hop] - 1\n",
    "            if not putative_checks[noncrch_hop]: continue\n",
    "            if noncrch_site == 16: continue\n",
    "            if not exp_data.cache_present[noncrch_hop, noncrch_site]: continue\n",
    "            navig_pattern_mat = hop_patterns[noncrch_hop]\n",
    "            overlaps = []\n",
    "            for navig_pattern in navig_pattern_mat.T:\n",
    "                retriev_nav_overlap = popln_overlap(\n",
    "                    retriev_pattern_mat, navig_pattern\n",
    "                    )\n",
    "                max_val = np.nanmax(retriev_nav_overlap)\n",
    "                if not np.isnan(max_val):\n",
    "                    overlaps.append(max_val)\n",
    "            if len(overlaps) > 0:\n",
    "                max_overlap = np.nanmax(overlaps)\n",
    "                distance_matrix[r_site][noncrch_site].append(max_overlap)\n",
    "distance_matrix = np.array(distance_matrix)"
   ]
  },
  {
   "cell_type": "code",
   "execution_count": null,
   "metadata": {
    "code_folding": [
     0
    ]
   },
   "outputs": [],
   "source": [
    "with open(save_dir/'pcheckfull_retriev.p', 'wb') as f:\n",
    "    pickle.dump(distance_matrix, f)"
   ]
  },
  {
   "cell_type": "markdown",
   "metadata": {},
   "source": [
    "### Put. Full Check v Full Check"
   ]
  },
  {
   "cell_type": "code",
   "execution_count": 6,
   "metadata": {
    "code_folding": [
     0
    ]
   },
   "outputs": [],
   "source": [
    "def get_distance_mat(fil_string):\n",
    "    f = h5py.File(fil_string, 'r')\n",
    "    exp_data = ExpData(f)\n",
    "    putative_checks = exp_data.get_putative_checks()\n",
    "    c_hops = population_patterns[fil_string]['c_hops']\n",
    "    r_hops = population_patterns[fil_string]['r_hops']\n",
    "    ch_hops = population_patterns[fil_string]['ch_hops']\n",
    "    noncrch_hops = population_patterns[fil_string]['noncrch_hops']\n",
    "    hop_patterns = population_patterns[fil_string]['hop_patterns']\n",
    "    distance_matrix = [[[] for _ in range(16)] for _ in range(16)]\n",
    "    if ch_hops.size == 0: np.array(distance_matrix)\n",
    "    for i, ch_hop in enumerate(ch_hops):\n",
    "        ch_site = exp_data.event_sites[exp_data.check_event][i] - 1\n",
    "        if not exp_data.cache_present[ch_hop, ch_site]: continue\n",
    "        check_pattern_mat = hop_patterns[ch_hop]\n",
    "        for j, noncrch_hop in enumerate(noncrch_hops):\n",
    "            overlaps = []\n",
    "            noncrch_site = exp_data.hop_end_wedges[noncrch_hop] - 1\n",
    "            if not putative_checks[noncrch_hop]: continue\n",
    "            if noncrch_site == 16: continue\n",
    "            if not exp_data.cache_present[noncrch_hop, noncrch_site]: continue\n",
    "            navig_pattern_mat = hop_patterns[noncrch_hop]\n",
    "            overlaps = []\n",
    "            for navig_pattern in navig_pattern_mat.T:\n",
    "                check_nav_overlap = popln_overlap(\n",
    "                    check_pattern_mat, navig_pattern\n",
    "                    )\n",
    "                max_val = np.nanmax(check_nav_overlap)\n",
    "                if not np.isnan(max_val):\n",
    "                    overlaps.append(max_val)\n",
    "            if len(overlaps) > 0:\n",
    "                max_overlap = np.nanmax(overlaps)\n",
    "                distance_matrix[ch_site][noncrch_site].append(max_overlap)\n",
    "    return np.array(distance_matrix)"
   ]
  },
  {
   "cell_type": "code",
   "execution_count": 7,
   "metadata": {
    "code_folding": [
     0
    ]
   },
   "outputs": [],
   "source": [
    "# Run in parallel\n",
    "PROCESSES = 5\n",
    "distance_matrices = []\n",
    "with multiprocessing.Pool(PROCESSES) as pool:\n",
    "    params = [p for p in population_patterns.keys()]\n",
    "    for res in pool.map(get_distance_mat, params):\n",
    "        distance_matrices.append(res)"
   ]
  },
  {
   "cell_type": "code",
   "execution_count": 8,
   "metadata": {
    "code_folding": [
     0
    ]
   },
   "outputs": [],
   "source": [
    "# Format into the same structure as before\n",
    "distance_matrix = [[[] for _ in range(16)] for _ in range(16)]\n",
    "for mat in distance_matrices:\n",
    "    for i in range(16):\n",
    "        for j in range(16):\n",
    "            distance_matrix[i][j].extend(mat[i][j])\n",
    "distance_matrix = np.array(distance_matrix)"
   ]
  },
  {
   "cell_type": "code",
   "execution_count": 9,
   "metadata": {
    "code_folding": [
     0
    ]
   },
   "outputs": [],
   "source": [
    "with open(save_dir/'pcheckfull_checkfull.p', 'wb') as f:\n",
    "    pickle.dump(distance_matrix, f)"
   ]
  },
  {
   "cell_type": "markdown",
   "metadata": {},
   "source": [
    "### Put. Full Check v Full Nav"
   ]
  },
  {
   "cell_type": "code",
   "execution_count": 10,
   "metadata": {
    "code_folding": [
     0
    ]
   },
   "outputs": [],
   "source": [
    "def get_distance_mat(fil_string):\n",
    "    f = h5py.File(fil_string, 'r')\n",
    "    exp_data = ExpData(f)\n",
    "    putative_checks = exp_data.get_putative_checks()\n",
    "    c_hops = population_patterns[fil_string]['c_hops']\n",
    "    r_hops = population_patterns[fil_string]['r_hops']\n",
    "    ch_hops = population_patterns[fil_string]['ch_hops']\n",
    "    noncrch_hops = population_patterns[fil_string]['noncrch_hops']\n",
    "    hop_patterns = population_patterns[fil_string]['hop_patterns']\n",
    "    distance_matrix = [[[] for _ in range(16)] for _ in range(16)]\n",
    "    for i, noncrch1_hop in enumerate(noncrch_hops):\n",
    "        noncrch1_site = exp_data.hop_end_wedges[noncrch1_hop] - 1\n",
    "        if not putative_checks[noncrch1_hop]: continue\n",
    "        if noncrch1_site == 16: continue\n",
    "        if not exp_data.cache_present[noncrch1_hop, noncrch1_site]: continue\n",
    "        noncrch1_pattern_mat = hop_patterns[noncrch1_hop]\n",
    "        for j, noncrch2_hop in enumerate(noncrch_hops):\n",
    "            if j <= i: continue\n",
    "            overlaps = []\n",
    "            noncrch2_site = exp_data.hop_end_wedges[noncrch2_hop] - 1\n",
    "            if putative_checks[noncrch2_hop]: continue\n",
    "            if noncrch2_site == 16: continue\n",
    "            if not exp_data.cache_present[noncrch2_hop, noncrch2_site]: continue\n",
    "            navig2_pattern_mat = hop_patterns[noncrch2_hop]\n",
    "            overlaps = []\n",
    "            for navig2_pattern in navig2_pattern_mat.T:\n",
    "                nav1_nav2_overlap = popln_overlap(\n",
    "                    noncrch1_pattern_mat, navig2_pattern\n",
    "                    )\n",
    "                max_val = np.nanmax(nav1_nav2_overlap)\n",
    "                if not np.isnan(max_val):\n",
    "                    overlaps.append(max_val)\n",
    "            if len(overlaps) > 0:\n",
    "                max_overlap = np.nanmax(overlaps)\n",
    "                distance_matrix[noncrch1_site][noncrch2_site].append(max_overlap)\n",
    "    return np.array(distance_matrix)"
   ]
  },
  {
   "cell_type": "code",
   "execution_count": 11,
   "metadata": {
    "code_folding": [
     0
    ]
   },
   "outputs": [],
   "source": [
    "# Run in parallel\n",
    "PROCESSES = 5\n",
    "distance_matrices = []\n",
    "with multiprocessing.Pool(PROCESSES) as pool:\n",
    "    params = [p for p in population_patterns.keys()]\n",
    "    for res in pool.map(get_distance_mat, params):\n",
    "        distance_matrices.append(res)"
   ]
  },
  {
   "cell_type": "code",
   "execution_count": 12,
   "metadata": {
    "code_folding": [
     0
    ]
   },
   "outputs": [],
   "source": [
    "# Format into the same structure as before\n",
    "distance_matrix = [[[] for _ in range(16)] for _ in range(16)]\n",
    "for mat in distance_matrices:\n",
    "    for i in range(16):\n",
    "        for j in range(16):\n",
    "            distance_matrix[i][j].extend(mat[i][j])\n",
    "distance_matrix = np.array(distance_matrix)"
   ]
  },
  {
   "cell_type": "code",
   "execution_count": 13,
   "metadata": {
    "code_folding": [
     0
    ]
   },
   "outputs": [],
   "source": [
    "with open(save_dir/'pcheckfull_navfull.p', 'wb') as f:\n",
    "    pickle.dump(distance_matrix, f)"
   ]
  },
  {
   "cell_type": "markdown",
   "metadata": {},
   "source": [
    "### Put. Full Check v Empty Check"
   ]
  },
  {
   "cell_type": "code",
   "execution_count": 14,
   "metadata": {
    "code_folding": [
     1
    ]
   },
   "outputs": [],
   "source": [
    "distance_matrix = [[[] for _ in range(16)] for _ in range(16)]\n",
    "for fil_string in population_patterns.keys():\n",
    "    f = h5py.File(fil_string, 'r')\n",
    "    exp_data = ExpData(f)\n",
    "    putative_checks = exp_data.get_putative_checks()\n",
    "    c_hops = population_patterns[fil_string]['c_hops']\n",
    "    r_hops = population_patterns[fil_string]['r_hops']\n",
    "    ch_hops = population_patterns[fil_string]['ch_hops']\n",
    "    noncrch_hops = population_patterns[fil_string]['noncrch_hops']\n",
    "    hop_patterns = population_patterns[fil_string]['hop_patterns']\n",
    "    if ch_hops.size == 0: continue\n",
    "    for i, ch_hop in enumerate(ch_hops):\n",
    "        ch_site = exp_data.event_sites[exp_data.check_event][i] - 1\n",
    "        if exp_data.cache_present[ch_hop, ch_site]: continue\n",
    "        check_pattern_mat = hop_patterns[ch_hop]\n",
    "        for j, noncrch_hop in enumerate(noncrch_hops):\n",
    "            overlaps = []\n",
    "            noncrch_site = exp_data.hop_end_wedges[noncrch_hop] - 1\n",
    "            if noncrch_site == 16: continue\n",
    "            if not putative_checks[noncrch_hop]: continue\n",
    "            if not exp_data.cache_present[noncrch_hop, noncrch_site]: continue\n",
    "            navig_pattern_mat = hop_patterns[noncrch_hop]\n",
    "            overlaps = []\n",
    "            for navig_pattern in navig_pattern_mat.T:\n",
    "                check_nav_overlap = popln_overlap(\n",
    "                    check_pattern_mat, navig_pattern\n",
    "                    )\n",
    "                max_val = np.nanmax(check_nav_overlap)\n",
    "                if not np.isnan(max_val):\n",
    "                    overlaps.append(max_val)\n",
    "            if len(overlaps) > 0:\n",
    "                max_overlap = np.nanmax(overlaps)\n",
    "                distance_matrix[ch_site][noncrch_site].append(max_overlap)\n",
    "distance_matrix = np.array(distance_matrix)"
   ]
  },
  {
   "cell_type": "code",
   "execution_count": 15,
   "metadata": {
    "code_folding": [
     0
    ]
   },
   "outputs": [],
   "source": [
    "with open(save_dir/'pcheckfull_checkempty.p', 'wb') as f:\n",
    "    pickle.dump(distance_matrix, f)"
   ]
  },
  {
   "cell_type": "markdown",
   "metadata": {},
   "source": [
    "### Put. Full Check v Empty Nav"
   ]
  },
  {
   "cell_type": "code",
   "execution_count": 16,
   "metadata": {
    "code_folding": [
     0
    ]
   },
   "outputs": [],
   "source": [
    "def get_distance_mat(fil_string):\n",
    "    f = h5py.File(fil_string, 'r')\n",
    "    exp_data = ExpData(f)\n",
    "    putative_checks = exp_data.get_putative_checks()\n",
    "    c_hops = population_patterns[fil_string]['c_hops']\n",
    "    r_hops = population_patterns[fil_string]['r_hops']\n",
    "    ch_hops = population_patterns[fil_string]['ch_hops']\n",
    "    noncrch_hops = population_patterns[fil_string]['noncrch_hops']\n",
    "    hop_patterns = population_patterns[fil_string]['hop_patterns']\n",
    "    distance_matrix = [[[] for _ in range(16)] for _ in range(16)]\n",
    "    for i, noncrch1_hop in enumerate(noncrch_hops):\n",
    "        noncrch1_site = exp_data.hop_end_wedges[noncrch1_hop] - 1\n",
    "        if not putative_checks[noncrch1_hop]: continue\n",
    "        if noncrch1_site == 16: continue\n",
    "        if not exp_data.cache_present[noncrch1_hop, noncrch1_site]: continue\n",
    "        noncrch1_pattern_mat = hop_patterns[noncrch1_hop]\n",
    "        for j, noncrch2_hop in enumerate(noncrch_hops):\n",
    "            if j <= i: continue\n",
    "            overlaps = []\n",
    "            noncrch2_site = exp_data.hop_end_wedges[noncrch2_hop] - 1\n",
    "            if putative_checks[noncrch2_hop]: continue\n",
    "            if noncrch2_site == 16: continue\n",
    "            if exp_data.cache_present[noncrch2_hop, noncrch2_site]: continue\n",
    "            navig2_pattern_mat = hop_patterns[noncrch2_hop]\n",
    "            overlaps = []\n",
    "            for navig2_pattern in navig2_pattern_mat.T:\n",
    "                nav1_nav2_overlap = popln_overlap(\n",
    "                    noncrch1_pattern_mat, navig2_pattern\n",
    "                    )\n",
    "                max_val = np.nanmax(nav1_nav2_overlap)\n",
    "                if not np.isnan(max_val):\n",
    "                    overlaps.append(max_val)\n",
    "            if len(overlaps) > 0:\n",
    "                max_overlap = np.nanmax(overlaps)\n",
    "                distance_matrix[noncrch1_site][noncrch2_site].append(max_overlap)\n",
    "    return np.array(distance_matrix)"
   ]
  },
  {
   "cell_type": "code",
   "execution_count": 17,
   "metadata": {
    "code_folding": [
     0
    ]
   },
   "outputs": [],
   "source": [
    "# Run in parallel\n",
    "PROCESSES = 5\n",
    "distance_matrices = []\n",
    "with multiprocessing.Pool(PROCESSES) as pool:\n",
    "    params = [p for p in population_patterns.keys()]\n",
    "    for res in pool.map(get_distance_mat, params):\n",
    "        distance_matrices.append(res)"
   ]
  },
  {
   "cell_type": "code",
   "execution_count": 18,
   "metadata": {
    "code_folding": [
     0
    ]
   },
   "outputs": [],
   "source": [
    "# Format into the same structure as before\n",
    "distance_matrix = [[[] for _ in range(16)] for _ in range(16)]\n",
    "for mat in distance_matrices:\n",
    "    for i in range(16):\n",
    "        for j in range(16):\n",
    "            distance_matrix[i][j].extend(mat[i][j])\n",
    "distance_matrix = np.array(distance_matrix)"
   ]
  },
  {
   "cell_type": "code",
   "execution_count": 19,
   "metadata": {},
   "outputs": [],
   "source": [
    "with open(save_dir/'pcheckfull_navempty.p', 'wb') as f:\n",
    "    pickle.dump(distance_matrix, f)"
   ]
  },
  {
   "cell_type": "markdown",
   "metadata": {},
   "source": [
    "### Put. Full Check v Put. Empty Check"
   ]
  },
  {
   "cell_type": "code",
   "execution_count": 20,
   "metadata": {
    "code_folding": [
     0
    ]
   },
   "outputs": [],
   "source": [
    "def get_distance_mat(fil_string):\n",
    "    f = h5py.File(fil_string, 'r')\n",
    "    exp_data = ExpData(f)\n",
    "    putative_checks = exp_data.get_putative_checks()\n",
    "    c_hops = population_patterns[fil_string]['c_hops']\n",
    "    r_hops = population_patterns[fil_string]['r_hops']\n",
    "    ch_hops = population_patterns[fil_string]['ch_hops']\n",
    "    noncrch_hops = population_patterns[fil_string]['noncrch_hops']\n",
    "    hop_patterns = population_patterns[fil_string]['hop_patterns']\n",
    "    distance_matrix = [[[] for _ in range(16)] for _ in range(16)]\n",
    "    for i, noncrch1_hop in enumerate(noncrch_hops):\n",
    "        noncrch1_site = exp_data.hop_end_wedges[noncrch1_hop] - 1\n",
    "        if not putative_checks[noncrch1_hop]: continue\n",
    "        if noncrch1_site == 16: continue\n",
    "        if not exp_data.cache_present[noncrch1_hop, noncrch1_site]: continue\n",
    "        noncrch1_pattern_mat = hop_patterns[noncrch1_hop]\n",
    "        for j, noncrch2_hop in enumerate(noncrch_hops):\n",
    "            if j <= i: continue\n",
    "            overlaps = []\n",
    "            noncrch2_site = exp_data.hop_end_wedges[noncrch2_hop] - 1\n",
    "            if not putative_checks[noncrch2_hop]: continue\n",
    "            if noncrch2_site == 16: continue\n",
    "            if exp_data.cache_present[noncrch2_hop, noncrch2_site]: continue\n",
    "            navig2_pattern_mat = hop_patterns[noncrch2_hop]\n",
    "            overlaps = []\n",
    "            for navig2_pattern in navig2_pattern_mat.T:\n",
    "                nav1_nav2_overlap = popln_overlap(\n",
    "                    noncrch1_pattern_mat, navig2_pattern\n",
    "                    )\n",
    "                max_val = np.nanmax(nav1_nav2_overlap)\n",
    "                if not np.isnan(max_val):\n",
    "                    overlaps.append(max_val)\n",
    "            if len(overlaps) > 0:\n",
    "                max_overlap = np.nanmax(overlaps)\n",
    "                distance_matrix[noncrch1_site][noncrch2_site].append(max_overlap)\n",
    "    return np.array(distance_matrix)"
   ]
  },
  {
   "cell_type": "code",
   "execution_count": 21,
   "metadata": {
    "code_folding": [
     0
    ]
   },
   "outputs": [],
   "source": [
    "# Run in parallel\n",
    "PROCESSES = 5\n",
    "distance_matrices = []\n",
    "with multiprocessing.Pool(PROCESSES) as pool:\n",
    "    params = [p for p in population_patterns.keys()]\n",
    "    for res in pool.map(get_distance_mat, params):\n",
    "        distance_matrices.append(res)"
   ]
  },
  {
   "cell_type": "code",
   "execution_count": 22,
   "metadata": {
    "code_folding": [
     0
    ]
   },
   "outputs": [],
   "source": [
    "# Format into the same structure as before\n",
    "distance_matrix = [[[] for _ in range(16)] for _ in range(16)]\n",
    "for mat in distance_matrices:\n",
    "    for i in range(16):\n",
    "        for j in range(16):\n",
    "            distance_matrix[i][j].extend(mat[i][j])\n",
    "distance_matrix = np.array(distance_matrix)"
   ]
  },
  {
   "cell_type": "code",
   "execution_count": 23,
   "metadata": {},
   "outputs": [],
   "source": [
    "with open(save_dir/'pcheckfull_pcheckempty.p', 'wb') as f:\n",
    "    pickle.dump(distance_matrix, f)"
   ]
  },
  {
   "cell_type": "markdown",
   "metadata": {},
   "source": [
    "### Put. Full Check v Put. Full Check"
   ]
  },
  {
   "cell_type": "code",
   "execution_count": 24,
   "metadata": {
    "code_folding": [
     0
    ]
   },
   "outputs": [],
   "source": [
    "def get_distance_mat(fil_string):\n",
    "    f = h5py.File(fil_string, 'r')\n",
    "    exp_data = ExpData(f)\n",
    "    putative_checks = exp_data.get_putative_checks()\n",
    "    c_hops = population_patterns[fil_string]['c_hops']\n",
    "    r_hops = population_patterns[fil_string]['r_hops']\n",
    "    ch_hops = population_patterns[fil_string]['ch_hops']\n",
    "    noncrch_hops = population_patterns[fil_string]['noncrch_hops']\n",
    "    hop_patterns = population_patterns[fil_string]['hop_patterns']\n",
    "    distance_matrix = [[[] for _ in range(16)] for _ in range(16)]\n",
    "    for i, noncrch1_hop in enumerate(noncrch_hops):\n",
    "        noncrch1_site = exp_data.hop_end_wedges[noncrch1_hop] - 1\n",
    "        if not putative_checks[noncrch1_hop]: continue\n",
    "        if noncrch1_site == 16: continue\n",
    "        if not exp_data.cache_present[noncrch1_hop, noncrch1_site]: continue\n",
    "        noncrch1_pattern_mat = hop_patterns[noncrch1_hop]\n",
    "        for j, noncrch2_hop in enumerate(noncrch_hops):\n",
    "            if j <= i: continue\n",
    "            overlaps = []\n",
    "            noncrch2_site = exp_data.hop_end_wedges[noncrch2_hop] - 1\n",
    "            if not putative_checks[noncrch2_hop]: continue\n",
    "            if noncrch2_site == 16: continue\n",
    "            if not exp_data.cache_present[noncrch2_hop, noncrch2_site]: continue\n",
    "            navig2_pattern_mat = hop_patterns[noncrch2_hop]\n",
    "            overlaps = []\n",
    "            for navig2_pattern in navig2_pattern_mat.T:\n",
    "                nav1_nav2_overlap = popln_overlap(\n",
    "                    noncrch1_pattern_mat, navig2_pattern\n",
    "                    )\n",
    "                max_val = np.nanmax(nav1_nav2_overlap)\n",
    "                if not np.isnan(max_val):\n",
    "                    overlaps.append(max_val)\n",
    "            if len(overlaps) > 0:\n",
    "                max_overlap = np.nanmax(overlaps)\n",
    "                distance_matrix[noncrch1_site][noncrch2_site].append(max_overlap)\n",
    "    return np.array(distance_matrix)"
   ]
  },
  {
   "cell_type": "code",
   "execution_count": 25,
   "metadata": {
    "code_folding": [
     0
    ]
   },
   "outputs": [],
   "source": [
    "# Run in parallel\n",
    "PROCESSES = 5\n",
    "distance_matrices = []\n",
    "with multiprocessing.Pool(PROCESSES) as pool:\n",
    "    params = [p for p in population_patterns.keys()]\n",
    "    for res in pool.map(get_distance_mat, params):\n",
    "        distance_matrices.append(res)"
   ]
  },
  {
   "cell_type": "code",
   "execution_count": 26,
   "metadata": {
    "code_folding": [
     0
    ]
   },
   "outputs": [],
   "source": [
    "# Format into the same structure as before\n",
    "distance_matrix = [[[] for _ in range(16)] for _ in range(16)]\n",
    "for mat in distance_matrices:\n",
    "    for i in range(16):\n",
    "        for j in range(16):\n",
    "            distance_matrix[i][j].extend(mat[i][j])\n",
    "distance_matrix = np.array(distance_matrix)"
   ]
  },
  {
   "cell_type": "code",
   "execution_count": 27,
   "metadata": {},
   "outputs": [],
   "source": [
    "with open(save_dir/'pcheckfull_pcheckfull.p', 'wb') as f:\n",
    "    pickle.dump(distance_matrix, f)"
   ]
  },
  {
   "cell_type": "markdown",
   "metadata": {},
   "source": [
    "### Put. Empty Check v Cache"
   ]
  },
  {
   "cell_type": "code",
   "execution_count": 28,
   "metadata": {
    "code_folding": [
     1
    ]
   },
   "outputs": [],
   "source": [
    "distance_matrix = [[[] for _ in range(16)] for _ in range(16)]\n",
    "for fil_string in population_patterns.keys():\n",
    "    f = h5py.File(fil_string, 'r')\n",
    "    exp_data = ExpData(f)\n",
    "    putative_checks = exp_data.get_putative_checks()\n",
    "    c_hops = population_patterns[fil_string]['c_hops']\n",
    "    ch_hops = population_patterns[fil_string]['ch_hops']\n",
    "    noncrch_hops = population_patterns[fil_string]['noncrch_hops']\n",
    "    hop_patterns = population_patterns[fil_string]['hop_patterns']\n",
    "    for i, c_hop in enumerate(c_hops):\n",
    "        c_site = exp_data.event_sites[exp_data.cache_event][i] - 1\n",
    "        cache_pattern_mat = hop_patterns[c_hop]\n",
    "        for j, noncrch_hop in enumerate(noncrch_hops):\n",
    "            overlaps = []\n",
    "            noncrch_site = exp_data.hop_end_wedges[noncrch_hop] - 1\n",
    "            if not putative_checks[noncrch_hop]: continue\n",
    "            if noncrch_site == 16: continue\n",
    "            if exp_data.cache_present[noncrch_hop, noncrch_site]: continue\n",
    "            navig_pattern_mat = hop_patterns[noncrch_hop]\n",
    "            overlaps = []\n",
    "            for navig_pattern in navig_pattern_mat.T:\n",
    "                cache_nav_overlap = popln_overlap(\n",
    "                    cache_pattern_mat, navig_pattern\n",
    "                    )\n",
    "                max_val = np.nanmax(cache_nav_overlap)\n",
    "                if not np.isnan(max_val):\n",
    "                    overlaps.append(max_val)\n",
    "            if len(overlaps) > 0:\n",
    "                max_overlap = np.nanmax(overlaps)\n",
    "                distance_matrix[c_site][noncrch_site].append(max_overlap)\n",
    "distance_matrix = np.array(distance_matrix)"
   ]
  },
  {
   "cell_type": "code",
   "execution_count": 29,
   "metadata": {},
   "outputs": [],
   "source": [
    "with open(save_dir/'pcheckempty_cache.p', 'wb') as f:\n",
    "    pickle.dump(distance_matrix, f)"
   ]
  },
  {
   "cell_type": "markdown",
   "metadata": {},
   "source": [
    "### Put. Empty Check v Retrieval"
   ]
  },
  {
   "cell_type": "code",
   "execution_count": 30,
   "metadata": {
    "code_folding": [
     1
    ]
   },
   "outputs": [],
   "source": [
    "distance_matrix = [[[] for _ in range(16)] for _ in range(16)]\n",
    "for fil_string in population_patterns.keys():\n",
    "    f = h5py.File(fil_string, 'r')\n",
    "    exp_data = ExpData(f)\n",
    "    putative_checks = exp_data.get_putative_checks()\n",
    "    c_hops = population_patterns[fil_string]['c_hops']\n",
    "    r_hops = population_patterns[fil_string]['r_hops']\n",
    "    ch_hops = population_patterns[fil_string]['ch_hops']\n",
    "    noncrch_hops = population_patterns[fil_string]['noncrch_hops']\n",
    "    hop_patterns = population_patterns[fil_string]['hop_patterns']\n",
    "    for i, r_hop in enumerate(r_hops):\n",
    "        r_site = exp_data.event_sites[exp_data.retriev_event][i] - 1\n",
    "        retriev_pattern_mat = hop_patterns[r_hop]\n",
    "        for j, noncrch_hop in enumerate(noncrch_hops):\n",
    "            overlaps = []\n",
    "            noncrch_site = exp_data.hop_end_wedges[noncrch_hop] - 1\n",
    "            if not putative_checks[noncrch_hop]: continue\n",
    "            if noncrch_site == 16: continue\n",
    "            if exp_data.cache_present[noncrch_hop, noncrch_site]: continue\n",
    "            navig_pattern_mat = hop_patterns[noncrch_hop]\n",
    "            overlaps = []\n",
    "            for navig_pattern in navig_pattern_mat.T:\n",
    "                retriev_nav_overlap = popln_overlap(\n",
    "                    retriev_pattern_mat, navig_pattern\n",
    "                    )\n",
    "                max_val = np.nanmax(retriev_nav_overlap)\n",
    "                if not np.isnan(max_val):\n",
    "                    overlaps.append(max_val)\n",
    "            if len(overlaps) > 0:\n",
    "                max_overlap = np.nanmax(overlaps)\n",
    "                distance_matrix[r_site][noncrch_site].append(max_overlap)\n",
    "distance_matrix = np.array(distance_matrix)"
   ]
  },
  {
   "cell_type": "code",
   "execution_count": 31,
   "metadata": {},
   "outputs": [],
   "source": [
    "with open(save_dir/'pcheckempty_retriev.p', 'wb') as f:\n",
    "    pickle.dump(distance_matrix, f)"
   ]
  },
  {
   "cell_type": "markdown",
   "metadata": {},
   "source": [
    "### Put. Empty Check v Full Check"
   ]
  },
  {
   "cell_type": "code",
   "execution_count": 62,
   "metadata": {
    "code_folding": [
     0
    ]
   },
   "outputs": [],
   "source": [
    "def get_distance_mat(fil_string):\n",
    "    f = h5py.File(fil_string, 'r')\n",
    "    exp_data = ExpData(f)\n",
    "    putative_checks = exp_data.get_putative_checks()\n",
    "    c_hops = population_patterns[fil_string]['c_hops']\n",
    "    r_hops = population_patterns[fil_string]['r_hops']\n",
    "    ch_hops = population_patterns[fil_string]['ch_hops']\n",
    "    noncrch_hops = population_patterns[fil_string]['noncrch_hops']\n",
    "    hop_patterns = population_patterns[fil_string]['hop_patterns']\n",
    "    distance_matrix = [[[] for _ in range(16)] for _ in range(16)]\n",
    "    if ch_hops.size == 0: np.array(distance_matrix)\n",
    "    for i, ch_hop in enumerate(ch_hops):\n",
    "        ch_site = exp_data.event_sites[exp_data.check_event][i] - 1\n",
    "        if not exp_data.cache_present[ch_hop, ch_site]: continue\n",
    "        check_pattern_mat = hop_patterns[ch_hop]\n",
    "        for j, noncrch_hop in enumerate(noncrch_hops):\n",
    "            overlaps = []\n",
    "            noncrch_site = exp_data.hop_end_wedges[noncrch_hop] - 1\n",
    "            if not putative_checks[noncrch_hop]: continue\n",
    "            if noncrch_site == 16: continue\n",
    "            if exp_data.cache_present[noncrch_hop, noncrch_site]: continue\n",
    "            navig_pattern_mat = hop_patterns[noncrch_hop]\n",
    "            overlaps = []\n",
    "            for navig_pattern in navig_pattern_mat.T:\n",
    "                check_nav_overlap = popln_overlap(\n",
    "                    check_pattern_mat, navig_pattern\n",
    "                    )\n",
    "                max_val = np.nanmax(check_nav_overlap)\n",
    "                if not np.isnan(max_val):\n",
    "                    overlaps.append(max_val)\n",
    "            if len(overlaps) > 0:\n",
    "                max_overlap = np.nanmax(overlaps)\n",
    "                distance_matrix[ch_site][noncrch_site].append(max_overlap)\n",
    "    return np.array(distance_matrix)"
   ]
  },
  {
   "cell_type": "code",
   "execution_count": 63,
   "metadata": {
    "code_folding": [
     0
    ]
   },
   "outputs": [],
   "source": [
    "# Run in parallel\n",
    "PROCESSES = 5\n",
    "distance_matrices = []\n",
    "with multiprocessing.Pool(PROCESSES) as pool:\n",
    "    params = [p for p in population_patterns.keys()]\n",
    "    for res in pool.map(get_distance_mat, params):\n",
    "        distance_matrices.append(res)"
   ]
  },
  {
   "cell_type": "code",
   "execution_count": 64,
   "metadata": {
    "code_folding": [
     0
    ]
   },
   "outputs": [],
   "source": [
    "# Format into the same structure as before\n",
    "distance_matrix = [[[] for _ in range(16)] for _ in range(16)]\n",
    "for mat in distance_matrices:\n",
    "    for i in range(16):\n",
    "        for j in range(16):\n",
    "            distance_matrix[i][j].extend(mat[i][j])\n",
    "distance_matrix = np.array(distance_matrix)"
   ]
  },
  {
   "cell_type": "code",
   "execution_count": 65,
   "metadata": {
    "code_folding": [
     0
    ]
   },
   "outputs": [],
   "source": [
    "with open(save_dir/'pcheckempty_checkfull.p', 'wb') as f:\n",
    "    pickle.dump(distance_matrix, f)"
   ]
  },
  {
   "cell_type": "markdown",
   "metadata": {},
   "source": [
    "### Put. Empty Check v Full Nav"
   ]
  },
  {
   "cell_type": "code",
   "execution_count": 36,
   "metadata": {
    "code_folding": [
     0
    ]
   },
   "outputs": [],
   "source": [
    "def get_distance_mat(fil_string):\n",
    "    f = h5py.File(fil_string, 'r')\n",
    "    exp_data = ExpData(f)\n",
    "    putative_checks = exp_data.get_putative_checks()\n",
    "    c_hops = population_patterns[fil_string]['c_hops']\n",
    "    r_hops = population_patterns[fil_string]['r_hops']\n",
    "    ch_hops = population_patterns[fil_string]['ch_hops']\n",
    "    noncrch_hops = population_patterns[fil_string]['noncrch_hops']\n",
    "    hop_patterns = population_patterns[fil_string]['hop_patterns']\n",
    "    distance_matrix = [[[] for _ in range(16)] for _ in range(16)]\n",
    "    for i, noncrch1_hop in enumerate(noncrch_hops):\n",
    "        noncrch1_site = exp_data.hop_end_wedges[noncrch1_hop] - 1\n",
    "        if not putative_checks[noncrch1_hop]: continue\n",
    "        if noncrch1_site == 16: continue\n",
    "        if exp_data.cache_present[noncrch1_hop, noncrch1_site]: continue\n",
    "        noncrch1_pattern_mat = hop_patterns[noncrch1_hop]\n",
    "        for j, noncrch2_hop in enumerate(noncrch_hops):\n",
    "            if j <= i: continue\n",
    "            overlaps = []\n",
    "            noncrch2_site = exp_data.hop_end_wedges[noncrch2_hop] - 1\n",
    "            if putative_checks[noncrch2_hop]: continue\n",
    "            if noncrch2_site == 16: continue\n",
    "            if not exp_data.cache_present[noncrch2_hop, noncrch2_site]: continue\n",
    "            navig2_pattern_mat = hop_patterns[noncrch2_hop]\n",
    "            overlaps = []\n",
    "            for navig2_pattern in navig2_pattern_mat.T:\n",
    "                nav1_nav2_overlap = popln_overlap(\n",
    "                    noncrch1_pattern_mat, navig2_pattern\n",
    "                    )\n",
    "                max_val = np.nanmax(nav1_nav2_overlap)\n",
    "                if not np.isnan(max_val):\n",
    "                    overlaps.append(max_val)\n",
    "            if len(overlaps) > 0:\n",
    "                max_overlap = np.nanmax(overlaps)\n",
    "                distance_matrix[noncrch1_site][noncrch2_site].append(max_overlap)\n",
    "    return np.array(distance_matrix)"
   ]
  },
  {
   "cell_type": "code",
   "execution_count": 37,
   "metadata": {
    "code_folding": [
     0
    ]
   },
   "outputs": [],
   "source": [
    "# Run in parallel\n",
    "PROCESSES = 5\n",
    "distance_matrices = []\n",
    "with multiprocessing.Pool(PROCESSES) as pool:\n",
    "    params = [p for p in population_patterns.keys()]\n",
    "    for res in pool.map(get_distance_mat, params):\n",
    "        distance_matrices.append(res)"
   ]
  },
  {
   "cell_type": "code",
   "execution_count": 38,
   "metadata": {
    "code_folding": [
     0
    ]
   },
   "outputs": [],
   "source": [
    "# Format into the same structure as before\n",
    "distance_matrix = [[[] for _ in range(16)] for _ in range(16)]\n",
    "for mat in distance_matrices:\n",
    "    for i in range(16):\n",
    "        for j in range(16):\n",
    "            distance_matrix[i][j].extend(mat[i][j])\n",
    "distance_matrix = np.array(distance_matrix)"
   ]
  },
  {
   "cell_type": "code",
   "execution_count": 39,
   "metadata": {
    "code_folding": [
     0
    ]
   },
   "outputs": [],
   "source": [
    "with open(save_dir/'pcheckempty_navfull.p', 'wb') as f:\n",
    "    pickle.dump(distance_matrix, f)"
   ]
  },
  {
   "cell_type": "markdown",
   "metadata": {},
   "source": [
    "### Put. Empty Check v Empty Check"
   ]
  },
  {
   "cell_type": "code",
   "execution_count": 40,
   "metadata": {
    "code_folding": [
     1
    ]
   },
   "outputs": [],
   "source": [
    "distance_matrix = [[[] for _ in range(16)] for _ in range(16)]\n",
    "for fil_string in population_patterns.keys():\n",
    "    f = h5py.File(fil_string, 'r')\n",
    "    exp_data = ExpData(f)\n",
    "    putative_checks = exp_data.get_putative_checks()\n",
    "    c_hops = population_patterns[fil_string]['c_hops']\n",
    "    r_hops = population_patterns[fil_string]['r_hops']\n",
    "    ch_hops = population_patterns[fil_string]['ch_hops']\n",
    "    noncrch_hops = population_patterns[fil_string]['noncrch_hops']\n",
    "    hop_patterns = population_patterns[fil_string]['hop_patterns']\n",
    "    if ch_hops.size == 0: continue\n",
    "    for i, ch_hop in enumerate(ch_hops):\n",
    "        ch_site = exp_data.event_sites[exp_data.check_event][i] - 1\n",
    "        if exp_data.cache_present[ch_hop, ch_site]: continue\n",
    "        check_pattern_mat = hop_patterns[ch_hop]\n",
    "        for j, noncrch_hop in enumerate(noncrch_hops):\n",
    "            overlaps = []\n",
    "            noncrch_site = exp_data.hop_end_wedges[noncrch_hop] - 1\n",
    "            if noncrch_site == 16: continue\n",
    "            if not putative_checks[noncrch_hop]: continue\n",
    "            if exp_data.cache_present[noncrch_hop, noncrch_site]: continue\n",
    "            navig_pattern_mat = hop_patterns[noncrch_hop]\n",
    "            overlaps = []\n",
    "            for navig_pattern in navig_pattern_mat.T:\n",
    "                check_nav_overlap = popln_overlap(\n",
    "                    check_pattern_mat, navig_pattern\n",
    "                    )\n",
    "                max_val = np.nanmax(check_nav_overlap)\n",
    "                if not np.isnan(max_val):\n",
    "                    overlaps.append(max_val)\n",
    "            if len(overlaps) > 0:\n",
    "                max_overlap = np.nanmax(overlaps)\n",
    "                distance_matrix[ch_site][noncrch_site].append(max_overlap)\n",
    "distance_matrix = np.array(distance_matrix)"
   ]
  },
  {
   "cell_type": "code",
   "execution_count": 41,
   "metadata": {},
   "outputs": [],
   "source": [
    "with open(save_dir/'pcheckempty_checkempty.p', 'wb') as f:\n",
    "    pickle.dump(distance_matrix, f)"
   ]
  },
  {
   "cell_type": "markdown",
   "metadata": {},
   "source": [
    "### Put. Empty Check v Empty Nav"
   ]
  },
  {
   "cell_type": "code",
   "execution_count": 42,
   "metadata": {
    "code_folding": [
     0
    ]
   },
   "outputs": [],
   "source": [
    "def get_distance_mat(fil_string):\n",
    "    f = h5py.File(fil_string, 'r')\n",
    "    exp_data = ExpData(f)\n",
    "    putative_checks = exp_data.get_putative_checks()\n",
    "    c_hops = population_patterns[fil_string]['c_hops']\n",
    "    r_hops = population_patterns[fil_string]['r_hops']\n",
    "    ch_hops = population_patterns[fil_string]['ch_hops']\n",
    "    noncrch_hops = population_patterns[fil_string]['noncrch_hops']\n",
    "    hop_patterns = population_patterns[fil_string]['hop_patterns']\n",
    "    distance_matrix = [[[] for _ in range(16)] for _ in range(16)]\n",
    "    for i, noncrch1_hop in enumerate(noncrch_hops):\n",
    "        noncrch1_site = exp_data.hop_end_wedges[noncrch1_hop] - 1\n",
    "        if not putative_checks[noncrch1_hop]: continue\n",
    "        if noncrch1_site == 16: continue\n",
    "        if exp_data.cache_present[noncrch1_hop, noncrch1_site]: continue\n",
    "        noncrch1_pattern_mat = hop_patterns[noncrch1_hop]\n",
    "        for j, noncrch2_hop in enumerate(noncrch_hops):\n",
    "            if j <= i: continue\n",
    "            overlaps = []\n",
    "            noncrch2_site = exp_data.hop_end_wedges[noncrch2_hop] - 1\n",
    "            if putative_checks[noncrch2_hop]: continue\n",
    "            if noncrch2_site == 16: continue\n",
    "            if exp_data.cache_present[noncrch2_hop, noncrch2_site]: continue\n",
    "            navig2_pattern_mat = hop_patterns[noncrch2_hop]\n",
    "            overlaps = []\n",
    "            for navig2_pattern in navig2_pattern_mat.T:\n",
    "                nav1_nav2_overlap = popln_overlap(\n",
    "                    noncrch1_pattern_mat, navig2_pattern\n",
    "                    )\n",
    "                max_val = np.nanmax(nav1_nav2_overlap)\n",
    "                if not np.isnan(max_val):\n",
    "                    overlaps.append(max_val)\n",
    "            if len(overlaps) > 0:\n",
    "                max_overlap = np.nanmax(overlaps)\n",
    "                distance_matrix[noncrch1_site][noncrch2_site].append(max_overlap)\n",
    "    return np.array(distance_matrix)"
   ]
  },
  {
   "cell_type": "code",
   "execution_count": 43,
   "metadata": {
    "code_folding": [
     0
    ]
   },
   "outputs": [],
   "source": [
    "# Run in parallel\n",
    "PROCESSES = 5\n",
    "distance_matrices = []\n",
    "with multiprocessing.Pool(PROCESSES) as pool:\n",
    "    params = [p for p in population_patterns.keys()]\n",
    "    for res in pool.map(get_distance_mat, params):\n",
    "        distance_matrices.append(res)"
   ]
  },
  {
   "cell_type": "code",
   "execution_count": 44,
   "metadata": {
    "code_folding": [
     0
    ]
   },
   "outputs": [],
   "source": [
    "# Format into the same structure as before\n",
    "distance_matrix = [[[] for _ in range(16)] for _ in range(16)]\n",
    "for mat in distance_matrices:\n",
    "    for i in range(16):\n",
    "        for j in range(16):\n",
    "            distance_matrix[i][j].extend(mat[i][j])\n",
    "distance_matrix = np.array(distance_matrix)"
   ]
  },
  {
   "cell_type": "code",
   "execution_count": 45,
   "metadata": {},
   "outputs": [],
   "source": [
    "with open(save_dir/'pcheckempty_navempty.p', 'wb') as f:\n",
    "    pickle.dump(distance_matrix, f)"
   ]
  },
  {
   "cell_type": "markdown",
   "metadata": {},
   "source": [
    "### Put. Empty Check v Put. Empty Check"
   ]
  },
  {
   "cell_type": "code",
   "execution_count": 46,
   "metadata": {
    "code_folding": [
     0
    ]
   },
   "outputs": [],
   "source": [
    "def get_distance_mat(fil_string):\n",
    "    f = h5py.File(fil_string, 'r')\n",
    "    exp_data = ExpData(f)\n",
    "    putative_checks = exp_data.get_putative_checks()\n",
    "    c_hops = population_patterns[fil_string]['c_hops']\n",
    "    r_hops = population_patterns[fil_string]['r_hops']\n",
    "    ch_hops = population_patterns[fil_string]['ch_hops']\n",
    "    noncrch_hops = population_patterns[fil_string]['noncrch_hops']\n",
    "    hop_patterns = population_patterns[fil_string]['hop_patterns']\n",
    "    distance_matrix = [[[] for _ in range(16)] for _ in range(16)]\n",
    "    for i, noncrch1_hop in enumerate(noncrch_hops):\n",
    "        noncrch1_site = exp_data.hop_end_wedges[noncrch1_hop] - 1\n",
    "        if not putative_checks[noncrch1_hop]: continue\n",
    "        if noncrch1_site == 16: continue\n",
    "        if exp_data.cache_present[noncrch1_hop, noncrch1_site]: continue\n",
    "        noncrch1_pattern_mat = hop_patterns[noncrch1_hop]\n",
    "        for j, noncrch2_hop in enumerate(noncrch_hops):\n",
    "            if j <= i: continue\n",
    "            overlaps = []\n",
    "            noncrch2_site = exp_data.hop_end_wedges[noncrch2_hop] - 1\n",
    "            if not putative_checks[noncrch2_hop]: continue\n",
    "            if noncrch2_site == 16: continue\n",
    "            if exp_data.cache_present[noncrch2_hop, noncrch2_site]: continue\n",
    "            navig2_pattern_mat = hop_patterns[noncrch2_hop]\n",
    "            overlaps = []\n",
    "            for navig2_pattern in navig2_pattern_mat.T:\n",
    "                nav1_nav2_overlap = popln_overlap(\n",
    "                    noncrch1_pattern_mat, navig2_pattern\n",
    "                    )\n",
    "                max_val = np.nanmax(nav1_nav2_overlap)\n",
    "                if not np.isnan(max_val):\n",
    "                    overlaps.append(max_val)\n",
    "            if len(overlaps) > 0:\n",
    "                max_overlap = np.nanmax(overlaps)\n",
    "                distance_matrix[noncrch1_site][noncrch2_site].append(max_overlap)\n",
    "    return np.array(distance_matrix)"
   ]
  },
  {
   "cell_type": "code",
   "execution_count": 47,
   "metadata": {
    "code_folding": [
     0
    ]
   },
   "outputs": [],
   "source": [
    "# Run in parallel\n",
    "PROCESSES = 5\n",
    "distance_matrices = []\n",
    "with multiprocessing.Pool(PROCESSES) as pool:\n",
    "    params = [p for p in population_patterns.keys()]\n",
    "    for res in pool.map(get_distance_mat, params):\n",
    "        distance_matrices.append(res)"
   ]
  },
  {
   "cell_type": "code",
   "execution_count": 48,
   "metadata": {
    "code_folding": [
     0
    ]
   },
   "outputs": [],
   "source": [
    "# Format into the same structure as before\n",
    "distance_matrix = [[[] for _ in range(16)] for _ in range(16)]\n",
    "for mat in distance_matrices:\n",
    "    for i in range(16):\n",
    "        for j in range(16):\n",
    "            distance_matrix[i][j].extend(mat[i][j])\n",
    "distance_matrix = np.array(distance_matrix)"
   ]
  },
  {
   "cell_type": "code",
   "execution_count": 49,
   "metadata": {
    "code_folding": [
     0
    ]
   },
   "outputs": [],
   "source": [
    "with open(save_dir/'pcheckempty_pcheckempty.p', 'wb') as f:\n",
    "    pickle.dump(distance_matrix, f)"
   ]
  }
 ],
 "metadata": {
  "kernelspec": {
   "display_name": "Python 3",
   "language": "python",
   "name": "python3"
  },
  "language_info": {
   "codemirror_mode": {
    "name": "ipython",
    "version": 3
   },
   "file_extension": ".py",
   "mimetype": "text/x-python",
   "name": "python",
   "nbconvert_exporter": "python",
   "pygments_lexer": "ipython3",
   "version": "3.7.6"
  }
 },
 "nbformat": 4,
 "nbformat_minor": 4
}
