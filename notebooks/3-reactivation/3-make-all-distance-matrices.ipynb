{
 "cells": [
  {
   "cell_type": "code",
   "execution_count": null,
   "metadata": {},
   "outputs": [],
   "source": [
    "import pickle\n",
    "import numpy as np\n",
    "import pandas as pd\n",
    "import matplotlib.pyplot as plt\n",
    "import matplotlib.cm as cm\n",
    "import seaborn as sns\n",
    "import h5py\n",
    "import multiprocessing\n",
    "from math import pi\n",
    "\n",
    "from analysis.config import birds, h5_path_dict, pickle_dir\n",
    "from analysis.ExpData import ExpData\n",
    "from analysis.utils import popln_overlap, get_fr"
   ]
  },
  {
   "cell_type": "code",
   "execution_count": null,
   "metadata": {
    "code_folding": [
     0
    ]
   },
   "outputs": [],
   "source": [
    "def get_site_distance(a, b):\n",
    "    dist = min(\n",
    "        abs(a - b), 16 - abs(a-b)\n",
    "        ) % 16\n",
    "    return dist"
   ]
  },
  {
   "cell_type": "code",
   "execution_count": null,
   "metadata": {},
   "outputs": [],
   "source": [
    "with open(pickle_dir / 'population_patterns_checks.p', 'rb') as f: \n",
    "    population_patterns = pickle.load(f)"
   ]
  },
  {
   "cell_type": "code",
   "execution_count": null,
   "metadata": {},
   "outputs": [],
   "source": [
    "save_dir = pickle_dir/\"reactivation_pairs\""
   ]
  },
  {
   "cell_type": "markdown",
   "metadata": {},
   "source": [
    "# Runs pairwise overlap comparisons between visit types\n",
    "For each pairwise comparison, will do this for each pair of sites"
   ]
  },
  {
   "cell_type": "markdown",
   "metadata": {},
   "source": [
    "### Cache v Cache"
   ]
  },
  {
   "cell_type": "code",
   "execution_count": null,
   "metadata": {
    "code_folding": [
     2
    ]
   },
   "outputs": [],
   "source": [
    "distance_matrix = [[[] for _ in range(16)] for _ in range(16)]\n",
    "count = 0\n",
    "for fil_string in population_patterns.keys():\n",
    "    f = h5py.File(fil_string, 'r')\n",
    "    exp_data = ExpData(f)\n",
    "    c_hops = population_patterns[fil_string]['c_hops']\n",
    "    r_hops = population_patterns[fil_string]['r_hops']\n",
    "    hop_patterns = population_patterns[fil_string]['hop_patterns']\n",
    "    for i, c1_hop in enumerate(c_hops):\n",
    "        c1_site = int(exp_data.event_sites[exp_data.cache_event][i]) - 1\n",
    "        cache1_pattern_mat = hop_patterns[c1_hop]\n",
    "        for j, c2_hop in enumerate(c_hops):\n",
    "            if j <= i: continue\n",
    "            c2_site = int(exp_data.event_sites[exp_data.cache_event][j]) - 1\n",
    "            cache2_pattern_mat = hop_patterns[c2_hop]\n",
    "            overlaps = []\n",
    "            for cache2_pattern in cache2_pattern_mat.T:\n",
    "                cache1_cache2_overlap = popln_overlap(\n",
    "                    cache1_pattern_mat, cache2_pattern\n",
    "                    )\n",
    "                max_val = np.nanmax(cache1_cache2_overlap)\n",
    "                if not np.isnan(max_val):\n",
    "                    overlaps.append(max_val)\n",
    "            if len(overlaps) > 0:\n",
    "                max_overlap = np.nanmax(overlaps)\n",
    "                distance_matrix[c1_site][c2_site].append(max_overlap)\n",
    "                count += 1\n",
    "distance_matrix = np.array(distance_matrix)"
   ]
  },
  {
   "cell_type": "code",
   "execution_count": null,
   "metadata": {},
   "outputs": [],
   "source": [
    "with open(save_dir/'cache_cache.p', 'wb') as f:\n",
    "    pickle.dump(distance_matrix, f)"
   ]
  },
  {
   "cell_type": "markdown",
   "metadata": {},
   "source": [
    "### Cache v Retrieval"
   ]
  },
  {
   "cell_type": "code",
   "execution_count": null,
   "metadata": {
    "code_folding": [
     2
    ]
   },
   "outputs": [],
   "source": [
    "distance_matrix = [[[] for _ in range(16)] for _ in range(16)]\n",
    "count = 0\n",
    "for fil_string in population_patterns.keys():\n",
    "    f = h5py.File(fil_string, 'r')\n",
    "    exp_data = ExpData(f)\n",
    "    c_hops = population_patterns[fil_string]['c_hops']\n",
    "    r_hops = population_patterns[fil_string]['r_hops']\n",
    "    hop_patterns = population_patterns[fil_string]['hop_patterns']\n",
    "    for i, c_hop in enumerate(c_hops):\n",
    "        c_site = int(exp_data.event_sites[exp_data.cache_event][i]) - 1\n",
    "        cache_pattern_mat = hop_patterns[c_hop]\n",
    "        for j, r_hop in enumerate(r_hops):\n",
    "            r_site = int(exp_data.event_sites[exp_data.retriev_event][j]) - 1\n",
    "            retriev_pattern_mat = hop_patterns[r_hop]\n",
    "            overlaps = []\n",
    "            for retriev_pattern in retriev_pattern_mat.T:\n",
    "                cache_retriev_overlap = popln_overlap(\n",
    "                    cache_pattern_mat, retriev_pattern\n",
    "                    )\n",
    "                max_val = np.nanmax(cache_retriev_overlap)\n",
    "                if not np.isnan(max_val):\n",
    "                    overlaps.append(max_val)\n",
    "            if len(overlaps) > 0:\n",
    "                max_overlap = np.nanmax(overlaps)\n",
    "                distance_matrix[c_site][r_site].append(max_overlap)\n",
    "                count += 1\n",
    "distance_matrix = np.array(distance_matrix)"
   ]
  },
  {
   "cell_type": "code",
   "execution_count": null,
   "metadata": {},
   "outputs": [],
   "source": [
    "with open(save_dir/'cache_retriev.p', 'wb') as f:\n",
    "    pickle.dump(distance_matrix, f)"
   ]
  },
  {
   "cell_type": "markdown",
   "metadata": {},
   "source": [
    "### Cache v Full Check"
   ]
  },
  {
   "cell_type": "code",
   "execution_count": null,
   "metadata": {
    "code_folding": [
     1
    ]
   },
   "outputs": [],
   "source": [
    "distance_matrix = [[[] for _ in range(16)] for _ in range(16)]\n",
    "for fil_string in population_patterns.keys():\n",
    "    f = h5py.File(fil_string, 'r')\n",
    "    exp_data = ExpData(f)\n",
    "    c_hops = population_patterns[fil_string]['c_hops']\n",
    "    ch_hops = population_patterns[fil_string]['ch_hops']\n",
    "    noncrch_hops = population_patterns[fil_string]['noncrch_hops']\n",
    "    hop_patterns = population_patterns[fil_string]['hop_patterns']\n",
    "    if ch_hops.size == 0: continue\n",
    "    for i, c_hop in enumerate(c_hops):\n",
    "        c_site = exp_data.event_sites[exp_data.cache_event][i] - 1\n",
    "        cache_pattern_mat = hop_patterns[c_hop]\n",
    "        for j, ch_hop in enumerate(ch_hops):\n",
    "            ch_site = exp_data.event_sites[exp_data.check_event][j] - 1\n",
    "            if not exp_data.cache_present[ch_hop, ch_site]: continue\n",
    "            check_pattern_mat = hop_patterns[ch_hop]\n",
    "            overlaps = []\n",
    "            for check_pattern in check_pattern_mat.T:\n",
    "                cache_check_overlap = popln_overlap(\n",
    "                    cache_pattern_mat, check_pattern\n",
    "                    )\n",
    "                max_val = np.nanmax(cache_check_overlap)\n",
    "                if not np.isnan(max_val):\n",
    "                    overlaps.append(max_val)\n",
    "            if len(overlaps) > 0:\n",
    "                max_overlap = np.nanmax(overlaps)\n",
    "                distance_matrix[c_site][ch_site].append(max_overlap)         \n",
    "distance_matrix = np.array(distance_matrix)"
   ]
  },
  {
   "cell_type": "code",
   "execution_count": null,
   "metadata": {},
   "outputs": [],
   "source": [
    "with open(save_dir/'cache_checkfull.p', 'wb') as f:\n",
    "    pickle.dump(distance_matrix, f)"
   ]
  },
  {
   "cell_type": "markdown",
   "metadata": {},
   "source": [
    "### Cache v Empty Check"
   ]
  },
  {
   "cell_type": "code",
   "execution_count": null,
   "metadata": {
    "code_folding": [
     1
    ]
   },
   "outputs": [],
   "source": [
    "distance_matrix = [[[] for _ in range(16)] for _ in range(16)]\n",
    "for fil_string in population_patterns.keys():\n",
    "    f = h5py.File(fil_string, 'r')\n",
    "    exp_data = ExpData(f)\n",
    "    c_hops = population_patterns[fil_string]['c_hops']\n",
    "    ch_hops = population_patterns[fil_string]['ch_hops']\n",
    "    noncrch_hops = population_patterns[fil_string]['noncrch_hops']\n",
    "    hop_patterns = population_patterns[fil_string]['hop_patterns']\n",
    "    if ch_hops.size == 0: continue\n",
    "    for i, c_hop in enumerate(c_hops):\n",
    "        c_site = exp_data.event_sites[exp_data.cache_event][i] - 1\n",
    "        cache_pattern_mat = hop_patterns[c_hop]\n",
    "        for j, ch_hop in enumerate(ch_hops):\n",
    "            ch_site = exp_data.event_sites[exp_data.check_event][j] - 1\n",
    "            if exp_data.cache_present[ch_hop, ch_site]: continue\n",
    "            check_pattern_mat = hop_patterns[ch_hop]\n",
    "            overlaps = []\n",
    "            for check_pattern in check_pattern_mat.T:\n",
    "                cache_check_overlap = popln_overlap(\n",
    "                    cache_pattern_mat, check_pattern\n",
    "                    )\n",
    "                max_val = np.nanmax(cache_check_overlap)\n",
    "                if not np.isnan(max_val):\n",
    "                    overlaps.append(max_val)\n",
    "            if len(overlaps) > 0:\n",
    "                max_overlap = np.nanmax(overlaps)\n",
    "                distance_matrix[c_site][ch_site].append(max_overlap)         \n",
    "distance_matrix = np.array(distance_matrix)"
   ]
  },
  {
   "cell_type": "code",
   "execution_count": null,
   "metadata": {},
   "outputs": [],
   "source": [
    "with open(save_dir/'cache_checkempty.p', 'wb') as f:\n",
    "    pickle.dump(distance_matrix, f)"
   ]
  },
  {
   "cell_type": "markdown",
   "metadata": {},
   "source": [
    "### Cache v Full Nav"
   ]
  },
  {
   "cell_type": "code",
   "execution_count": null,
   "metadata": {
    "code_folding": [
     1
    ]
   },
   "outputs": [],
   "source": [
    "distance_matrix = [[[] for _ in range(16)] for _ in range(16)]\n",
    "for fil_string in population_patterns.keys():\n",
    "    f = h5py.File(fil_string, 'r')\n",
    "    exp_data = ExpData(f)\n",
    "    c_hops = population_patterns[fil_string]['c_hops']\n",
    "    ch_hops = population_patterns[fil_string]['ch_hops']\n",
    "    noncrch_hops = population_patterns[fil_string]['noncrch_hops']\n",
    "    hop_patterns = population_patterns[fil_string]['hop_patterns']\n",
    "    for i, c_hop in enumerate(c_hops):\n",
    "        c_site = exp_data.event_sites[exp_data.cache_event][i] - 1\n",
    "        cache_pattern_mat = hop_patterns[c_hop]\n",
    "        for j, noncrch_hop in enumerate(noncrch_hops):\n",
    "            overlaps = []\n",
    "            noncrch_site = exp_data.hop_end_wedges[noncrch_hop] - 1\n",
    "            if noncrch_site == 16: continue\n",
    "            if not exp_data.cache_present[noncrch_hop, noncrch_site]: continue\n",
    "            navig_pattern_mat = hop_patterns[noncrch_hop]\n",
    "            overlaps = []\n",
    "            for navig_pattern in navig_pattern_mat.T:\n",
    "                cache_nav_overlap = popln_overlap(\n",
    "                    cache_pattern_mat, navig_pattern\n",
    "                    )\n",
    "                max_val = np.nanmax(cache_nav_overlap)\n",
    "                if not np.isnan(max_val):\n",
    "                    overlaps.append(max_val)\n",
    "            if len(overlaps) > 0:\n",
    "                max_overlap = np.nanmax(overlaps)\n",
    "                distance_matrix[c_site][noncrch_site].append(max_overlap)\n",
    "distance_matrix = np.array(distance_matrix)"
   ]
  },
  {
   "cell_type": "code",
   "execution_count": null,
   "metadata": {},
   "outputs": [],
   "source": [
    "with open(save_dir/'cache_navfull.p', 'wb') as f:\n",
    "    pickle.dump(distance_matrix, f)"
   ]
  },
  {
   "cell_type": "markdown",
   "metadata": {},
   "source": [
    "### Cache v Empty Nav"
   ]
  },
  {
   "cell_type": "code",
   "execution_count": null,
   "metadata": {
    "code_folding": [
     1
    ]
   },
   "outputs": [],
   "source": [
    "distance_matrix = [[[] for _ in range(16)] for _ in range(16)]\n",
    "for fil_string in population_patterns.keys():\n",
    "    f = h5py.File(fil_string, 'r')\n",
    "    exp_data = ExpData(f)\n",
    "    c_hops = population_patterns[fil_string]['c_hops']\n",
    "    ch_hops = population_patterns[fil_string]['ch_hops']\n",
    "    noncrch_hops = population_patterns[fil_string]['noncrch_hops']\n",
    "    hop_patterns = population_patterns[fil_string]['hop_patterns']\n",
    "    for i, c_hop in enumerate(c_hops):\n",
    "        c_site = exp_data.event_sites[exp_data.cache_event][i] - 1\n",
    "        cache_pattern_mat = hop_patterns[c_hop]\n",
    "        for j, noncrch_hop in enumerate(noncrch_hops):\n",
    "            overlaps = []\n",
    "            noncrch_site = exp_data.hop_end_wedges[noncrch_hop] - 1\n",
    "            if noncrch_site == 16: continue\n",
    "            if exp_data.cache_present[noncrch_hop, noncrch_site]: continue\n",
    "            navig_pattern_mat = hop_patterns[noncrch_hop]\n",
    "            overlaps = []\n",
    "            for navig_pattern in navig_pattern_mat.T:\n",
    "                cache_nav_overlap = popln_overlap(\n",
    "                    cache_pattern_mat, navig_pattern\n",
    "                    )\n",
    "                max_val = np.nanmax(cache_nav_overlap)\n",
    "                if not np.isnan(max_val):\n",
    "                    overlaps.append(max_val)\n",
    "            if len(overlaps) > 0:\n",
    "                max_overlap = np.nanmax(overlaps)\n",
    "                distance_matrix[c_site][noncrch_site].append(max_overlap)\n",
    "distance_matrix = np.array(distance_matrix)"
   ]
  },
  {
   "cell_type": "code",
   "execution_count": null,
   "metadata": {},
   "outputs": [],
   "source": [
    "with open(save_dir/'cache_navempty.p', 'wb') as f:\n",
    "    pickle.dump(distance_matrix, f)"
   ]
  },
  {
   "cell_type": "markdown",
   "metadata": {},
   "source": [
    "### Retrieval v Retrieval"
   ]
  },
  {
   "cell_type": "code",
   "execution_count": null,
   "metadata": {
    "code_folding": [
     2
    ]
   },
   "outputs": [],
   "source": [
    "distance_matrix = [[[] for _ in range(16)] for _ in range(16)]\n",
    "count = 0\n",
    "for fil_string in population_patterns.keys():\n",
    "    f = h5py.File(fil_string, 'r')\n",
    "    exp_data = ExpData(f)\n",
    "    c_hops = population_patterns[fil_string]['c_hops']\n",
    "    r_hops = population_patterns[fil_string]['r_hops']\n",
    "    hop_patterns = population_patterns[fil_string]['hop_patterns']\n",
    "    for i, r1_hop in enumerate(r_hops):\n",
    "        r1_site = int(exp_data.event_sites[exp_data.retriev_event][i]) - 1\n",
    "        retriev1_pattern_mat = hop_patterns[r1_hop]\n",
    "        for j, r2_hop in enumerate(r_hops):\n",
    "            if j <= i: continue\n",
    "            r2_site = int(exp_data.event_sites[exp_data.retriev_event][j]) - 1\n",
    "            retriev2_pattern_mat = hop_patterns[r2_hop]\n",
    "            overlaps = []\n",
    "            for retriev2_pattern in retriev2_pattern_mat.T:\n",
    "                retriev1_retriev2_overlap = popln_overlap(\n",
    "                    retriev1_pattern_mat, retriev2_pattern\n",
    "                    )\n",
    "                max_val = np.nanmax(retriev1_retriev2_overlap)\n",
    "                if not np.isnan(max_val):\n",
    "                    overlaps.append(max_val)\n",
    "            if len(overlaps) > 0:\n",
    "                max_overlap = np.nanmax(overlaps)\n",
    "                distance_matrix[r1_site][r2_site].append(max_overlap)\n",
    "                count += 1\n",
    "distance_matrix = np.array(distance_matrix)"
   ]
  },
  {
   "cell_type": "code",
   "execution_count": null,
   "metadata": {},
   "outputs": [],
   "source": [
    "with open(save_dir/'retriev_retriev.p', 'wb') as f:\n",
    "    pickle.dump(distance_matrix, f)"
   ]
  },
  {
   "cell_type": "markdown",
   "metadata": {},
   "source": [
    "### Retrieval v Full Check"
   ]
  },
  {
   "cell_type": "code",
   "execution_count": null,
   "metadata": {
    "code_folding": [
     1
    ]
   },
   "outputs": [],
   "source": [
    "distance_matrix = [[[] for _ in range(16)] for _ in range(16)]\n",
    "for fil_string in population_patterns.keys():\n",
    "    f = h5py.File(fil_string, 'r')\n",
    "    exp_data = ExpData(f)\n",
    "    c_hops = population_patterns[fil_string]['c_hops']\n",
    "    r_hops = population_patterns[fil_string]['r_hops']\n",
    "    ch_hops = population_patterns[fil_string]['ch_hops']\n",
    "    noncrch_hops = population_patterns[fil_string]['noncrch_hops']\n",
    "    hop_patterns = population_patterns[fil_string]['hop_patterns']\n",
    "    if ch_hops.size == 0: continue\n",
    "    for i, r_hop in enumerate(r_hops):\n",
    "        r_site = exp_data.event_sites[exp_data.retriev_event][i] - 1\n",
    "        retriev_pattern_mat = hop_patterns[r_hop]\n",
    "        for j, ch_hop in enumerate(ch_hops):\n",
    "            ch_site = exp_data.event_sites[exp_data.check_event][j] - 1\n",
    "            if not exp_data.cache_present[ch_hop, ch_site]: continue\n",
    "            check_pattern_mat = hop_patterns[ch_hop]\n",
    "            overlaps = []\n",
    "            for check_pattern in check_pattern_mat.T:\n",
    "                retriev_check_overlap = popln_overlap(\n",
    "                    retriev_pattern_mat, check_pattern\n",
    "                    )\n",
    "                max_val = np.nanmax(retriev_check_overlap)\n",
    "                if not np.isnan(max_val):\n",
    "                    overlaps.append(max_val)\n",
    "            if len(overlaps) > 0:\n",
    "                max_overlap = np.nanmax(overlaps)\n",
    "                distance_matrix[r_site][ch_site].append(max_overlap)         \n",
    "distance_matrix = np.array(distance_matrix)"
   ]
  },
  {
   "cell_type": "code",
   "execution_count": null,
   "metadata": {},
   "outputs": [],
   "source": [
    "with open(save_dir/'retriev_checkfull.p', 'wb') as f:\n",
    "    pickle.dump(distance_matrix, f)"
   ]
  },
  {
   "cell_type": "markdown",
   "metadata": {},
   "source": [
    "### Retrieval v Empty Check"
   ]
  },
  {
   "cell_type": "code",
   "execution_count": null,
   "metadata": {
    "code_folding": [
     1
    ]
   },
   "outputs": [],
   "source": [
    "distance_matrix = [[[] for _ in range(16)] for _ in range(16)]\n",
    "for fil_string in population_patterns.keys():\n",
    "    f = h5py.File(fil_string, 'r')\n",
    "    exp_data = ExpData(f)\n",
    "    c_hops = population_patterns[fil_string]['c_hops']\n",
    "    r_hops = population_patterns[fil_string]['r_hops']\n",
    "    ch_hops = population_patterns[fil_string]['ch_hops']\n",
    "    noncrch_hops = population_patterns[fil_string]['noncrch_hops']\n",
    "    hop_patterns = population_patterns[fil_string]['hop_patterns']\n",
    "    if ch_hops.size == 0: continue\n",
    "    for i, r_hop in enumerate(r_hops):\n",
    "        r_site = exp_data.event_sites[exp_data.retriev_event][i] - 1\n",
    "        retriev_pattern_mat = hop_patterns[r_hop]\n",
    "        for j, ch_hop in enumerate(ch_hops):\n",
    "            ch_site = exp_data.event_sites[exp_data.check_event][j] - 1\n",
    "            if exp_data.cache_present[ch_hop, ch_site]: continue\n",
    "            check_pattern_mat = hop_patterns[ch_hop]\n",
    "            overlaps = []\n",
    "            for check_pattern in check_pattern_mat.T:\n",
    "                retriev_check_overlap = popln_overlap(\n",
    "                    retriev_pattern_mat, check_pattern\n",
    "                    )\n",
    "                max_val = np.nanmax(retriev_check_overlap)\n",
    "                if not np.isnan(max_val):\n",
    "                    overlaps.append(max_val)\n",
    "            if len(overlaps) > 0:\n",
    "                max_overlap = np.nanmax(overlaps)\n",
    "                distance_matrix[r_site][ch_site].append(max_overlap)    \n",
    "distance_matrix = np.array(distance_matrix)"
   ]
  },
  {
   "cell_type": "code",
   "execution_count": null,
   "metadata": {},
   "outputs": [],
   "source": [
    "with open(save_dir/'retriev_checkempty.p', 'wb') as f:\n",
    "    pickle.dump(distance_matrix, f)"
   ]
  },
  {
   "cell_type": "markdown",
   "metadata": {},
   "source": [
    "### Retriev v Full Nav"
   ]
  },
  {
   "cell_type": "code",
   "execution_count": null,
   "metadata": {
    "code_folding": [
     1
    ]
   },
   "outputs": [],
   "source": [
    "distance_matrix = [[[] for _ in range(16)] for _ in range(16)]\n",
    "for fil_string in population_patterns.keys():\n",
    "    f = h5py.File(fil_string, 'r')\n",
    "    exp_data = ExpData(f)\n",
    "    c_hops = population_patterns[fil_string]['c_hops']\n",
    "    r_hops = population_patterns[fil_string]['r_hops']\n",
    "    ch_hops = population_patterns[fil_string]['ch_hops']\n",
    "    noncrch_hops = population_patterns[fil_string]['noncrch_hops']\n",
    "    hop_patterns = population_patterns[fil_string]['hop_patterns']\n",
    "    for i, r_hop in enumerate(r_hops):\n",
    "        r_site = exp_data.event_sites[exp_data.retriev_event][i] - 1\n",
    "        retriev_pattern_mat = hop_patterns[r_hop]\n",
    "        for j, noncrch_hop in enumerate(noncrch_hops):\n",
    "            overlaps = []\n",
    "            noncrch_site = exp_data.hop_end_wedges[noncrch_hop] - 1\n",
    "            if noncrch_site == 16: continue\n",
    "            if not exp_data.cache_present[noncrch_hop, noncrch_site]: continue\n",
    "            navig_pattern_mat = hop_patterns[noncrch_hop]\n",
    "            overlaps = []\n",
    "            for navig_pattern in navig_pattern_mat.T:\n",
    "                retriev_nav_overlap = popln_overlap(\n",
    "                    retriev_pattern_mat, navig_pattern\n",
    "                    )\n",
    "                max_val = np.nanmax(retriev_nav_overlap)\n",
    "                if not np.isnan(max_val):\n",
    "                    overlaps.append(max_val)\n",
    "            if len(overlaps) > 0:\n",
    "                max_overlap = np.nanmax(overlaps)\n",
    "                distance_matrix[r_site][noncrch_site].append(max_overlap)\n",
    "distance_matrix = np.array(distance_matrix)"
   ]
  },
  {
   "cell_type": "code",
   "execution_count": null,
   "metadata": {},
   "outputs": [],
   "source": [
    "with open(save_dir/'retriev_navfull.p', 'wb') as f:\n",
    "    pickle.dump(distance_matrix, f)"
   ]
  },
  {
   "cell_type": "markdown",
   "metadata": {},
   "source": [
    "### Retriev v Empty Nav"
   ]
  },
  {
   "cell_type": "code",
   "execution_count": null,
   "metadata": {
    "code_folding": [
     1
    ]
   },
   "outputs": [],
   "source": [
    "distance_matrix = [[[] for _ in range(16)] for _ in range(16)]\n",
    "for fil_string in population_patterns.keys():\n",
    "    f = h5py.File(fil_string, 'r')\n",
    "    exp_data = ExpData(f)\n",
    "    c_hops = population_patterns[fil_string]['c_hops']\n",
    "    r_hops = population_patterns[fil_string]['r_hops']\n",
    "    ch_hops = population_patterns[fil_string]['ch_hops']\n",
    "    noncrch_hops = population_patterns[fil_string]['noncrch_hops']\n",
    "    hop_patterns = population_patterns[fil_string]['hop_patterns']\n",
    "    for i, r_hop in enumerate(r_hops):\n",
    "        r_site = exp_data.event_sites[exp_data.retriev_event][i] - 1\n",
    "        retriev_pattern_mat = hop_patterns[r_hop]\n",
    "        for j, noncrch_hop in enumerate(noncrch_hops):\n",
    "            overlaps = []\n",
    "            noncrch_site = exp_data.hop_end_wedges[noncrch_hop] - 1\n",
    "            if noncrch_site == 16: continue\n",
    "            if exp_data.cache_present[noncrch_hop, noncrch_site]: continue\n",
    "            navig_pattern_mat = hop_patterns[noncrch_hop]\n",
    "            overlaps = []\n",
    "            for navig_pattern in navig_pattern_mat.T:\n",
    "                retriev_nav_overlap = popln_overlap(\n",
    "                    retriev_pattern_mat, navig_pattern\n",
    "                    )\n",
    "                max_val = np.nanmax(retriev_nav_overlap)\n",
    "                if not np.isnan(max_val):\n",
    "                    overlaps.append(max_val)\n",
    "            if len(overlaps) > 0:\n",
    "                max_overlap = np.nanmax(overlaps)\n",
    "                distance_matrix[r_site][noncrch_site].append(max_overlap)\n",
    "distance_matrix = np.array(distance_matrix)"
   ]
  },
  {
   "cell_type": "code",
   "execution_count": null,
   "metadata": {},
   "outputs": [],
   "source": [
    "with open(save_dir/'retriev_navempty.p', 'wb') as f:\n",
    "    pickle.dump(distance_matrix, f)"
   ]
  },
  {
   "cell_type": "markdown",
   "metadata": {},
   "source": [
    "### Empty Check v Empty Check"
   ]
  },
  {
   "cell_type": "code",
   "execution_count": null,
   "metadata": {
    "code_folding": [
     1
    ]
   },
   "outputs": [],
   "source": [
    "distance_matrix = [[[] for _ in range(16)] for _ in range(16)]\n",
    "for fil_string in population_patterns.keys():\n",
    "    f = h5py.File(fil_string, 'r')\n",
    "    exp_data = ExpData(f)\n",
    "    c_hops = population_patterns[fil_string]['c_hops']\n",
    "    r_hops = population_patterns[fil_string]['r_hops']\n",
    "    ch_hops = population_patterns[fil_string]['ch_hops']\n",
    "    noncrch_hops = population_patterns[fil_string]['noncrch_hops']\n",
    "    hop_patterns = population_patterns[fil_string]['hop_patterns']\n",
    "    if ch_hops.size == 0: continue\n",
    "    for i, ch1_hop in enumerate(ch_hops):\n",
    "        ch1_site = exp_data.event_sites[exp_data.check_event][i] - 1\n",
    "        if exp_data.cache_present[ch1_hop, ch1_site]: continue\n",
    "        check1_pattern_mat = hop_patterns[ch1_hop]\n",
    "        for j, ch2_hop in enumerate(ch_hops):\n",
    "            if j <= i: continue\n",
    "            ch2_site = exp_data.event_sites[exp_data.check_event][j] - 1\n",
    "            if exp_data.cache_present[ch2_hop, ch2_site]: continue\n",
    "            check2_pattern_mat = hop_patterns[ch2_hop]\n",
    "            overlaps = []\n",
    "            for check2_pattern in check2_pattern_mat.T:\n",
    "                check1_check2_overlap = popln_overlap(\n",
    "                    check1_pattern_mat, check2_pattern\n",
    "                    )\n",
    "                max_val = np.nanmax(check1_check2_overlap)\n",
    "                if not np.isnan(max_val):\n",
    "                    overlaps.append(max_val)\n",
    "            if len(overlaps) > 0:\n",
    "                max_overlap = np.nanmax(overlaps)\n",
    "                distance_matrix[ch1_site][ch2_site].append(max_overlap)    \n",
    "distance_matrix = np.array(distance_matrix)"
   ]
  },
  {
   "cell_type": "code",
   "execution_count": null,
   "metadata": {},
   "outputs": [],
   "source": [
    "with open(save_dir/'checkempty_checkempty.p', 'wb') as f:\n",
    "    pickle.dump(distance_matrix, f)"
   ]
  },
  {
   "cell_type": "markdown",
   "metadata": {},
   "source": [
    "### Empty Check v Full Check"
   ]
  },
  {
   "cell_type": "code",
   "execution_count": null,
   "metadata": {
    "code_folding": [
     1
    ]
   },
   "outputs": [],
   "source": [
    "distance_matrix = [[[] for _ in range(16)] for _ in range(16)]\n",
    "for fil_string in population_patterns.keys():\n",
    "    f = h5py.File(fil_string, 'r')\n",
    "    exp_data = ExpData(f)\n",
    "    c_hops = population_patterns[fil_string]['c_hops']\n",
    "    r_hops = population_patterns[fil_string]['r_hops']\n",
    "    ch_hops = population_patterns[fil_string]['ch_hops']\n",
    "    noncrch_hops = population_patterns[fil_string]['noncrch_hops']\n",
    "    hop_patterns = population_patterns[fil_string]['hop_patterns']\n",
    "    if ch_hops.size == 0: continue\n",
    "    for i, ch1_hop in enumerate(ch_hops):\n",
    "        ch1_site = exp_data.event_sites[exp_data.check_event][i] - 1\n",
    "        if exp_data.cache_present[ch1_hop, ch1_site]: continue\n",
    "        check1_pattern_mat = hop_patterns[ch1_hop]\n",
    "        for j, ch2_hop in enumerate(ch_hops):\n",
    "            if j <= i: continue\n",
    "            ch2_site = exp_data.event_sites[exp_data.check_event][j] - 1\n",
    "            if not exp_data.cache_present[ch2_hop, ch2_site]: continue\n",
    "            check2_pattern_mat = hop_patterns[ch2_hop]\n",
    "            overlaps = []\n",
    "            for check2_pattern in check2_pattern_mat.T:\n",
    "                check1_check2_overlap = popln_overlap(\n",
    "                    check1_pattern_mat, check2_pattern\n",
    "                    )\n",
    "                max_val = np.nanmax(check1_check2_overlap)\n",
    "                if not np.isnan(max_val):\n",
    "                    overlaps.append(max_val)\n",
    "            if len(overlaps) > 0:\n",
    "                max_overlap = np.nanmax(overlaps)\n",
    "                distance_matrix[ch1_site][ch2_site].append(max_overlap)    \n",
    "distance_matrix = np.array(distance_matrix)"
   ]
  },
  {
   "cell_type": "code",
   "execution_count": null,
   "metadata": {},
   "outputs": [],
   "source": [
    "with open(save_dir/'checkempty_checkfull.p', 'wb') as f:\n",
    "    pickle.dump(distance_matrix, f)"
   ]
  },
  {
   "cell_type": "markdown",
   "metadata": {},
   "source": [
    "### Empty Check v Empty Nav"
   ]
  },
  {
   "cell_type": "code",
   "execution_count": null,
   "metadata": {
    "code_folding": [
     1
    ]
   },
   "outputs": [],
   "source": [
    "distance_matrix = [[[] for _ in range(16)] for _ in range(16)]\n",
    "for fil_string in population_patterns.keys():\n",
    "    f = h5py.File(fil_string, 'r')\n",
    "    exp_data = ExpData(f)\n",
    "    c_hops = population_patterns[fil_string]['c_hops']\n",
    "    r_hops = population_patterns[fil_string]['r_hops']\n",
    "    ch_hops = population_patterns[fil_string]['ch_hops']\n",
    "    noncrch_hops = population_patterns[fil_string]['noncrch_hops']\n",
    "    hop_patterns = population_patterns[fil_string]['hop_patterns']\n",
    "    if ch_hops.size == 0: continue\n",
    "    for i, ch_hop in enumerate(ch_hops):\n",
    "        ch_site = exp_data.event_sites[exp_data.check_event][i] - 1\n",
    "        if exp_data.cache_present[ch_hop, ch_site]: continue\n",
    "        check_pattern_mat = hop_patterns[ch_hop]\n",
    "        for j, noncrch_hop in enumerate(noncrch_hops):\n",
    "            overlaps = []\n",
    "            noncrch_site = exp_data.hop_end_wedges[noncrch_hop] - 1\n",
    "            if noncrch_site == 16: continue\n",
    "            if exp_data.cache_present[noncrch_hop, noncrch_site]: continue\n",
    "            navig_pattern_mat = hop_patterns[noncrch_hop]\n",
    "            overlaps = []\n",
    "            for navig_pattern in navig_pattern_mat.T:\n",
    "                check_nav_overlap = popln_overlap(\n",
    "                    check_pattern_mat, navig_pattern\n",
    "                    )\n",
    "                max_val = np.nanmax(check_nav_overlap)\n",
    "                if not np.isnan(max_val):\n",
    "                    overlaps.append(max_val)\n",
    "            if len(overlaps) > 0:\n",
    "                max_overlap = np.nanmax(overlaps)\n",
    "                distance_matrix[ch_site][noncrch_site].append(max_overlap)\n",
    "distance_matrix = np.array(distance_matrix)"
   ]
  },
  {
   "cell_type": "code",
   "execution_count": null,
   "metadata": {},
   "outputs": [],
   "source": [
    "with open(save_dir/'checkempty_navempty.p', 'wb') as f:\n",
    "    pickle.dump(distance_matrix, f)"
   ]
  },
  {
   "cell_type": "markdown",
   "metadata": {},
   "source": [
    "### Empty Check v Full Nav"
   ]
  },
  {
   "cell_type": "code",
   "execution_count": null,
   "metadata": {
    "code_folding": [
     1
    ]
   },
   "outputs": [],
   "source": [
    "distance_matrix = [[[] for _ in range(16)] for _ in range(16)]\n",
    "for fil_string in population_patterns.keys():\n",
    "    f = h5py.File(fil_string, 'r')\n",
    "    exp_data = ExpData(f)\n",
    "    c_hops = population_patterns[fil_string]['c_hops']\n",
    "    r_hops = population_patterns[fil_string]['r_hops']\n",
    "    ch_hops = population_patterns[fil_string]['ch_hops']\n",
    "    noncrch_hops = population_patterns[fil_string]['noncrch_hops']\n",
    "    hop_patterns = population_patterns[fil_string]['hop_patterns']\n",
    "    if ch_hops.size == 0: continue\n",
    "    for i, ch_hop in enumerate(ch_hops):\n",
    "        ch_site = exp_data.event_sites[exp_data.check_event][i] - 1\n",
    "        if exp_data.cache_present[ch_hop, ch_site]: continue\n",
    "        check_pattern_mat = hop_patterns[ch_hop]\n",
    "        for j, noncrch_hop in enumerate(noncrch_hops):\n",
    "            overlaps = []\n",
    "            noncrch_site = exp_data.hop_end_wedges[noncrch_hop] - 1\n",
    "            if noncrch_site == 16: continue\n",
    "            if not exp_data.cache_present[noncrch_hop, noncrch_site]: continue\n",
    "            navig_pattern_mat = hop_patterns[noncrch_hop]\n",
    "            overlaps = []\n",
    "            for navig_pattern in navig_pattern_mat.T:\n",
    "                check_nav_overlap = popln_overlap(\n",
    "                    check_pattern_mat, navig_pattern\n",
    "                    )\n",
    "                max_val = np.nanmax(check_nav_overlap)\n",
    "                if not np.isnan(max_val):\n",
    "                    overlaps.append(max_val)\n",
    "            if len(overlaps) > 0:\n",
    "                max_overlap = np.nanmax(overlaps)\n",
    "                distance_matrix[ch_site][noncrch_site].append(max_overlap)\n",
    "distance_matrix = np.array(distance_matrix)"
   ]
  },
  {
   "cell_type": "code",
   "execution_count": null,
   "metadata": {},
   "outputs": [],
   "source": [
    "with open(save_dir/'checkempty_navfull.p', 'wb') as f:\n",
    "    pickle.dump(distance_matrix, f)"
   ]
  },
  {
   "cell_type": "markdown",
   "metadata": {},
   "source": [
    "### Full Check v Full Check"
   ]
  },
  {
   "cell_type": "code",
   "execution_count": null,
   "metadata": {
    "code_folding": [
     1
    ]
   },
   "outputs": [],
   "source": [
    "distance_matrix = [[[] for _ in range(16)] for _ in range(16)]\n",
    "for fil_string in population_patterns.keys():\n",
    "    f = h5py.File(fil_string, 'r')\n",
    "    exp_data = ExpData(f)\n",
    "    c_hops = population_patterns[fil_string]['c_hops']\n",
    "    r_hops = population_patterns[fil_string]['r_hops']\n",
    "    ch_hops = population_patterns[fil_string]['ch_hops']\n",
    "    noncrch_hops = population_patterns[fil_string]['noncrch_hops']\n",
    "    hop_patterns = population_patterns[fil_string]['hop_patterns']\n",
    "    if ch_hops.size == 0: continue\n",
    "    for i, ch1_hop in enumerate(ch_hops):\n",
    "        ch1_site = exp_data.event_sites[exp_data.check_event][i] - 1\n",
    "        if not exp_data.cache_present[ch1_hop, ch1_site]: continue\n",
    "        check1_pattern_mat = hop_patterns[ch1_hop]\n",
    "        for j, ch2_hop in enumerate(ch_hops):\n",
    "            if j <= i: continue\n",
    "            ch2_site = exp_data.event_sites[exp_data.check_event][j] - 1\n",
    "            if not exp_data.cache_present[ch2_hop, ch2_site]: continue\n",
    "            check2_pattern_mat = hop_patterns[ch2_hop]\n",
    "            overlaps = []\n",
    "            for check2_pattern in check2_pattern_mat.T:\n",
    "                check1_check2_overlap = popln_overlap(\n",
    "                    check1_pattern_mat, check2_pattern\n",
    "                    )\n",
    "                max_val = np.nanmax(check1_check2_overlap)\n",
    "                if not np.isnan(max_val):\n",
    "                    overlaps.append(max_val)\n",
    "            if len(overlaps) > 0:\n",
    "                max_overlap = np.nanmax(overlaps)\n",
    "                distance_matrix[ch1_site][ch2_site].append(max_overlap)    \n",
    "distance_matrix = np.array(distance_matrix)"
   ]
  },
  {
   "cell_type": "code",
   "execution_count": null,
   "metadata": {},
   "outputs": [],
   "source": [
    "with open(save_dir/'checkfull_checkfull.p', 'wb') as f:\n",
    "    pickle.dump(distance_matrix, f)"
   ]
  },
  {
   "cell_type": "markdown",
   "metadata": {},
   "source": [
    "### Full Check v Empty Nav"
   ]
  },
  {
   "cell_type": "code",
   "execution_count": null,
   "metadata": {
    "code_folding": [
     0
    ]
   },
   "outputs": [],
   "source": [
    "def get_distance_mat(fil_string):\n",
    "    f = h5py.File(fil_string, 'r')\n",
    "    exp_data = ExpData(f)\n",
    "    c_hops = population_patterns[fil_string]['c_hops']\n",
    "    r_hops = population_patterns[fil_string]['r_hops']\n",
    "    ch_hops = population_patterns[fil_string]['ch_hops']\n",
    "    noncrch_hops = population_patterns[fil_string]['noncrch_hops']\n",
    "    hop_patterns = population_patterns[fil_string]['hop_patterns']\n",
    "    distance_matrix = [[[] for _ in range(16)] for _ in range(16)]\n",
    "    if ch_hops.size == 0: return np.array(distance_matrix)\n",
    "    for i, ch_hop in enumerate(ch_hops):\n",
    "        ch_site = exp_data.event_sites[exp_data.check_event][i] - 1\n",
    "        if not exp_data.cache_present[ch_hop, ch_site]: continue\n",
    "        check_pattern_mat = hop_patterns[ch_hop]\n",
    "        for j, noncrch_hop in enumerate(noncrch_hops):\n",
    "            overlaps = []\n",
    "            noncrch_site = exp_data.hop_end_wedges[noncrch_hop] - 1\n",
    "            if noncrch_site == 16: continue\n",
    "            if exp_data.cache_present[noncrch_hop, noncrch_site]: continue\n",
    "            navig_pattern_mat = hop_patterns[noncrch_hop]\n",
    "            overlaps = []\n",
    "            for navig_pattern in navig_pattern_mat.T:\n",
    "                check_nav_overlap = popln_overlap(\n",
    "                    check_pattern_mat, navig_pattern\n",
    "                    )\n",
    "                max_val = np.nanmax(check_nav_overlap)\n",
    "                if not np.isnan(max_val):\n",
    "                    overlaps.append(max_val)\n",
    "            if len(overlaps) > 0:\n",
    "                max_overlap = np.nanmax(overlaps)\n",
    "                distance_matrix[ch_site][noncrch_site].append(max_overlap)\n",
    "    return np.array(distance_matrix)"
   ]
  },
  {
   "cell_type": "code",
   "execution_count": null,
   "metadata": {
    "code_folding": [
     0
    ]
   },
   "outputs": [],
   "source": [
    "# Run in parallel\n",
    "PROCESSES = 5\n",
    "distance_matrices = []\n",
    "with multiprocessing.Pool(PROCESSES) as pool:\n",
    "    params = [p for p in population_patterns.keys()]\n",
    "    for res in pool.map(get_distance_mat, params):\n",
    "        distance_matrices.append(res)"
   ]
  },
  {
   "cell_type": "code",
   "execution_count": null,
   "metadata": {
    "code_folding": [
     0
    ]
   },
   "outputs": [],
   "source": [
    "# Format into the same structure as before\n",
    "distance_matrix = [[[] for _ in range(16)] for _ in range(16)]\n",
    "for mat in distance_matrices:\n",
    "    for i in range(16):\n",
    "        for j in range(16):\n",
    "            distance_matrix[i][j].extend(mat[i][j])\n",
    "distance_matrix = np.array(distance_matrix)"
   ]
  },
  {
   "cell_type": "code",
   "execution_count": null,
   "metadata": {},
   "outputs": [],
   "source": [
    "with open(save_dir/'checkfull_navempty.p', 'wb') as f:\n",
    "    pickle.dump(distance_matrix, f)"
   ]
  },
  {
   "cell_type": "markdown",
   "metadata": {},
   "source": [
    "### Full Check v Full Nav"
   ]
  },
  {
   "cell_type": "code",
   "execution_count": null,
   "metadata": {
    "code_folding": [
     0
    ]
   },
   "outputs": [],
   "source": [
    "def get_distance_mat(fil_string):\n",
    "    f = h5py.File(fil_string, 'r')\n",
    "    exp_data = ExpData(f)\n",
    "    c_hops = population_patterns[fil_string]['c_hops']\n",
    "    r_hops = population_patterns[fil_string]['r_hops']\n",
    "    ch_hops = population_patterns[fil_string]['ch_hops']\n",
    "    noncrch_hops = population_patterns[fil_string]['noncrch_hops']\n",
    "    hop_patterns = population_patterns[fil_string]['hop_patterns']\n",
    "    distance_matrix = [[[] for _ in range(16)] for _ in range(16)]\n",
    "    if ch_hops.size == 0: np.array(distance_matrix)\n",
    "    for i, ch_hop in enumerate(ch_hops):\n",
    "        ch_site = exp_data.event_sites[exp_data.check_event][i] - 1\n",
    "        if not exp_data.cache_present[ch_hop, ch_site]: continue\n",
    "        check_pattern_mat = hop_patterns[ch_hop]\n",
    "        for j, noncrch_hop in enumerate(noncrch_hops):\n",
    "            overlaps = []\n",
    "            noncrch_site = exp_data.hop_end_wedges[noncrch_hop] - 1\n",
    "            if noncrch_site == 16: continue\n",
    "            if not exp_data.cache_present[noncrch_hop, noncrch_site]: continue\n",
    "            navig_pattern_mat = hop_patterns[noncrch_hop]\n",
    "            overlaps = []\n",
    "            for navig_pattern in navig_pattern_mat.T:\n",
    "                check_nav_overlap = popln_overlap(\n",
    "                    check_pattern_mat, navig_pattern\n",
    "                    )\n",
    "                max_val = np.nanmax(check_nav_overlap)\n",
    "                if not np.isnan(max_val):\n",
    "                    overlaps.append(max_val)\n",
    "            if len(overlaps) > 0:\n",
    "                max_overlap = np.nanmax(overlaps)\n",
    "                distance_matrix[ch_site][noncrch_site].append(max_overlap)\n",
    "    return np.array(distance_matrix)"
   ]
  },
  {
   "cell_type": "code",
   "execution_count": null,
   "metadata": {
    "code_folding": [
     0
    ]
   },
   "outputs": [],
   "source": [
    "# Run in parallel\n",
    "PROCESSES = 5\n",
    "distance_matrices = []\n",
    "with multiprocessing.Pool(PROCESSES) as pool:\n",
    "    params = [p for p in population_patterns.keys()]\n",
    "    for res in pool.map(get_distance_mat, params):\n",
    "        distance_matrices.append(res)"
   ]
  },
  {
   "cell_type": "code",
   "execution_count": null,
   "metadata": {
    "code_folding": [
     0
    ]
   },
   "outputs": [],
   "source": [
    "# Format into the same structure as before\n",
    "distance_matrix = [[[] for _ in range(16)] for _ in range(16)]\n",
    "for mat in distance_matrices:\n",
    "    for i in range(16):\n",
    "        for j in range(16):\n",
    "            distance_matrix[i][j].extend(mat[i][j])\n",
    "distance_matrix = np.array(distance_matrix)"
   ]
  },
  {
   "cell_type": "code",
   "execution_count": null,
   "metadata": {
    "code_folding": [
     0
    ]
   },
   "outputs": [],
   "source": [
    "with open(save_dir/'checkfull_navfull.p', 'wb') as f:\n",
    "    pickle.dump(distance_matrix, f)"
   ]
  },
  {
   "cell_type": "markdown",
   "metadata": {},
   "source": [
    "### Empty Nav v Empty Nav"
   ]
  },
  {
   "cell_type": "code",
   "execution_count": null,
   "metadata": {
    "code_folding": [
     0
    ]
   },
   "outputs": [],
   "source": [
    "def get_distance_mat(fil_string):\n",
    "    f = h5py.File(fil_string, 'r')\n",
    "    exp_data = ExpData(f)\n",
    "    c_hops = population_patterns[fil_string]['c_hops']\n",
    "    r_hops = population_patterns[fil_string]['r_hops']\n",
    "    ch_hops = population_patterns[fil_string]['ch_hops']\n",
    "    noncrch_hops = population_patterns[fil_string]['noncrch_hops']\n",
    "    hop_patterns = population_patterns[fil_string]['hop_patterns']\n",
    "    distance_matrix = [[[] for _ in range(16)] for _ in range(16)]\n",
    "    for i, noncrch1_hop in enumerate(noncrch_hops):\n",
    "        noncrch1_site = exp_data.hop_end_wedges[noncrch1_hop] - 1\n",
    "        if noncrch1_site == 16: continue\n",
    "        if exp_data.cache_present[noncrch1_hop, noncrch1_site]: continue\n",
    "        noncrch1_pattern_mat = hop_patterns[noncrch1_hop]\n",
    "        for j, noncrch2_hop in enumerate(noncrch_hops):\n",
    "            if j <= i: continue\n",
    "            overlaps = []\n",
    "            noncrch2_site = exp_data.hop_end_wedges[noncrch2_hop] - 1\n",
    "            if noncrch2_site == 16: continue\n",
    "            if exp_data.cache_present[noncrch2_hop, noncrch2_site]: continue\n",
    "            navig2_pattern_mat = hop_patterns[noncrch2_hop]\n",
    "            overlaps = []\n",
    "            for navig2_pattern in navig2_pattern_mat.T:\n",
    "                nav1_nav2_overlap = popln_overlap(\n",
    "                    noncrch1_pattern_mat, navig2_pattern\n",
    "                    )\n",
    "                max_val = np.nanmax(nav1_nav2_overlap)\n",
    "                if not np.isnan(max_val):\n",
    "                    overlaps.append(max_val)\n",
    "            if len(overlaps) > 0:\n",
    "                max_overlap = np.nanmax(overlaps)\n",
    "                distance_matrix[noncrch1_site][noncrch2_site].append(max_overlap)\n",
    "    return np.array(distance_matrix)"
   ]
  },
  {
   "cell_type": "code",
   "execution_count": null,
   "metadata": {
    "code_folding": [
     0
    ],
    "scrolled": true
   },
   "outputs": [],
   "source": [
    "# Run in parallel\n",
    "PROCESSES = 5\n",
    "distance_matrices = []\n",
    "with multiprocessing.Pool(PROCESSES) as pool:\n",
    "    params = [p for p in population_patterns.keys()]\n",
    "    for res in pool.map(get_distance_mat, params):\n",
    "        distance_matrices.append(res)"
   ]
  },
  {
   "cell_type": "code",
   "execution_count": null,
   "metadata": {
    "code_folding": [
     0
    ]
   },
   "outputs": [],
   "source": [
    "# Format into the same structure as before\n",
    "distance_matrix = [[[] for _ in range(16)] for _ in range(16)]\n",
    "for mat in distance_matrices:\n",
    "    for i in range(16):\n",
    "        for j in range(16):\n",
    "            distance_matrix[i][j].extend(mat[i][j])\n",
    "distance_matrix = np.array(distance_matrix)"
   ]
  },
  {
   "cell_type": "code",
   "execution_count": null,
   "metadata": {},
   "outputs": [],
   "source": [
    "with open(save_dir/'navempty_navempty.p', 'wb') as f:\n",
    "    pickle.dump(distance_matrix, f)"
   ]
  },
  {
   "cell_type": "markdown",
   "metadata": {},
   "source": [
    "### Empty Nav v Full Nav"
   ]
  },
  {
   "cell_type": "code",
   "execution_count": null,
   "metadata": {
    "code_folding": [
     0
    ]
   },
   "outputs": [],
   "source": [
    "def get_distance_matrix(fil_string):\n",
    "    f = h5py.File(fil_string, 'r')\n",
    "    exp_data = ExpData(f)\n",
    "    c_hops = population_patterns[fil_string]['c_hops']\n",
    "    r_hops = population_patterns[fil_string]['r_hops']\n",
    "    ch_hops = population_patterns[fil_string]['ch_hops']\n",
    "    noncrch_hops = population_patterns[fil_string]['noncrch_hops']\n",
    "    hop_patterns = population_patterns[fil_string]['hop_patterns']\n",
    "    distance_matrix = [[[] for _ in range(16)] for _ in range(16)]\n",
    "    for i, noncrch1_hop in enumerate(noncrch_hops):\n",
    "        noncrch1_site = exp_data.hop_end_wedges[noncrch1_hop] - 1\n",
    "        if noncrch1_site == 16: continue\n",
    "        if exp_data.cache_present[noncrch1_hop, noncrch1_site]: continue\n",
    "        noncrch1_pattern_mat = hop_patterns[noncrch1_hop]\n",
    "        for j, noncrch2_hop in enumerate(noncrch_hops):\n",
    "            if j <= i: continue\n",
    "            overlaps = []\n",
    "            noncrch2_site = exp_data.hop_end_wedges[noncrch2_hop] - 1\n",
    "            if noncrch2_site == 16: continue\n",
    "            if not exp_data.cache_present[noncrch2_hop, noncrch2_site]: continue\n",
    "            navig2_pattern_mat = hop_patterns[noncrch2_hop]\n",
    "            overlaps = []\n",
    "            for navig2_pattern in navig2_pattern_mat.T:\n",
    "                nav1_nav2_overlap = popln_overlap(\n",
    "                    noncrch1_pattern_mat, navig2_pattern\n",
    "                    )\n",
    "                max_val = np.nanmax(nav1_nav2_overlap)\n",
    "                if not np.isnan(max_val):\n",
    "                    overlaps.append(max_val)\n",
    "            if len(overlaps) > 0:\n",
    "                max_overlap = np.nanmax(overlaps)\n",
    "                distance_matrix[noncrch1_site][noncrch2_site].append(max_overlap)\n",
    "    return np.array(distance_matrix)"
   ]
  },
  {
   "cell_type": "code",
   "execution_count": null,
   "metadata": {
    "code_folding": [
     0
    ]
   },
   "outputs": [],
   "source": [
    "# Run in parallel\n",
    "PROCESSES = 5\n",
    "distance_matrices = []\n",
    "with multiprocessing.Pool(PROCESSES) as pool:\n",
    "    params = [p for p in population_patterns.keys()]\n",
    "    for res in pool.map(get_distance_mat, params):\n",
    "        distance_matrices.append(res)"
   ]
  },
  {
   "cell_type": "code",
   "execution_count": null,
   "metadata": {
    "code_folding": [
     0
    ]
   },
   "outputs": [],
   "source": [
    "# Format into the same structure as before\n",
    "distance_matrix = [[[] for _ in range(16)] for _ in range(16)]\n",
    "for mat in distance_matrices:\n",
    "    for i in range(16):\n",
    "        for j in range(16):\n",
    "            distance_matrix[i][j].extend(mat[i][j])\n",
    "distance_matrix = np.array(distance_matrix)"
   ]
  },
  {
   "cell_type": "code",
   "execution_count": null,
   "metadata": {},
   "outputs": [],
   "source": [
    "with open(save_dir/'navempty_navfull.p', 'wb') as f:\n",
    "    pickle.dump(distance_matrix, f)"
   ]
  },
  {
   "cell_type": "markdown",
   "metadata": {},
   "source": [
    "### Full Nav v Full Nav"
   ]
  },
  {
   "cell_type": "code",
   "execution_count": null,
   "metadata": {
    "code_folding": [
     0
    ]
   },
   "outputs": [],
   "source": [
    "def get_distance_matrix(fil_string):\n",
    "    f = h5py.File(fil_string, 'r')\n",
    "    exp_data = ExpData(f)\n",
    "    c_hops = population_patterns[fil_string]['c_hops']\n",
    "    r_hops = population_patterns[fil_string]['r_hops']\n",
    "    ch_hops = population_patterns[fil_string]['ch_hops']\n",
    "    noncrch_hops = population_patterns[fil_string]['noncrch_hops']\n",
    "    hop_patterns = population_patterns[fil_string]['hop_patterns']\n",
    "    distance_matrix = [[[] for _ in range(16)] for _ in range(16)]\n",
    "    for i, noncrch1_hop in enumerate(noncrch_hops):\n",
    "        noncrch1_site = exp_data.hop_end_wedges[noncrch1_hop] - 1\n",
    "        if noncrch1_site == 16: continue\n",
    "        if not exp_data.cache_present[noncrch1_hop, noncrch1_site]: continue\n",
    "        noncrch1_pattern_mat = hop_patterns[noncrch1_hop]\n",
    "        for j, noncrch2_hop in enumerate(noncrch_hops):\n",
    "            if j <= i: continue\n",
    "            overlaps = []\n",
    "            noncrch2_site = exp_data.hop_end_wedges[noncrch2_hop] - 1\n",
    "            if noncrch2_site == 16: continue\n",
    "            if not exp_data.cache_present[noncrch2_hop, noncrch2_site]: continue\n",
    "            navig2_pattern_mat = hop_patterns[noncrch2_hop]\n",
    "            overlaps = []\n",
    "            for navig2_pattern in navig2_pattern_mat.T:\n",
    "                nav1_nav2_overlap = popln_overlap(\n",
    "                    noncrch1_pattern_mat, navig2_pattern\n",
    "                    )\n",
    "                max_val = np.nanmax(nav1_nav2_overlap)\n",
    "                if not np.isnan(max_val):\n",
    "                    overlaps.append(max_val)\n",
    "            if len(overlaps) > 0:\n",
    "                max_overlap = np.nanmax(overlaps)\n",
    "                distance_matrix[noncrch1_site][noncrch2_site].append(max_overlap)\n",
    "    return np.array(distance_matrix)"
   ]
  },
  {
   "cell_type": "code",
   "execution_count": null,
   "metadata": {
    "code_folding": [
     0
    ]
   },
   "outputs": [],
   "source": [
    "# Run in parallel\n",
    "PROCESSES = 5\n",
    "distance_matrices = []\n",
    "with multiprocessing.Pool(PROCESSES) as pool:\n",
    "    params = [p for p in population_patterns.keys()]\n",
    "    for res in pool.map(get_distance_mat, params):\n",
    "        distance_matrices.append(res)"
   ]
  },
  {
   "cell_type": "code",
   "execution_count": null,
   "metadata": {
    "code_folding": [
     0
    ]
   },
   "outputs": [],
   "source": [
    "# Format into the same structure as before\n",
    "distance_matrix = [[[] for _ in range(16)] for _ in range(16)]\n",
    "for mat in distance_matrices:\n",
    "    for i in range(16):\n",
    "        for j in range(16):\n",
    "            distance_matrix[i][j].extend(mat[i][j])\n",
    "distance_matrix = np.array(distance_matrix)"
   ]
  },
  {
   "cell_type": "code",
   "execution_count": null,
   "metadata": {},
   "outputs": [],
   "source": [
    "with open(save_dir/'navfull_navfull.p', 'wb') as f:\n",
    "    pickle.dump(distance_matrix, f)"
   ]
  }
 ],
 "metadata": {
  "kernelspec": {
   "display_name": "Python 3",
   "language": "python",
   "name": "python3"
  },
  "language_info": {
   "codemirror_mode": {
    "name": "ipython",
    "version": 3
   },
   "file_extension": ".py",
   "mimetype": "text/x-python",
   "name": "python",
   "nbconvert_exporter": "python",
   "pygments_lexer": "ipython3",
   "version": "3.7.6"
  }
 },
 "nbformat": 4,
 "nbformat_minor": 4
}
