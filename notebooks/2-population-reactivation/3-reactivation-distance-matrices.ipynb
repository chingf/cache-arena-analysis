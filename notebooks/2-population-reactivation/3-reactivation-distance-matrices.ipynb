{
 "cells": [
  {
   "cell_type": "code",
   "execution_count": 1,
   "metadata": {},
   "outputs": [],
   "source": [
    "import pickle\n",
    "import numpy as np\n",
    "import pandas as pd\n",
    "import matplotlib.pyplot as plt\n",
    "import matplotlib.cm as cm\n",
    "import seaborn as sns\n",
    "import h5py\n",
    "import multiprocessing\n",
    "from math import pi\n",
    "\n",
    "from analysis.config import birds, h5_path_dict, pickle_dir\n",
    "from analysis.ExpData import ExpData\n",
    "from analysis.utils import popln_overlap, get_fr"
   ]
  },
  {
   "cell_type": "code",
   "execution_count": 2,
   "metadata": {
    "code_folding": [
     0
    ]
   },
   "outputs": [],
   "source": [
    "def get_site_distance(a, b):\n",
    "    dist = min(\n",
    "        abs(a - b), 16 - abs(a-b)\n",
    "        ) % 16\n",
    "    return dist"
   ]
  },
  {
   "cell_type": "code",
   "execution_count": 43,
   "metadata": {},
   "outputs": [],
   "source": [
    "with open(pickle_dir / 'population_patterns.p', 'rb') as f: \n",
    "    population_patterns = pickle.load(f)"
   ]
  },
  {
   "cell_type": "markdown",
   "metadata": {},
   "source": [
    "# Spatial Dimensionality"
   ]
  },
  {
   "cell_type": "markdown",
   "metadata": {},
   "source": [
    "### Collect Distance Matrix"
   ]
  },
  {
   "cell_type": "code",
   "execution_count": 44,
   "metadata": {
    "code_folding": [
     0
    ]
   },
   "outputs": [],
   "source": [
    "def get_distance_mat(fil_string):\n",
    "    f = h5py.File(fil_string, 'r')\n",
    "    exp_data = ExpData(f)\n",
    "    noncr_hops = population_patterns[fil_string]['noncr_hops']\n",
    "    hop_patterns = population_patterns[fil_string]['hop_patterns']\n",
    "    distance_matrix = [[[] for _ in range(16)] for _ in range(16)]\n",
    "    for i, noncr_hop in enumerate(noncr_hops):\n",
    "        noncr_site = int(exp_data.hop_end_wedges[noncr_hop]) - 1\n",
    "        if noncr_site == 16: continue\n",
    "        navig_pattern_mat = hop_patterns[noncr_hop]\n",
    "        for j, noncr2_hop in enumerate(noncr_hops):\n",
    "            if j < i: continue\n",
    "            noncr2_site = int(exp_data.hop_end_wedges[noncr2_hop]) - 1\n",
    "            if noncr2_site == 16: continue\n",
    "            navig2_pattern_mat = hop_patterns[noncr2_hop]\n",
    "            overlaps = []\n",
    "            for navig2_pattern in navig2_pattern_mat.T:\n",
    "                overlaps.append(np.nanmax(\n",
    "                    popln_overlap(navig_pattern_mat, navig2_pattern)\n",
    "                    ))\n",
    "            max_overlap = np.nanmax(overlaps)\n",
    "            distance_matrix[noncr_site][noncr2_site].append(max_overlap)\n",
    "            if i != j:\n",
    "                distance_matrix[noncr2_site][noncr_site].append(max_overlap)\n",
    "    return np.array(distance_matrix)"
   ]
  },
  {
   "cell_type": "code",
   "execution_count": null,
   "metadata": {
    "code_folding": [
     0
    ]
   },
   "outputs": [],
   "source": [
    "%%capture\n",
    "PROCESSES = 5\n",
    "distance_matrices = []\n",
    "with multiprocessing.Pool(PROCESSES) as pool:\n",
    "    params = [p for p in population_patterns.keys()]\n",
    "    for res in pool.map(get_distance_mat, params):\n",
    "        distance_matrices.append(res)"
   ]
  },
  {
   "cell_type": "code",
   "execution_count": null,
   "metadata": {},
   "outputs": [],
   "source": [
    "with open(pickle_dir / 'reactivation_place_dist_matrix.p', 'wb') as f:\n",
    "    pickle.dump(distance_matrices, f)"
   ]
  },
  {
   "cell_type": "markdown",
   "metadata": {},
   "source": [
    "### Plot raw distance matrices"
   ]
  },
  {
   "cell_type": "code",
   "execution_count": null,
   "metadata": {},
   "outputs": [],
   "source": [
    "with open(pickle_dir / 'reactivation_place_dist_matrix.p', 'rb') as f:\n",
    "    distance_matrices = pickle.load(f)"
   ]
  },
  {
   "cell_type": "code",
   "execution_count": null,
   "metadata": {
    "code_folding": [
     1
    ]
   },
   "outputs": [],
   "source": [
    "distance_matrix = [[[] for _ in range(16)] for _ in range(16)]\n",
    "for mat in distance_matrices:\n",
    "    for i in range(16):\n",
    "        for j in range(16):\n",
    "            distance_matrix[i][j].extend(mat[i][j])\n",
    "distance_matrix = np.array(distance_matrix)"
   ]
  },
  {
   "cell_type": "code",
   "execution_count": null,
   "metadata": {
    "code_folding": [
     1
    ]
   },
   "outputs": [],
   "source": [
    "x = np.zeros(distance_matrix.shape)\n",
    "for i in range(x.shape[0]):\n",
    "    for j in range(x.shape[1]):\n",
    "        x[i,j] = np.nanmedian(distance_matrix[i,j])\n",
    "plt.imshow(x)\n",
    "plt.ylabel(\"Navigation\")\n",
    "plt.xlabel(\"Navigation\")\n",
    "plt.title(\"Median Overlap\")\n",
    "plt.xticks(np.arange(0, 16, 2), np.arange(0, 16, 2)+1)\n",
    "plt.yticks(np.arange(0, 16, 2), np.arange(0, 16, 2)+1)\n",
    "plt.colorbar()"
   ]
  },
  {
   "cell_type": "code",
   "execution_count": null,
   "metadata": {
    "code_folding": [
     1
    ]
   },
   "outputs": [],
   "source": [
    "vals_by_sitedist = [[] for _ in range(9)]\n",
    "for i in range(distance_matrix.shape[0]):\n",
    "    for j in range(distance_matrix.shape[1]):\n",
    "        mat_ij = np.array(distance_matrix[i,j])\n",
    "        nonnan_vals = mat_ij[np.logical_not(np.isnan(mat_ij))].tolist()\n",
    "        dist = get_site_distance(i,j)\n",
    "        vals_by_sitedist[dist].extend(nonnan_vals)"
   ]
  },
  {
   "cell_type": "code",
   "execution_count": null,
   "metadata": {
    "code_folding": [
     0
    ]
   },
   "outputs": [],
   "source": [
    "plt.plot(\n",
    "    np.arange(9), [np.nanmedian(v) for v in vals_by_sitedist],\n",
    "    linewidth=2\n",
    "    )\n",
    "plt.ylim(0, 1)\n",
    "plt.title(\"Navigation/Navigation Overlap\")\n",
    "plt.xlabel(\"Site Distance between\\nHops\")\n",
    "plt.ylabel(\"Median Overlap\")\n",
    "plt.show()"
   ]
  },
  {
   "cell_type": "markdown",
   "metadata": {},
   "source": [
    "# Cache v Cache Dimensionality"
   ]
  },
  {
   "cell_type": "markdown",
   "metadata": {},
   "source": [
    "### Collect Distance Matrix"
   ]
  },
  {
   "cell_type": "code",
   "execution_count": 45,
   "metadata": {
    "code_folding": [
     1
    ]
   },
   "outputs": [
    {
     "name": "stderr",
     "output_type": "stream",
     "text": [
      "/home/chingf/Code/cache-arena-analysis/analysis/utils.py:56: RuntimeWarning: invalid value encountered in true_divide\n",
      "  dist = adotb/(asumsq + bsumsq - adotb)\n",
      "/home/chingf/anaconda3/envs/analysis-env/lib/python3.7/site-packages/ipykernel_launcher.py:18: RuntimeWarning: All-NaN slice encountered\n",
      "/home/chingf/anaconda3/envs/analysis-env/lib/python3.7/site-packages/ipykernel_launcher.py:20: RuntimeWarning: All-NaN axis encountered\n"
     ]
    }
   ],
   "source": [
    "distance_matrix = [[[] for _ in range(16)] for _ in range(16)]\n",
    "for fil_string in population_patterns.keys():\n",
    "    f = h5py.File(fil_string, 'r')\n",
    "    exp_data = ExpData(f)\n",
    "    c_hops = population_patterns[fil_string]['c_hops']\n",
    "    r_hops = population_patterns[fil_string]['r_hops']\n",
    "    hop_patterns = population_patterns[fil_string]['hop_patterns']\n",
    "    for i, c_hop in enumerate(c_hops):\n",
    "        c_site = int(exp_data.event_sites[exp_data.cache_event][i]) - 1\n",
    "        cache_pattern_mat = hop_patterns[c_hop]\n",
    "        for j, c2_hop in enumerate(c_hops):\n",
    "            if j <= i: continue\n",
    "            c2_site = int(exp_data.event_sites[exp_data.cache_event][j]) - 1\n",
    "            cache2_pattern_mat = hop_patterns[c2_hop]\n",
    "            overlaps = []\n",
    "            for cache2_pattern in cache2_pattern_mat.T:\n",
    "                overlaps.append(np.nanmax(\n",
    "                    popln_overlap(cache_pattern_mat, cache2_pattern)\n",
    "                    ))\n",
    "            max_overlap = np.nanmax(overlaps)\n",
    "            distance_matrix[c_site][c2_site].append(max_overlap)\n",
    "            if i != j:\n",
    "                distance_matrix[c2_site][c_site].append(max_overlap)\n",
    "distance_matrix = np.array(distance_matrix)"
   ]
  },
  {
   "cell_type": "markdown",
   "metadata": {},
   "source": [
    "### Plot raw distance matrices"
   ]
  },
  {
   "cell_type": "code",
   "execution_count": 46,
   "metadata": {
    "code_folding": [
     1
    ]
   },
   "outputs": [],
   "source": [
    "vals_by_sitedist = [[] for _ in range(9)]\n",
    "for i in range(distance_matrix.shape[0]):\n",
    "    for j in range(distance_matrix.shape[1]):\n",
    "        mat_ij = np.array(distance_matrix[i,j])\n",
    "        nonnan_vals = mat_ij[np.logical_not(np.isnan(mat_ij))].tolist()\n",
    "        dist = get_site_distance(i,j)\n",
    "        vals_by_sitedist[dist].extend(nonnan_vals)"
   ]
  },
  {
   "cell_type": "code",
   "execution_count": 47,
   "metadata": {
    "code_folding": [
     0,
     2
    ]
   },
   "outputs": [
    {
     "name": "stderr",
     "output_type": "stream",
     "text": [
      "/home/chingf/anaconda3/envs/analysis-env/lib/python3.7/site-packages/numpy/lib/nanfunctions.py:1113: RuntimeWarning: Mean of empty slice\n",
      "  return np.nanmean(a, axis, out=out, keepdims=keepdims)\n"
     ]
    },
    {
     "data": {
      "image/png": "[encoded data removed]",
      "text/plain": [
       "<Figure size 432x288 with 2 Axes>"
      ]
     },
     "metadata": {
      "needs_background": "light"
     },
     "output_type": "display_data"
    }
   ],
   "source": [
    "# Plot heatmap\n",
    "x = np.zeros(distance_matrix.shape)\n",
    "for i in range(x.shape[0]):\n",
    "    for j in range(x.shape[1]):\n",
    "        x[i,j] = np.nanmedian(distance_matrix[i,j])\n",
    "plt.imshow(x)\n",
    "plt.ylabel(\"Cache\")\n",
    "plt.xlabel(\"Cache\")\n",
    "plt.xticks(np.arange(16), np.arange(16)+1)\n",
    "plt.yticks(np.arange(16), np.arange(16)+1)\n",
    "plt.colorbar()\n",
    "plt.title(\"Median Overlap\")\n",
    "plt.show()"
   ]
  },
  {
   "cell_type": "code",
   "execution_count": 48,
   "metadata": {
    "code_folding": [
     0
    ]
   },
   "outputs": [
    {
     "data": {
      "image/png": "[encoded data removed]",
      "text/plain": [
       "<Figure size 432x288 with 1 Axes>"
      ]
     },
     "metadata": {
      "needs_background": "light"
     },
     "output_type": "display_data"
    }
   ],
   "source": [
    "# Collapse onto 1D\n",
    "plt.plot(\n",
    "    np.arange(9), [np.nanmedian(v) for v in vals_by_sitedist],\n",
    "    linewidth=2\n",
    "    )\n",
    "plt.fill_between(\n",
    "    np.arange(9),\n",
    "    [np.nanmean(v) + np.nanstd(v) for v in vals_by_sitedist],\n",
    "    [np.nanmean(v) - np.nanstd(v) for v in vals_by_sitedist],\n",
    "    color=\"gray\", alpha=0.3\n",
    "    )\n",
    "plt.ylim(0, 1)\n",
    "plt.title(\"Cache/Cache Overlap\")\n",
    "plt.xlabel(\"Site Distance between\\nCache/Cache\")\n",
    "plt.ylabel(\"Median Overlap\")\n",
    "plt.show()"
   ]
  },
  {
   "cell_type": "markdown",
   "metadata": {},
   "source": [
    "# Cache v Retrieval Dimensionality"
   ]
  },
  {
   "cell_type": "markdown",
   "metadata": {},
   "source": [
    "### Collect Distance Matrix"
   ]
  },
  {
   "cell_type": "code",
   "execution_count": 71,
   "metadata": {
    "code_folding": [
     2
    ]
   },
   "outputs": [
    {
     "name": "stderr",
     "output_type": "stream",
     "text": [
      "/home/chingf/anaconda3/envs/analysis-env/lib/python3.7/site-packages/ipykernel_launcher.py:22: RuntimeWarning: All-NaN slice encountered\n"
     ]
    }
   ],
   "source": [
    "distance_matrix = [[[] for _ in range(16)] for _ in range(16)]\n",
    "count = 0\n",
    "for fil_string in population_patterns.keys():\n",
    "    f = h5py.File(fil_string, 'r')\n",
    "    exp_data = ExpData(f)\n",
    "    c_hops = population_patterns[fil_string]['c_hops']\n",
    "    r_hops = population_patterns[fil_string]['r_hops']\n",
    "    hop_patterns = population_patterns[fil_string]['hop_patterns']\n",
    "    for i, c_hop in enumerate(c_hops):\n",
    "        c_site = int(exp_data.event_sites[exp_data.cache_event][i]) - 1\n",
    "        cache_pattern_mat = hop_patterns[c_hop]\n",
    "        retrieved = False\n",
    "        for j, r_hop in enumerate(r_hops):\n",
    "            r_site = int(exp_data.event_sites[exp_data.retriev_event][j]) - 1\n",
    "            retriev_pattern_mat = hop_patterns[r_hop]\n",
    "            overlaps = []\n",
    "            for retriev_pattern in retriev_pattern_mat.T:\n",
    "                overlaps.append(np.nanmax(\n",
    "                    popln_overlap(cache_pattern_mat, retriev_pattern)\n",
    "                    ))\n",
    "            max_overlap = np.nanmax(overlaps)\n",
    "            distance_matrix[c_site][r_site].append(max_overlap)\n",
    "            count += 1\n",
    "distance_matrix = np.array(distance_matrix)"
   ]
  },
  {
   "cell_type": "code",
   "execution_count": 72,
   "metadata": {},
   "outputs": [
    {
     "data": {
      "text/plain": [
       "1939"
      ]
     },
     "execution_count": 72,
     "metadata": {},
     "output_type": "execute_result"
    }
   ],
   "source": [
    "count"
   ]
  },
  {
   "cell_type": "markdown",
   "metadata": {},
   "source": [
    "### Plot raw distance matrices"
   ]
  },
  {
   "cell_type": "code",
   "execution_count": 73,
   "metadata": {
    "code_folding": [
     1
    ]
   },
   "outputs": [],
   "source": [
    "vals_by_sitedist = [[] for _ in range(9)]\n",
    "for i in range(distance_matrix.shape[0]):\n",
    "    for j in range(distance_matrix.shape[1]):\n",
    "        mat_ij = np.array(distance_matrix[i,j])\n",
    "        nonnan_vals = mat_ij[np.logical_not(np.isnan(mat_ij))].tolist()\n",
    "        dist = get_site_distance(i,j)\n",
    "        vals_by_sitedist[dist].extend(nonnan_vals)"
   ]
  },
  {
   "cell_type": "code",
   "execution_count": 74,
   "metadata": {
    "code_folding": [
     0,
     2
    ]
   },
   "outputs": [
    {
     "name": "stderr",
     "output_type": "stream",
     "text": [
      "/home/chingf/anaconda3/envs/analysis-env/lib/python3.7/site-packages/numpy/lib/nanfunctions.py:1113: RuntimeWarning: Mean of empty slice\n",
      "  return np.nanmean(a, axis, out=out, keepdims=keepdims)\n"
     ]
    },
    {
     "data": {
      "text/plain": [
       "<matplotlib.colorbar.Colorbar at 0x7f082dc0ab50>"
      ]
     },
     "execution_count": 74,
     "metadata": {},
     "output_type": "execute_result"
    },
    {
     "data": {
      "image/png": "[encoded data removed]",
      "text/plain": [
       "<Figure size 432x288 with 2 Axes>"
      ]
     },
     "metadata": {
      "needs_background": "light"
     },
     "output_type": "display_data"
    }
   ],
   "source": [
    "# Plot heatmap\n",
    "x = np.zeros(distance_matrix.shape)\n",
    "for i in range(x.shape[0]):\n",
    "    for j in range(x.shape[1]):\n",
    "        x[i,j] = np.nanmedian(distance_matrix[i,j])\n",
    "plt.imshow(x)\n",
    "plt.ylabel(\"Cache\")\n",
    "plt.xlabel(\"Retrieval\")\n",
    "plt.xticks(np.arange(0,16,2), np.arange(0,16,2)+1)\n",
    "plt.yticks(np.arange(0,16,2), np.arange(0,16,2)+1)\n",
    "plt.title(\"Median Overlap\")\n",
    "plt.colorbar()"
   ]
  },
  {
   "cell_type": "code",
   "execution_count": 75,
   "metadata": {
    "code_folding": [
     0
    ]
   },
   "outputs": [
    {
     "data": {
      "image/png": "[encoded data removed]",
      "text/plain": [
       "<Figure size 432x288 with 1 Axes>"
      ]
     },
     "metadata": {
      "needs_background": "light"
     },
     "output_type": "display_data"
    }
   ],
   "source": [
    "# Collapse onto 1D\n",
    "plt.plot(\n",
    "    np.arange(9), [np.nanmedian(v) for v in vals_by_sitedist],\n",
    "    linewidth=2\n",
    "    )\n",
    "plt.fill_between(\n",
    "    np.arange(9),\n",
    "    [np.nanmean(v) + np.nanstd(v) for v in vals_by_sitedist],\n",
    "    [np.nanmean(v) - np.nanstd(v) for v in vals_by_sitedist],\n",
    "    color=\"gray\", alpha=0.3\n",
    "    )\n",
    "plt.ylim(0, 1)\n",
    "plt.title(\"Cache/Retrieval Overlap\")\n",
    "plt.xlabel(\"Site Distance between\\nCache/Retrieval\")\n",
    "plt.ylabel(\"Median Overlap\")\n",
    "plt.show()"
   ]
  },
  {
   "cell_type": "markdown",
   "metadata": {},
   "source": [
    "# Cache v Navigation Dimensionality\n",
    "(Using Cache \"Memory\")"
   ]
  },
  {
   "cell_type": "markdown",
   "metadata": {},
   "source": [
    "### Collect Distance Matrix"
   ]
  },
  {
   "cell_type": "code",
   "execution_count": 55,
   "metadata": {},
   "outputs": [],
   "source": [
    "with open(pickle_dir / 'episode_cells_overlap.p', 'rb') as f:\n",
    "    episode_cells = pickle.load(f)"
   ]
  },
  {
   "cell_type": "code",
   "execution_count": 56,
   "metadata": {
    "code_folding": [
     2
    ]
   },
   "outputs": [],
   "source": [
    "distance_matrix = [[[] for _ in range(16)] for _ in range(16)]\n",
    "counts = np.zeros((16, 16))\n",
    "for fil_string in population_patterns.keys():\n",
    "    f = h5py.File(fil_string, 'r')\n",
    "    exp_data = ExpData(f)\n",
    "    c_hops = population_patterns[fil_string]['c_hops']\n",
    "    r_hops = population_patterns[fil_string]['r_hops']\n",
    "    noncr_hops = population_patterns[fil_string]['noncr_hops']\n",
    "    fr = population_patterns[fil_string]['fr']\n",
    "    hop_patterns = population_patterns[fil_string]['hop_patterns']\n",
    "    cr_idx_mat = episode_cells[fil_string]['cr_idx_mat']\n",
    "    for i, c_hop in enumerate(c_hops):\n",
    "        c_site = exp_data.event_sites[exp_data.cache_event][i]\n",
    "        c_site = int(c_site) - 1\n",
    "        cache_pattern = cr_idx_mat[i]\n",
    "        cache_pattern[np.isnan(cache_pattern)] = 0\n",
    "        if np.sum(cache_pattern) == 0: continue\n",
    "        for j, noncr_hop in enumerate(noncr_hops):\n",
    "            overlaps = []\n",
    "            noncr_site = exp_data.hop_end_wedges[noncr_hop]\n",
    "            noncr_site = int(noncr_site) - 1\n",
    "            if noncr_site == 16: continue\n",
    "            navig_pattern_mat = hop_patterns[noncr_hop]\n",
    "            for navig_pattern in navig_pattern_mat.T:\n",
    "                overlaps.append(\n",
    "                    popln_overlap(cache_pattern[:,None], navig_pattern)[0]\n",
    "                    )\n",
    "            max_overlap = np.nanmax(overlaps)\n",
    "            distance_matrix[c_site][noncr_site].append(max_overlap)\n",
    "            counts[c_site][noncr_site] += 1\n",
    "distance_matrix = np.array(distance_matrix)"
   ]
  },
  {
   "cell_type": "markdown",
   "metadata": {},
   "source": [
    "### Plot raw distance matrices"
   ]
  },
  {
   "cell_type": "code",
   "execution_count": 57,
   "metadata": {
    "code_folding": [
     1
    ]
   },
   "outputs": [],
   "source": [
    "vals_by_sitedist = [[] for _ in range(9)]\n",
    "for i in range(distance_matrix.shape[0]):\n",
    "    for j in range(distance_matrix.shape[1]):\n",
    "        mat_ij = np.array(distance_matrix[i,j])\n",
    "        nonnan_vals = mat_ij[np.logical_not(np.isnan(mat_ij))].tolist()\n",
    "        dist = get_site_distance(i,j)\n",
    "        vals_by_sitedist[dist].extend(nonnan_vals)"
   ]
  },
  {
   "cell_type": "code",
   "execution_count": 58,
   "metadata": {
    "code_folding": [
     0,
     2
    ]
   },
   "outputs": [
    {
     "data": {
      "text/plain": [
       "<matplotlib.colorbar.Colorbar at 0x7f082bc84c90>"
      ]
     },
     "execution_count": 58,
     "metadata": {},
     "output_type": "execute_result"
    },
    {
     "data": {
      "image/png": "[encoded data removed]",
      "text/plain": [
       "<Figure size 432x288 with 2 Axes>"
      ]
     },
     "metadata": {
      "needs_background": "light"
     },
     "output_type": "display_data"
    }
   ],
   "source": [
    "# Plot heatmap\n",
    "x = np.zeros(distance_matrix.shape)\n",
    "for i in range(x.shape[0]):\n",
    "    for j in range(x.shape[1]):\n",
    "        x[i,j] = np.nanmedian(distance_matrix[i,j])\n",
    "plt.imshow(x)\n",
    "plt.ylabel(\"Cache\")\n",
    "plt.xlabel(\"Arbitrary Hop\")\n",
    "plt.xticks(np.arange(0,16,2), np.arange(0,16,2)+1)\n",
    "plt.yticks(np.arange(0,16,2), np.arange(0,16,2)+1)\n",
    "plt.title(\"Median Overlap\")\n",
    "plt.clim(0, 0.8)\n",
    "plt.colorbar()"
   ]
  },
  {
   "cell_type": "code",
   "execution_count": 59,
   "metadata": {
    "code_folding": [
     0,
     1
    ]
   },
   "outputs": [
    {
     "data": {
      "image/png": "[encoded data removed]",
      "text/plain": [
       "<Figure size 432x288 with 1 Axes>"
      ]
     },
     "metadata": {
      "needs_background": "light"
     },
     "output_type": "display_data"
    }
   ],
   "source": [
    "# Collapse onto 1D\n",
    "plt.plot(\n",
    "    np.arange(9), [np.nanmedian(v) for v in vals_by_sitedist],\n",
    "    linewidth=2\n",
    "    )\n",
    "plt.fill_between(\n",
    "    np.arange(9),\n",
    "    [np.nanmean(v) + np.nanstd(v) for v in vals_by_sitedist],\n",
    "    [np.nanmean(v) - np.nanstd(v) for v in vals_by_sitedist],\n",
    "    color=\"gray\", alpha=0.3\n",
    "    )\n",
    "plt.ylim(0, 1)\n",
    "plt.title(\"Cache/Navigation Overlap\")\n",
    "plt.xlabel(\"Site Distance between\\nCache/Navigation\")\n",
    "plt.ylabel(\"Median Overlap\")\n",
    "plt.show()"
   ]
  },
  {
   "cell_type": "markdown",
   "metadata": {},
   "source": [
    "# Control: Spatial Dimensionality with Subsampling"
   ]
  },
  {
   "cell_type": "markdown",
   "metadata": {},
   "source": [
    "### Collect Distance Matrix"
   ]
  },
  {
   "cell_type": "code",
   "execution_count": 60,
   "metadata": {
    "code_folding": [
     1
    ]
   },
   "outputs": [
    {
     "name": "stderr",
     "output_type": "stream",
     "text": [
      "/home/chingf/Code/cache-arena-analysis/analysis/utils.py:56: RuntimeWarning: invalid value encountered in true_divide\n",
      "  dist = adotb/(asumsq + bsumsq - adotb)\n",
      "/home/chingf/anaconda3/envs/analysis-env/lib/python3.7/site-packages/ipykernel_launcher.py:25: RuntimeWarning: All-NaN slice encountered\n",
      "/home/chingf/anaconda3/envs/analysis-env/lib/python3.7/site-packages/ipykernel_launcher.py:27: RuntimeWarning: All-NaN axis encountered\n"
     ]
    }
   ],
   "source": [
    "distance_matrix = [[[] for _ in range(16)] for _ in range(16)]\n",
    "for fil_string in population_patterns.keys():\n",
    "    f = h5py.File(fil_string, 'r')\n",
    "    exp_data = ExpData(f)\n",
    "    c_hops = population_patterns[fil_string]['c_hops']\n",
    "    r_hops = population_patterns[fil_string]['r_hops']\n",
    "    noncr_hops = population_patterns[fil_string]['noncr_hops']\n",
    "    noncr_sites = exp_data.hop_end_wedges[noncr_hops] - 1 \n",
    "    hop_patterns = population_patterns[fil_string]['hop_patterns']\n",
    "    for i, c_hop in enumerate(c_hops):\n",
    "        c_site = int(exp_data.event_sites[exp_data.cache_event][i]) - 1\n",
    "        shuff_c_hop = np.random.choice(\n",
    "            noncr_hops[noncr_sites==c_site]\n",
    "            )\n",
    "        cache_pattern_mat = hop_patterns[shuff_c_hop]\n",
    "        for j, r_hop in enumerate(r_hops):\n",
    "            r_site = int(exp_data.event_sites[exp_data.retriev_event][j]) - 1\n",
    "            shuff_r_hop = np.random.choice(\n",
    "                noncr_hops[noncr_sites==r_site]\n",
    "                )\n",
    "            retriev_pattern_mat = hop_patterns[shuff_r_hop]\n",
    "            overlaps = []\n",
    "            for retriev_pattern in retriev_pattern_mat.T:\n",
    "                overlaps.append(np.nanmax(\n",
    "                    popln_overlap(cache_pattern_mat, retriev_pattern)\n",
    "                    ))\n",
    "            max_overlap = np.nanmax(overlaps)\n",
    "            distance_matrix[c_site][r_site].append(max_overlap)\n",
    "distance_matrix = np.array(distance_matrix)"
   ]
  },
  {
   "cell_type": "markdown",
   "metadata": {},
   "source": [
    "### Plot raw distance matrices"
   ]
  },
  {
   "cell_type": "code",
   "execution_count": 61,
   "metadata": {
    "code_folding": [
     1
    ]
   },
   "outputs": [],
   "source": [
    "vals_by_sitedist = [[] for _ in range(9)]\n",
    "for i in range(distance_matrix.shape[0]):\n",
    "    for j in range(distance_matrix.shape[1]):\n",
    "        mat_ij = np.array(distance_matrix[i,j])\n",
    "        nonnan_vals = mat_ij[np.logical_not(np.isnan(mat_ij))].tolist()\n",
    "        dist = get_site_distance(i,j)\n",
    "        vals_by_sitedist[dist].extend(nonnan_vals)"
   ]
  },
  {
   "cell_type": "code",
   "execution_count": 62,
   "metadata": {
    "code_folding": [
     0,
     2
    ]
   },
   "outputs": [
    {
     "name": "stderr",
     "output_type": "stream",
     "text": [
      "/home/chingf/anaconda3/envs/analysis-env/lib/python3.7/site-packages/numpy/lib/nanfunctions.py:1113: RuntimeWarning: Mean of empty slice\n",
      "  return np.nanmean(a, axis, out=out, keepdims=keepdims)\n"
     ]
    },
    {
     "data": {
      "text/plain": [
       "<matplotlib.colorbar.Colorbar at 0x7f082c4266d0>"
      ]
     },
     "execution_count": 62,
     "metadata": {},
     "output_type": "execute_result"
    },
    {
     "data": {
      "image/png": "[encoded data removed]",
      "text/plain": [
       "<Figure size 432x288 with 2 Axes>"
      ]
     },
     "metadata": {
      "needs_background": "light"
     },
     "output_type": "display_data"
    }
   ],
   "source": [
    "# Plot heatmap\n",
    "x = np.zeros(distance_matrix.shape)\n",
    "for i in range(x.shape[0]):\n",
    "    for j in range(x.shape[1]):\n",
    "        x[i,j] = np.nanmedian(distance_matrix[i,j])\n",
    "plt.imshow(x)\n",
    "plt.ylabel(\"Navigation\")\n",
    "plt.xlabel(\"Navigation\")\n",
    "plt.xticks(np.arange(0,16,2), np.arange(0,16,2)+1)\n",
    "plt.yticks(np.arange(0,16,2), np.arange(0,16,2)+1)\n",
    "plt.title(\"Median Overlap\")\n",
    "plt.colorbar()"
   ]
  },
  {
   "cell_type": "code",
   "execution_count": 64,
   "metadata": {
    "code_folding": [
     0,
     1
    ]
   },
   "outputs": [
    {
     "data": {
      "image/png": "[encoded data removed]",
      "text/plain": [
       "<Figure size 432x288 with 1 Axes>"
      ]
     },
     "metadata": {
      "needs_background": "light"
     },
     "output_type": "display_data"
    }
   ],
   "source": [
    "# Collapse onto 1D\n",
    "plt.plot(\n",
    "    np.arange(9), [np.nanmedian(v) for v in vals_by_sitedist],\n",
    "    linewidth=2\n",
    "    )\n",
    "plt.fill_between(\n",
    "    np.arange(9),\n",
    "    [np.nanmean(v) + np.nanstd(v) for v in vals_by_sitedist],\n",
    "    [np.nanmean(v) - np.nanstd(v) for v in vals_by_sitedist],\n",
    "    color=\"gray\", alpha=0.3\n",
    "    )\n",
    "plt.ylim(0, 1)\n",
    "plt.title(\"Navigation/Navigation Overlap\")\n",
    "plt.xlabel(\"Site Distance between\\nCache/Retrieval\")\n",
    "plt.ylabel(\"Median Overlap\")\n",
    "plt.show()"
   ]
  },
  {
   "cell_type": "code",
   "execution_count": null,
   "metadata": {},
   "outputs": [],
   "source": []
  }
 ],
 "metadata": {
  "kernelspec": {
   "display_name": "Python 3",
   "language": "python",
   "name": "python3"
  },
  "language_info": {
   "codemirror_mode": {
    "name": "ipython",
    "version": 3
   },
   "file_extension": ".py",
   "mimetype": "text/x-python",
   "name": "python",
   "nbconvert_exporter": "python",
   "pygments_lexer": "ipython3",
   "version": "3.7.6"
  }
 },
 "nbformat": 4,
 "nbformat_minor": 4
}
