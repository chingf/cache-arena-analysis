{
 "cells": [
  {
   "cell_type": "code",
   "execution_count": 2,
   "metadata": {},
   "outputs": [],
   "source": [
    "import os\n",
    "import h5py\n",
    "import pickle\n",
    "import numpy as np\n",
    "import pandas as pd\n",
    "import matplotlib.pyplot as plt\n",
    "import matplotlib.colors as colors\n",
    "import matplotlib.cm as cm\n",
    "import seaborn as sns\n",
    "import pdb\n",
    "from scipy.io import loadmat\n",
    "from scipy import optimize\n",
    "from math import pi, log2\n",
    "import warnings\n",
    "from utils import *"
   ]
  },
  {
   "cell_type": "code",
   "execution_count": 3,
   "metadata": {},
   "outputs": [],
   "source": [
    "mat_files = [m for m in os.listdir(\"data\") if m.endswith('mat')]\n",
    "session_list = pd.read_excel('data/CacheRetrieveSessionList.xlsx', index_col=0)\n",
    "fps = 20\n",
    "cmap = cm.get_cmap('viridis')"
   ]
  },
  {
   "cell_type": "markdown",
   "metadata": {},
   "source": [
    "## Calculating cache index matrix"
   ]
  },
  {
   "cell_type": "code",
   "execution_count": 5,
   "metadata": {},
   "outputs": [
    {
     "name": "stdout",
     "output_type": "stream",
     "text": [
      "ExtractedWithXY_Cleaned184713_09102019.mat\n",
      "ExtractedWithXY_Cleaned184430_09102019.mat\n",
      "ExtractedWithXY_Cleaned184526_09102019.mat\n",
      "ExtractedWithXY_Cleaned184946_09102019.mat\n",
      "ExtractedWithXY_Cleaned185033_09102019.mat\n",
      "ExtractedWithXY_Cleaned184331_09102019.mat\n",
      "ExtractedWithXY_Cleaned144233_09112019.mat\n"
     ]
    }
   ],
   "source": [
    "window = 30\n",
    "results = {}\n",
    "for mat_file in mat_files:\n",
    "    print(mat_file)\n",
    "    f = h5py.File(\"data/\" + mat_file, 'r')\n",
    "    wedges = np.array(f['whichWedge']).squeeze()\n",
    "    cache_sites = np.array(f['CacheSites']).squeeze()\n",
    "    pokes = np.array(f['CacheFrames']).squeeze().astype(int) - 1\n",
    "    enters = np.array(f['CacheFramesEnter']).squeeze().astype(int) - 1\n",
    "    exits = np.array(f['CacheFramesExit']).squeeze().astype(int) - 1\n",
    "    was_retrieval = np.array(f['ThisWasRetrieval']).squeeze().astype(bool)\n",
    "    spikes = np.array(f['S'])\n",
    "    fr = get_fr(spikes)\n",
    "    cache_idxs = np.zeros((cache_sites.size, fr.shape[1]))\n",
    "    all_cache_frames, all_noncache_frames = get_cache_index_frames(\n",
    "        wedges, cache_sites, pokes, enters, exits,\n",
    "        fr, window\n",
    "        )\n",
    "    for idx in range(cache_sites.size):\n",
    "        cache_site = cache_sites[idx]\n",
    "        cache_frames = all_cache_frames[idx]\n",
    "        noncache_frames = all_noncache_frames[cache_site]\n",
    "        cache_idx = calc_cache_index(fr, cache_frames, noncache_frames)\n",
    "        significant = np.zeros(cache_idx.size)\n",
    "        for _ in range(110):\n",
    "            shuff_cache_frames, shuff_noncache_frames = shuffle_1darray_lists(\n",
    "                cache_frames, noncache_frames\n",
    "                )\n",
    "            shuff_cache_idx = calc_cache_index(\n",
    "                fr, shuff_cache_frames, shuff_noncache_frames\n",
    "                )\n",
    "            significant += (cache_idx > shuff_cache_idx)\n",
    "        significant = significant > 0.99*110\n",
    "        cache_idxs[idx,significant] = cache_idx[significant]\n",
    "    results[mat_file] = cache_idxs\n",
    "with open(\"ci-visit-shuff-%d.p\"%window, \"wb\") as f:\n",
    "    pickle.dump(results,f)"
   ]
  },
  {
   "cell_type": "code",
   "execution_count": 6,
   "metadata": {},
   "outputs": [
    {
     "name": "stdout",
     "output_type": "stream",
     "text": [
      "ExtractedWithXY_Cleaned184713_09102019.mat\n",
      "[ 2  4  6  7  9 14 17 18 21 22 25 29 38 41]\n"
     ]
    },
    {
     "data": {
      "image/png": "[encoded data removed]",
      "text/plain": [
       "<Figure size 432x288 with 1 Axes>"
      ]
     },
     "metadata": {
      "needs_background": "light"
     },
     "output_type": "display_data"
    },
    {
     "name": "stdout",
     "output_type": "stream",
     "text": [
      "\n",
      "ExtractedWithXY_Cleaned184430_09102019.mat\n",
      "[ 1  4  6  7  8 12 14 17 20 23 24 27 29 31 33 36 39]\n"
     ]
    },
    {
     "data": {
      "image/png": "[encoded data removed]",
      "text/plain": [
       "<Figure size 432x288 with 1 Axes>"
      ]
     },
     "metadata": {
      "needs_background": "light"
     },
     "output_type": "display_data"
    },
    {
     "name": "stdout",
     "output_type": "stream",
     "text": [
      "\n",
      "ExtractedWithXY_Cleaned184526_09102019.mat\n",
      "[ 2  3  4  5  6  7  8 13 15 17 20 21 23 29 31 35 38 39 42 43]\n"
     ]
    },
    {
     "data": {
      "image/png": "[encoded data removed]",
      "text/plain": [
       "<Figure size 432x288 with 1 Axes>"
      ]
     },
     "metadata": {
      "needs_background": "light"
     },
     "output_type": "display_data"
    },
    {
     "name": "stdout",
     "output_type": "stream",
     "text": [
      "\n",
      "ExtractedWithXY_Cleaned184946_09102019.mat\n",
      "[ 1  3  5  6 12 15 16 17 18 19 21 22 26 30 31 33 35 36 37 38 41 44 46 47\n",
      " 48 49 50 52 56]\n"
     ]
    },
    {
     "data": {
      "image/png": "[encoded data removed]",
      "text/plain": [
       "<Figure size 432x288 with 1 Axes>"
      ]
     },
     "metadata": {
      "needs_background": "light"
     },
     "output_type": "display_data"
    },
    {
     "name": "stdout",
     "output_type": "stream",
     "text": [
      "\n",
      "ExtractedWithXY_Cleaned185033_09102019.mat\n",
      "[ 0  2  5  7  8 10 11 14 18 19 20 22 24 27 28 29 31 35 42 47 49 50]\n"
     ]
    },
    {
     "data": {
      "image/png": "[encoded data removed]",
      "text/plain": [
       "<Figure size 432x288 with 1 Axes>"
      ]
     },
     "metadata": {
      "needs_background": "light"
     },
     "output_type": "display_data"
    },
    {
     "name": "stdout",
     "output_type": "stream",
     "text": [
      "\n",
      "ExtractedWithXY_Cleaned184331_09102019.mat\n",
      "[ 1  3  6 14 18 32 34 36 37 38 40 43]\n"
     ]
    },
    {
     "data": {
      "image/png": "[encoded data removed]",
      "text/plain": [
       "<Figure size 432x288 with 1 Axes>"
      ]
     },
     "metadata": {
      "needs_background": "light"
     },
     "output_type": "display_data"
    },
    {
     "name": "stdout",
     "output_type": "stream",
     "text": [
      "\n",
      "ExtractedWithXY_Cleaned144233_09112019.mat\n",
      "[ 1  5  9 11 13 14 19 20 22 30 32 33 36 44 45 46 51 53]\n"
     ]
    },
    {
     "data": {
      "image/png": "[encoded data removed]",
      "text/plain": [
       "<Figure size 432x288 with 1 Axes>"
      ]
     },
     "metadata": {
      "needs_background": "light"
     },
     "output_type": "display_data"
    },
    {
     "name": "stdout",
     "output_type": "stream",
     "text": [
      "\n",
      "Total Num: 132\n"
     ]
    }
   ],
   "source": [
    "total = 0\n",
    "for key1 in results.keys():\n",
    "    cache_idx_mat = results[key1]\n",
    "    neurs = np.argwhere(np.sum(cache_idx_mat, axis=0)>0).squeeze()\n",
    "    print(key1)\n",
    "    print(neurs)\n",
    "#     print(\"Min: %1.2f\"%cache_idx_mat[cache_idx_mat > 0].min())\n",
    "#     print(\"Max: %1.2f\"%cache_idx_mat.max())\n",
    "    plt.imshow(cache_idx_mat); plt.show()\n",
    "    print()\n",
    "    total += neurs.size\n",
    "print(\"Total Num: %d\"%total)"
   ]
  },
  {
   "cell_type": "markdown",
   "metadata": {},
   "source": [
    "## Calculating cache index matrix with agglomerated visits"
   ]
  },
  {
   "cell_type": "code",
   "execution_count": 7,
   "metadata": {},
   "outputs": [
    {
     "name": "stdout",
     "output_type": "stream",
     "text": [
      "ExtractedWithXY_Cleaned184713_09102019.mat\n",
      "ExtractedWithXY_Cleaned184430_09102019.mat\n",
      "ExtractedWithXY_Cleaned184526_09102019.mat\n",
      "ExtractedWithXY_Cleaned184946_09102019.mat\n",
      "ExtractedWithXY_Cleaned185033_09102019.mat\n",
      "ExtractedWithXY_Cleaned184331_09102019.mat\n",
      "ExtractedWithXY_Cleaned144233_09112019.mat\n"
     ]
    }
   ],
   "source": [
    "window = 30\n",
    "results = {}\n",
    "for mat_file in mat_files:\n",
    "    print(mat_file)\n",
    "    f = h5py.File(\"data/\" + mat_file, 'r')\n",
    "    wedges = np.array(f['whichWedge']).squeeze()\n",
    "    cache_sites = np.array(f['CacheSites']).squeeze()\n",
    "    pokes = np.array(f['CacheFrames']).squeeze().astype(int) - 1\n",
    "    enters = np.array(f['CacheFramesEnter']).squeeze().astype(int) - 1\n",
    "    exits = np.array(f['CacheFramesExit']).squeeze().astype(int) - 1\n",
    "    was_retrieval = np.array(f['ThisWasRetrieval']).squeeze().astype(bool)\n",
    "    spikes = np.array(f['S'])\n",
    "    fr = get_fr(spikes)\n",
    "    cache_idxs = np.zeros((np.unique(cache_sites).size, fr.shape[1]))\n",
    "    all_cache_frames, all_noncache_frames = get_cache_index_frames(\n",
    "        wedges, cache_sites, pokes, enters, exits,\n",
    "        fr, window\n",
    "        )    \n",
    "    for idx, cache_site in enumerate(np.unique(cache_sites)):\n",
    "        cache_frames, _ = get_poke_centered_frames(\n",
    "            window, wedges,\n",
    "            cache_site, cache_sites,\n",
    "            pokes, enters, exits\n",
    "            )\n",
    "        noncache_frames = all_noncache_frames[cache_site]\n",
    "        cache_idx = calc_cache_index(fr, cache_frames, noncache_frames)\n",
    "        significant = np.zeros(cache_idx.size)\n",
    "        for _ in range(110):\n",
    "            shuff_cache_frames, shuff_noncache_frames = shuffle_1darray_lists(\n",
    "                cache_frames, noncache_frames\n",
    "                )\n",
    "            shuff_cache_idx = calc_cache_index(\n",
    "                fr, shuff_cache_frames, shuff_noncache_frames\n",
    "                )\n",
    "            significant += (cache_idx > shuff_cache_idx)\n",
    "        significant = significant > 0.99*110\n",
    "        cache_idxs[idx,significant] = cache_idx[significant]        \n",
    "    results[mat_file] = cache_idxs\n",
    "with open(\"ci-agglom-shuff-%d.p\"%window, \"wb\") as f:\n",
    "    pickle.dump(results,f)"
   ]
  },
  {
   "cell_type": "code",
   "execution_count": 9,
   "metadata": {},
   "outputs": [
    {
     "name": "stdout",
     "output_type": "stream",
     "text": [
      "ExtractedWithXY_Cleaned184713_09102019.mat\n",
      "[ 1  2  6  7  9 14 17 18 21 22 25 29 34 38 41]\n"
     ]
    },
    {
     "data": {
      "image/png": "[encoded data removed]",
      "text/plain": [
       "<Figure size 432x288 with 1 Axes>"
      ]
     },
     "metadata": {
      "needs_background": "light"
     },
     "output_type": "display_data"
    },
    {
     "name": "stdout",
     "output_type": "stream",
     "text": [
      "\n",
      "ExtractedWithXY_Cleaned184430_09102019.mat\n",
      "[ 1  6  7  8 12 13 14 23 24 27 30 31 33 36 39]\n"
     ]
    },
    {
     "data": {
      "image/png": "[encoded data removed]",
      "text/plain": [
       "<Figure size 432x288 with 1 Axes>"
      ]
     },
     "metadata": {
      "needs_background": "light"
     },
     "output_type": "display_data"
    },
    {
     "name": "stdout",
     "output_type": "stream",
     "text": [
      "\n",
      "ExtractedWithXY_Cleaned184526_09102019.mat\n",
      "[ 3  4  5  7  8 13 15 17 20 21 23 31 35 38 39 42 43]\n"
     ]
    },
    {
     "data": {
      "image/png": "[encoded data removed]",
      "text/plain": [
       "<Figure size 432x288 with 1 Axes>"
      ]
     },
     "metadata": {
      "needs_background": "light"
     },
     "output_type": "display_data"
    },
    {
     "name": "stdout",
     "output_type": "stream",
     "text": [
      "\n",
      "ExtractedWithXY_Cleaned184946_09102019.mat\n",
      "[ 1  3  5  6 17 18 19 21 22 26 27 28 30 31 33 35 36 37 38 40 41 44 46 47\n",
      " 48 49 50 52 53 56]\n"
     ]
    },
    {
     "data": {
      "image/png": "[encoded data removed]",
      "text/plain": [
       "<Figure size 432x288 with 1 Axes>"
      ]
     },
     "metadata": {
      "needs_background": "light"
     },
     "output_type": "display_data"
    },
    {
     "name": "stdout",
     "output_type": "stream",
     "text": [
      "\n",
      "ExtractedWithXY_Cleaned185033_09102019.mat\n",
      "[ 2  8 10 11 18 19 20 21 27 28 32 35 42 46 47 49 50]\n"
     ]
    },
    {
     "data": {
      "image/png": "[encoded data removed]",
      "text/plain": [
       "<Figure size 432x288 with 1 Axes>"
      ]
     },
     "metadata": {
      "needs_background": "light"
     },
     "output_type": "display_data"
    },
    {
     "name": "stdout",
     "output_type": "stream",
     "text": [
      "\n",
      "ExtractedWithXY_Cleaned184331_09102019.mat\n",
      "[ 6 14 18 32 34 36 37 38 40]\n"
     ]
    },
    {
     "data": {
      "image/png": "[encoded data removed]",
      "text/plain": [
       "<Figure size 432x288 with 1 Axes>"
      ]
     },
     "metadata": {
      "needs_background": "light"
     },
     "output_type": "display_data"
    },
    {
     "name": "stdout",
     "output_type": "stream",
     "text": [
      "\n",
      "ExtractedWithXY_Cleaned144233_09112019.mat\n",
      "[ 7  9 11 12 13 14 19 20 22 23 30 31 32 33 36 45 46 49 53]\n"
     ]
    },
    {
     "data": {
      "image/png": "[encoded data removed]",
      "text/plain": [
       "<Figure size 432x288 with 1 Axes>"
      ]
     },
     "metadata": {
      "needs_background": "light"
     },
     "output_type": "display_data"
    },
    {
     "name": "stdout",
     "output_type": "stream",
     "text": [
      "\n",
      "Total Num: 122\n"
     ]
    }
   ],
   "source": [
    "total = 0\n",
    "for key1 in results.keys():\n",
    "    cache_idx_mat = results[key1]\n",
    "    neurs = np.argwhere(np.sum(cache_idx_mat, axis=0)>0.95).squeeze()\n",
    "    print(key1)\n",
    "    print(neurs)\n",
    "#     print(\"Min: %1.2f\"%cache_idx_mat[cache_idx_mat > 0].min())\n",
    "#     print(\"Max: %1.2f\"%cache_idx_mat.max())\n",
    "    plt.imshow(cache_idx_mat); plt.show()\n",
    "    print()\n",
    "    total += neurs.size\n",
    "print(\"Total Num: %d\"%total)"
   ]
  },
  {
   "cell_type": "code",
   "execution_count": null,
   "metadata": {},
   "outputs": [],
   "source": []
  }
 ],
 "metadata": {
  "kernelspec": {
   "display_name": "Python 3",
   "language": "python",
   "name": "python3"
  },
  "language_info": {
   "codemirror_mode": {
    "name": "ipython",
    "version": 3
   },
   "file_extension": ".py",
   "mimetype": "text/x-python",
   "name": "python",
   "nbconvert_exporter": "python",
   "pygments_lexer": "ipython3",
   "version": "3.7.6"
  }
 },
 "nbformat": 4,
 "nbformat_minor": 4
}
