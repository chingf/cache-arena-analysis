{
 "cells": [
  {
   "cell_type": "code",
   "execution_count": 1,
   "metadata": {},
   "outputs": [],
   "source": [
    "import pickle\n",
    "import numpy as np\n",
    "import pandas as pd\n",
    "import matplotlib.pyplot as plt\n",
    "import matplotlib.cm as cm\n",
    "import seaborn as sns\n",
    "import h5py\n",
    "from math import pi\n",
    "from scipy.signal import find_peaks\n",
    "\n",
    "from analysis.config import birds, h5_path_dict, pickle_dir\n",
    "from analysis.ExpData import ExpData\n",
    "from analysis.PlaceCalc import PlaceCalc"
   ]
  },
  {
   "cell_type": "code",
   "execution_count": 2,
   "metadata": {
    "code_folding": [
     1,
     4,
     29
    ]
   },
   "outputs": [
    {
     "name": "stdout",
     "output_type": "stream",
     "text": [
      "/home/chingf/engram/Emily/NeuralData/Gcamp/ForChing/ExtractedWithXY_Cleaned184331_09102019.mat\n"
     ]
    },
    {
     "name": "stderr",
     "output_type": "stream",
     "text": [
      "/home/chingf/Code/cache-arena-analysis/analysis/tuning_measures/mutual_info.py:20: RuntimeWarning: divide by zero encountered in log2\n",
      "  log_term = np.log2(condn_mean_fr/mean_fr)\n"
     ]
    },
    {
     "name": "stdout",
     "output_type": "stream",
     "text": [
      "/home/chingf/engram/Emily/NeuralData/Gcamp/ForChing/ExtractedWithXY_Cleaned185033_09102019.mat\n",
      "/home/chingf/engram/Emily/NeuralData/Gcamp/ForChing/ExtractedWithXY_Cleaned184713_09102019.mat\n",
      "/home/chingf/engram/Emily/NeuralData/Gcamp/ForChing/ExtractedWithXY_Cleaned184430_09102019.mat\n",
      "/home/chingf/engram/Emily/NeuralData/Gcamp/ForChing/ExtractedWithXY_Cleaned144233_09112019.mat\n",
      "/home/chingf/engram/Emily/NeuralData/Gcamp/ForChing/ExtractedWithXY_Cleaned184526_09102019.mat\n",
      "/home/chingf/engram/Emily/NeuralData/Gcamp/ForChing/ExtractedWithXY_Cleaned184946_09102019.mat\n",
      "/home/chingf/engram/Emily/NeuralData/Gcamp/LMN73/20200930/2020-09-30-11-00-47_video_SplitIntoBatches_29_250_10_200/Results/ExtractedWithOldBehavVariables154524_11062020.mat\n"
     ]
    },
    {
     "name": "stderr",
     "output_type": "stream",
     "text": [
      "/home/chingf/Code/cache-arena-analysis/analysis/tuning_measures/mutual_info.py:20: RuntimeWarning: invalid value encountered in true_divide\n",
      "  log_term = np.log2(condn_mean_fr/mean_fr)\n",
      "/home/chingf/Code/cache-arena-analysis/analysis/PlaceCalc.py:34: RuntimeWarning: invalid value encountered in true_divide\n",
      "  spatial_info /= shuffled_spatial_info\n"
     ]
    },
    {
     "name": "stdout",
     "output_type": "stream",
     "text": [
      "/home/chingf/engram/Emily/NeuralData/Gcamp/LMN73/20201009/2020-10-09-11-40-59_video_SplitIntoBatches_29_250_10_200/Results/ExtractedWithOldBehavVariables150539_11062020.mat\n",
      "/home/chingf/engram/Emily/NeuralData/Gcamp/LMN73/20201012/2020-10-12-11-43-36_video_SplitIntoBatches_29_250_10_200/Results/ExtractedWithOldBehavVariables160403_11062020.mat\n",
      "/home/chingf/engram/Emily/NeuralData/Gcamp/LMN73/20200918/2020-09-18-11-50-00_video_SplitIntoBatches_29_250_10_200/Results/ExtractedWithOldBehavVariables160820_11062020.mat\n",
      "/home/chingf/engram/Emily/NeuralData/Gcamp/LMN73/20200908/2020-09-08-12-02-54_video_SplitIntoBatches_29_250_10_200/Results/ExtractedWithOldBehavVariables162633_11062020.mat\n",
      "/home/chingf/engram/Emily/NeuralData/Gcamp/LMN73/20200910/2020-09-10-12-00-48_video_SplitIntoBatches_29_250_10_200/Results/ExtractedWithOldBehavVariables162716_11062020.mat\n",
      "/home/chingf/engram/Emily/NeuralData/Gcamp/LMN73/20201007/2020-10-07-11-48-53_video_SplitIntoBatches_29_250_10_200/Results/ExtractedWithOldBehavVariables152406_11062020.mat\n",
      "/home/chingf/engram/Emily/NeuralData/Gcamp/LMN73/20201005/2020-10-05-11-52-31_video_SplitIntoBatches_29_250_10_200/Results/ExtractedWithOldBehavVariables153417_11062020.mat\n",
      "/home/chingf/engram/Emily/NeuralData/Gcamp/LMN73/20201002/2020-10-02-11-08-30_video_SplitIntoBatches_29_250_10_200/Results/ExtractedWithOldBehavVariables153621_11062020.mat\n",
      "/home/chingf/engram/Emily/NeuralData/Gcamp/LMN73/20201016/2020-10-16-11-38-50_video_SplitIntoBatches_29_250_10_200/Results/ExtractedWithOldBehavVariables144624_11062020.mat\n",
      "/home/chingf/engram/Emily/NeuralData/Gcamp/LMN73/20201014/2020-10-14-11-25-20_video_SplitIntoBatches_29_250_10_200/Results/ExtractedWithOldBehavVariables151735_11062020.mat\n",
      "/home/chingf/engram/Emily/NeuralData/Gcamp/LMN73/20200922/2020-09-22-10-58-51_video_SplitIntoBatches_29_250_10_200/Results/ExtractedWithOldBehavVariables160046_11062020.mat\n"
     ]
    }
   ],
   "source": [
    "data = {}\n",
    "place_calc = PlaceCalc(\n",
    "    num_shuffles=200, threshold=0.99, dimension=1, bins_2d=None\n",
    "    )\n",
    "for key in h5_path_dict.keys():\n",
    "    for fil in range(len(h5_path_dict[key])):\n",
    "        fil_string = h5_path_dict[key][fil].as_posix()\n",
    "        print(fil_string)\n",
    "        f = h5py.File(fil_string, 'r')\n",
    "        exp_data = ExpData(f)\n",
    "        data[fil_string] = {}\n",
    "        spatial_info, significance_1d, _ = place_calc.calc_place_cells(exp_data)\n",
    "        data[fil_string]['spatial_info'] = spatial_info\n",
    "        data[fil_string]['significance'] = significance_1d\n",
    "        data[fil_string]['tuning'] = np.zeros((exp_data.num_neurs, 16)).astype(bool)\n",
    "        data[fil_string]['mean_fr'] = np.zeros((exp_data.num_neurs, 16))\n",
    "        for neur in range(exp_data.num_neurs):\n",
    "            if not significance_1d[neur]: continue\n",
    "            frs = []\n",
    "            for wedge in (np.arange(16) + 1):\n",
    "                wedge_frs = exp_data.fr[neur, exp_data.wedges == wedge]\n",
    "                frs.append(wedge_frs)\n",
    "            mean_frs = [np.nanmean(f) for f in frs]\n",
    "            neur_tuning = np.argwhere(\n",
    "                mean_frs > np.mean(mean_frs) + np.std(mean_frs)\n",
    "                ).flatten()\n",
    "            data[fil_string]['mean_fr'][neur, :] = mean_frs\n",
    "            if not significance_1d[neur]: continue\n",
    "            data[fil_string]['tuning'][neur, neur_tuning] = True\n",
    "with open(pickle_dir / 'place_cells_1d.p', 'wb') as f: \n",
    "    pickle.dump(data, f)"
   ]
  },
  {
   "cell_type": "code",
   "execution_count": null,
   "metadata": {},
   "outputs": [],
   "source": []
  }
 ],
 "metadata": {
  "kernelspec": {
   "display_name": "Python 3",
   "language": "python",
   "name": "python3"
  },
  "language_info": {
   "codemirror_mode": {
    "name": "ipython",
    "version": 3
   },
   "file_extension": ".py",
   "mimetype": "text/x-python",
   "name": "python",
   "nbconvert_exporter": "python",
   "pygments_lexer": "ipython3",
   "version": "3.7.6"
  }
 },
 "nbformat": 4,
 "nbformat_minor": 4
}
