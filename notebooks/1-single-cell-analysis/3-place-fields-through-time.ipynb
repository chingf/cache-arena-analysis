{
 "cells": [
  {
   "cell_type": "code",
   "execution_count": 1,
   "metadata": {},
   "outputs": [],
   "source": [
    "import pickle\n",
    "import numpy as np\n",
    "import pandas as pd\n",
    "import matplotlib.pyplot as plt\n",
    "import matplotlib.cm as cm\n",
    "import seaborn as sns\n",
    "import h5py\n",
    "from math import pi\n",
    "\n",
    "from analysis.config import birds, h5_path_dict, pickle_dir\n",
    "from analysis.ExpData import ExpData\n",
    "from analysis.PlaceCalc import PlaceCalc"
   ]
  },
  {
   "cell_type": "code",
   "execution_count": 2,
   "metadata": {},
   "outputs": [],
   "source": [
    "with open(pickle_dir / 'place_cells_1d.p', 'rb') as f: \n",
    "    place_cells = pickle.load(f)"
   ]
  },
  {
   "cell_type": "code",
   "execution_count": null,
   "metadata": {},
   "outputs": [],
   "source": [
    "for key in h5_path_dict.keys():\n",
    "    for fil in range(len(h5_path_dict[key])):\n",
    "        fil_string = h5_path_dict[key][fil].as_posix()\n",
    "        f = h5py.File(fil_string, 'r')\n",
    "        exp_data = ExpData(f)\n",
    "        exp_data.cr_sites[exp_data.was_cache]\n",
    "        \n",
    "        "
   ]
  }
 ],
 "metadata": {
  "kernelspec": {
   "display_name": "Python 3",
   "language": "python",
   "name": "python3"
  },
  "language_info": {
   "codemirror_mode": {
    "name": "ipython",
    "version": 3
   },
   "file_extension": ".py",
   "mimetype": "text/x-python",
   "name": "python",
   "nbconvert_exporter": "python",
   "pygments_lexer": "ipython3",
   "version": "3.7.6"
  }
 },
 "nbformat": 4,
 "nbformat_minor": 4
}
