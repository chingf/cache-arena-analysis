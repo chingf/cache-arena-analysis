{
 "cells": [
  {
   "cell_type": "code",
   "execution_count": 18,
   "metadata": {},
   "outputs": [],
   "source": [
    "import os\n",
    "import h5py\n",
    "import pickle\n",
    "import numpy as np\n",
    "import pandas as pd\n",
    "import matplotlib.pyplot as plt\n",
    "import matplotlib.colors as colors\n",
    "import matplotlib.cm as cm\n",
    "import seaborn as sns\n",
    "import pdb\n",
    "from scipy.io import loadmat\n",
    "from sklearn.preprocessing import binarize\n",
    "from scipy import optimize\n",
    "from math import pi, log2\n",
    "import warnings\n",
    "from utils import *\n",
    "from DataFile import DataFile"
   ]
  },
  {
   "cell_type": "code",
   "execution_count": 19,
   "metadata": {},
   "outputs": [],
   "source": [
    "mat_files = [m for m in os.listdir(\"data\") if m.endswith('mat')]\n",
    "session_list = pd.read_excel('data/CacheRetrieveSessionList.xlsx', index_col=0)\n",
    "fps = 20\n",
    "cmap = cm.get_cmap('viridis')"
   ]
  },
  {
   "cell_type": "code",
   "execution_count": 14,
   "metadata": {},
   "outputs": [],
   "source": [
    "fpr = 3000 #chosen frames per revolution in experiment\n",
    "tpr = 2000 #timesteps per revolution in model input\n",
    "downsample = tpr/fpr\n",
    "mat_file = mat_files[-2]\n",
    "f = h5py.File(\"data/\" + mat_file, 'r')\n",
    "f = DataFile(f)\n",
    "end_frame = f.cache_exits[7]//2\n",
    "theta = f.theta[:end_frame:2]\n",
    "caching_start = f.cache_enters[f.was_cache]\n",
    "caching_exit = f.cache_exits[f.was_cache]\n",
    "retrieval_start = f.cache_enters[f.was_retrieval]\n",
    "retrieval_exit = f.cache_exits[f.was_retrieval]\n",
    "caching_start = caching_start[:4]//2\n",
    "caching_exit = caching_exit[:4]//2\n",
    "retrieval_start = retrieval_start[:]//2\n",
    "retrieval_exit = retrieval_exit[:4]//2"
   ]
  },
  {
   "cell_type": "code",
   "execution_count": 16,
   "metadata": {},
   "outputs": [
    {
     "data": {
      "text/plain": [
       "array([29, 65, 26, 57])"
      ]
     },
     "execution_count": 16,
     "metadata": {},
     "output_type": "execute_result"
    }
   ],
   "source": [
    "caching_exit - caching_start"
   ]
  },
  {
   "cell_type": "code",
   "execution_count": 17,
   "metadata": {},
   "outputs": [
    {
     "data": {
      "text/plain": [
       "array([353,  17, 781,  91])"
      ]
     },
     "execution_count": 17,
     "metadata": {},
     "output_type": "execute_result"
    }
   ],
   "source": [
    "retrieval_exit - retrieval_start"
   ]
  },
  {
   "cell_type": "code",
   "execution_count": 27,
   "metadata": {},
   "outputs": [
    {
     "data": {
      "text/plain": [
       "[<matplotlib.lines.Line2D at 0x7fc4c2a54d10>]"
      ]
     },
     "execution_count": 27,
     "metadata": {},
     "output_type": "execute_result"
    }
   ],
   "source": [
    "%matplotlib tk\n",
    "plt.plot(get_fr(f.fr, 120*20)[:,0])"
   ]
  },
  {
   "cell_type": "code",
   "execution_count": null,
   "metadata": {},
   "outputs": [],
   "source": [
    "t_mode = np.zeros(theta.size)\n",
    "t_mode[caching_start] = 1\n",
    "t_mpde[retrieval_start] = 2"
   ]
  },
  {
   "cell_type": "code",
   "execution_count": null,
   "metadata": {},
   "outputs": [],
   "source": [
    "mode = []\n",
    "mode_transitions = []\n",
    "mode.append(mode_transitions)\n",
    "for start, exit in zip(caching_start, caching_retrieval):\n",
    "    mode.append(1)\n",
    "    mode_transitions.append(start)"
   ]
  }
 ],
 "metadata": {
  "kernelspec": {
   "display_name": "Python 3",
   "language": "python",
   "name": "python3"
  },
  "language_info": {
   "codemirror_mode": {
    "name": "ipython",
    "version": 3
   },
   "file_extension": ".py",
   "mimetype": "text/x-python",
   "name": "python",
   "nbconvert_exporter": "python",
   "pygments_lexer": "ipython3",
   "version": "3.7.6"
  }
 },
 "nbformat": 4,
 "nbformat_minor": 4
}
