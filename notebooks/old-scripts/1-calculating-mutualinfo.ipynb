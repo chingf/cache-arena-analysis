{
 "cells": [
  {
   "cell_type": "code",
   "execution_count": 2,
   "metadata": {},
   "outputs": [],
   "source": [
    "import os\n",
    "import h5py\n",
    "import pickle\n",
    "import numpy as np\n",
    "import pandas as pd\n",
    "import matplotlib.pyplot as plt\n",
    "import matplotlib.colors as colors\n",
    "import matplotlib.cm as cm\n",
    "import seaborn as sns\n",
    "import pdb\n",
    "from scipy.io import loadmat\n",
    "from scipy import optimize\n",
    "from math import pi, log2\n",
    "from utils import *\n",
    "import warnings\n",
    "from DataFile import DataFile"
   ]
  },
  {
   "cell_type": "code",
   "execution_count": 3,
   "metadata": {},
   "outputs": [],
   "source": [
    "mat_files = [m for m in os.listdir(\"data\") if m.endswith('mat')]\n",
    "session_list = pd.read_excel('data/CacheRetrieveSessionList.xlsx', index_col=0)\n",
    "fps = 20\n",
    "cmap = cm.get_cmap('viridis')"
   ]
  },
  {
   "cell_type": "markdown",
   "metadata": {},
   "source": [
    "## Identifying place cells"
   ]
  },
  {
   "cell_type": "code",
   "execution_count": 5,
   "metadata": {},
   "outputs": [
    {
     "name": "stdout",
     "output_type": "stream",
     "text": [
      "ExtractedWithXY_Cleaned184713_09102019.mat\n",
      "ExtractedWithXY_Cleaned184430_09102019.mat\n",
      "ExtractedWithXY_Cleaned184526_09102019.mat\n",
      "ExtractedWithXY_Cleaned184946_09102019.mat\n",
      "ExtractedWithXY_Cleaned185033_09102019.mat\n",
      "ExtractedWithXY_Cleaned184331_09102019.mat\n"
     ]
    },
    {
     "name": "stderr",
     "output_type": "stream",
     "text": [
      "/home/chingf/Code/hf-data-analysis/utils.py:93: RuntimeWarning: invalid value encountered in double_scalars\n",
      "  log_term = log2(ctxt_mean_fr/mean_fr)\n"
     ]
    },
    {
     "name": "stdout",
     "output_type": "stream",
     "text": [
      "ExtractedWithXY_Cleaned144233_09112019.mat\n"
     ]
    }
   ],
   "source": [
    "plot = False\n",
    "results = {}\n",
    "for mat_file in mat_files:\n",
    "    print(mat_file)\n",
    "    f = h5py.File(\"data/\" + mat_file, 'r')\n",
    "    f = DataFile(f)\n",
    "    spatial_mat = np.zeros(f.num_neurs)\n",
    "    significants = np.zeros(f.num_neurs).astype(bool)\n",
    "    for neur in np.arange(f.num_neurs):\n",
    "        neur_spikes = f.spikes[:, neur]\n",
    "        neur_fr = f.fr[:,neur]\n",
    "        spatial_info = get_mutual_info(\n",
    "            f.wedges[f.wedges != 17], neur_fr[f.wedges != 17]\n",
    "            )\n",
    "        shuffled_info = []\n",
    "        shuffled_peak_fr = []\n",
    "        for _ in range(110):\n",
    "            shuffled_spikes = circular_shuffle(neur_spikes)\n",
    "            shuffled_fr = get_fr(shuffled_spikes)\n",
    "            shuffled_info.append(get_mutual_info(\n",
    "                f.wedges[f.wedges != 17], shuffled_fr[f.wedges != 17]\n",
    "                ))\n",
    "            shuffled_peak_fr.append(shuffled_fr.max())\n",
    "        shuffled_info = np.array(shuffled_info)\n",
    "        high_mutual_info = np.sum(shuffled_info < spatial_info) > 0.99*shuffled_info.size\n",
    "        spatial_mat[neur] = spatial_info/np.mean(shuffled_info)\n",
    "        if high_mutual_info:\n",
    "            significants[neur] = True\n",
    "        # Plotting for debugging\n",
    "        if plot:\n",
    "            df = pd.DataFrame({\n",
    "                \"loc\":f.wedges[f.wedges != 17],\n",
    "                \"spikerate\":neur_fr[f.wedges != 17]\n",
    "                })\n",
    "            plt.figure(figsize=(10,5))\n",
    "            sns.pointplot(x=\"loc\", y=\"spikerate\", data=df)\n",
    "            if high_mutual_info:\n",
    "                plt.title(\"Place Cell\")\n",
    "            else:\n",
    "                plt.title(\"Not Place Cell\")\n",
    "            plt.show()\n",
    "            print(spatial_info)\n",
    "    results[mat_file] =  {\"Matrix\": spatial_mat, \"Significants\": significants}\n",
    "with open(\"spatial-all.p\", \"wb\") as f:\n",
    "    pickle.dump(results, f)"
   ]
  },
  {
   "cell_type": "markdown",
   "metadata": {},
   "source": [
    "## Identifying specific episode cells visit-by-visit, centered by hop\n",
    "Looking at a window around each cache. Specificity for a cache at a specific location"
   ]
  },
  {
   "cell_type": "code",
   "execution_count": 12,
   "metadata": {},
   "outputs": [
    {
     "name": "stdout",
     "output_type": "stream",
     "text": [
      "ExtractedWithXY_Cleaned184713_09102019.mat\n",
      "ExtractedWithXY_Cleaned184430_09102019.mat\n",
      "ExtractedWithXY_Cleaned184526_09102019.mat\n",
      "ExtractedWithXY_Cleaned184946_09102019.mat\n",
      "ExtractedWithXY_Cleaned185033_09102019.mat\n",
      "ExtractedWithXY_Cleaned184331_09102019.mat\n",
      "ExtractedWithXY_Cleaned144233_09112019.mat\n"
     ]
    }
   ],
   "source": [
    "window = 60\n",
    "results = {}\n",
    "for mat_file in mat_files:\n",
    "    print(mat_file)\n",
    "    f = h5py.File(\"data/\" + mat_file, 'r')\n",
    "    f = DataFile(f)\n",
    "    cache_idxs = np.zeros((f.cache_sites.size, f.num_neurs))\n",
    "    results[mat_file] = np.zeros((f.cache_sites.size, f.num_neurs))\n",
    "    cache_hops_frames, noncache_hops_frames, noncache_hops_wedges = \\\n",
    "        f.get_hopcentered_frames(window)\n",
    "    for idx in range(f.cache_sites.size):\n",
    "        cache_site = f.cache_sites[idx]\n",
    "        cache_frames = cache_hops_frames[idx]\n",
    "        noncache_frames = [\n",
    "            arr for idx, arr in enumerate(noncache_hops_frames)\\\n",
    "            if noncache_hops_wedges[idx] == cache_site\n",
    "            ]\n",
    "        noncache_frames = np.concatenate(noncache_frames)\n",
    "        context_frames = np.concatenate([\n",
    "            cache_frames, noncache_frames\n",
    "            ])\n",
    "        contexts = np.concatenate([\n",
    "            np.ones(cache_frames.size),\n",
    "            np.zeros(noncache_frames.size)\n",
    "            ])\n",
    "        cache_info = get_mutual_info_mat(contexts, f.fr[context_frames,:])\n",
    "        significant = np.zeros(f.num_neurs)\n",
    "        shuffled_infos = np.zeros(f.num_neurs)\n",
    "        for _ in range(110):\n",
    "            shuff_spikes = f.spikes[context_frames,:]\n",
    "            shuff_spikes = circular_shuffle(shuff_spikes)\n",
    "            shuff_fr = get_fr(shuff_spikes)\n",
    "            shuff_cache_frames, shuff_noncache_frames = \\\n",
    "                circular_shuffle_two_nparrays(cache_frames, noncache_frames)\n",
    "            shuff_context_frames = np.concatenate([\n",
    "                shuff_cache_frames, shuff_noncache_frames\n",
    "                ])\n",
    "            shuff_cache_info = get_mutual_info_mat(\n",
    "                contexts, f.fr[shuff_context_frames,:]\n",
    "                )\n",
    "            shuffled_infos += shuff_cache_info\n",
    "            significant += (cache_info > shuff_cache_info)\n",
    "        significant = significant > 0.99*110\n",
    "        shuffled_infos = shuffled_infos/110\n",
    "        results[mat_file][idx, significant] = \\\n",
    "            cache_info[significant]/shuffled_infos[significant]\n",
    "        if np.sum(np.isinf(results[mat_file][idx, significant])):\n",
    "            import pdb; pdb.set_trace()\n",
    "with open(\"mi-hopvis-circvisshuff-%d.p\"%window, \"wb\") as f:\n",
    "    pickle.dump(results, f)"
   ]
  },
  {
   "cell_type": "code",
   "execution_count": 14,
   "metadata": {},
   "outputs": [
    {
     "name": "stdout",
     "output_type": "stream",
     "text": [
      "ExtractedWithXY_Cleaned184713_09102019.mat\n",
      "[ 6  7  9 11 14 21 25 36 37 38]\n",
      "Min: 1.00\n",
      "Max: 1.00\n"
     ]
    },
    {
     "data": {
      "image/png": "[encoded data removed]",
      "text/plain": [
       "<Figure size 432x288 with 1 Axes>"
      ]
     },
     "metadata": {
      "needs_background": "light"
     },
     "output_type": "display_data"
    },
    {
     "name": "stdout",
     "output_type": "stream",
     "text": [
      "\n",
      "ExtractedWithXY_Cleaned184430_09102019.mat\n",
      "[ 4  6  7  8  9 10 12 18 20 24 25 29 31 32 40 46 48]\n",
      "Min: 1.00\n",
      "Max: 1.00\n"
     ]
    },
    {
     "data": {
      "image/png": "[encoded data removed]",
      "text/plain": [
       "<Figure size 432x288 with 1 Axes>"
      ]
     },
     "metadata": {
      "needs_background": "light"
     },
     "output_type": "display_data"
    },
    {
     "name": "stdout",
     "output_type": "stream",
     "text": [
      "\n",
      "ExtractedWithXY_Cleaned184526_09102019.mat\n",
      "[ 3  4  5  7  8 13 15 17 21 23 25 29 35 38 39 40 42 43]\n",
      "Min: 1.00\n",
      "Max: 1.00\n"
     ]
    },
    {
     "data": {
      "image/png": "[encoded data removed]",
      "text/plain": [
       "<Figure size 432x288 with 1 Axes>"
      ]
     },
     "metadata": {
      "needs_background": "light"
     },
     "output_type": "display_data"
    },
    {
     "name": "stdout",
     "output_type": "stream",
     "text": [
      "\n",
      "ExtractedWithXY_Cleaned184946_09102019.mat\n",
      "[ 1  3  5  6 12 15 17 18 27 28 29 30 31 33 44 46 48 49 50 53 56]\n",
      "Min: 1.00\n",
      "Max: 1.00\n"
     ]
    },
    {
     "data": {
      "image/png": "[encoded data removed]",
      "text/plain": [
       "<Figure size 432x288 with 1 Axes>"
      ]
     },
     "metadata": {
      "needs_background": "light"
     },
     "output_type": "display_data"
    },
    {
     "name": "stdout",
     "output_type": "stream",
     "text": [
      "\n",
      "ExtractedWithXY_Cleaned185033_09102019.mat\n",
      "[ 0  2  7 10 14 18 19 20 27 29 31 35 39 50]\n",
      "Min: 1.00\n",
      "Max: 1.00\n"
     ]
    },
    {
     "data": {
      "image/png": "[encoded data removed]",
      "text/plain": [
       "<Figure size 432x288 with 1 Axes>"
      ]
     },
     "metadata": {
      "needs_background": "light"
     },
     "output_type": "display_data"
    },
    {
     "name": "stdout",
     "output_type": "stream",
     "text": [
      "\n",
      "ExtractedWithXY_Cleaned184331_09102019.mat\n",
      "[ 1  3  6 14]\n",
      "Min: 1.00\n",
      "Max: 1.00\n"
     ]
    },
    {
     "data": {
      "image/png": "[encoded data removed]",
      "text/plain": [
       "<Figure size 432x288 with 1 Axes>"
      ]
     },
     "metadata": {
      "needs_background": "light"
     },
     "output_type": "display_data"
    },
    {
     "name": "stdout",
     "output_type": "stream",
     "text": [
      "\n",
      "ExtractedWithXY_Cleaned144233_09112019.mat\n",
      "[ 0  5  7  9 11 13 14 18 19 20 22 23 26 29 30 32 33 36 45 46 47 49 51]\n",
      "Min: 1.00\n",
      "Max: 1.00\n"
     ]
    },
    {
     "data": {
      "image/png": "[encoded data removed]",
      "text/plain": [
       "<Figure size 432x288 with 1 Axes>"
      ]
     },
     "metadata": {
      "needs_background": "light"
     },
     "output_type": "display_data"
    },
    {
     "name": "stdout",
     "output_type": "stream",
     "text": [
      "\n",
      "Total Num: 107\n"
     ]
    }
   ],
   "source": [
    "total = 0\n",
    "for key1 in results.keys():\n",
    "    cache_idx_mat = results[key1]\n",
    "    cache_idx_mat = np.clip(cache_idx_mat, 0, 1)\n",
    "    neurs = np.argwhere(np.sum(cache_idx_mat, axis=0)>0).squeeze()\n",
    "    print(key1)\n",
    "    print(neurs)\n",
    "    print(\"Min: %1.2f\"%cache_idx_mat[cache_idx_mat > 0].min())\n",
    "    print(\"Max: %1.2f\"%cache_idx_mat.max())\n",
    "    plt.imshow(cache_idx_mat); plt.show()\n",
    "    print()\n",
    "    total += neurs.size\n",
    "print(\"Total Num: %d\"%total)"
   ]
  },
  {
   "cell_type": "markdown",
   "metadata": {},
   "source": [
    "## Identifying specific episode cells visit-by-visit\n",
    "Looking at a window around each cache. Specificity for a cache at a specific location"
   ]
  },
  {
   "cell_type": "code",
   "execution_count": 11,
   "metadata": {},
   "outputs": [
    {
     "name": "stdout",
     "output_type": "stream",
     "text": [
      "ExtractedWithXY_Cleaned184713_09102019.mat\n",
      "ExtractedWithXY_Cleaned184430_09102019.mat\n",
      "ExtractedWithXY_Cleaned184526_09102019.mat\n",
      "ExtractedWithXY_Cleaned184946_09102019.mat\n",
      "ExtractedWithXY_Cleaned185033_09102019.mat\n",
      "ExtractedWithXY_Cleaned184331_09102019.mat\n",
      "ExtractedWithXY_Cleaned144233_09112019.mat\n"
     ]
    }
   ],
   "source": [
    "results = {}\n",
    "for mat_file in mat_files:\n",
    "    print(mat_file)\n",
    "    f = h5py.File(\"data/\" + mat_file, 'r')\n",
    "    f = DataFile(f)\n",
    "    cache_idxs = np.zeros((f.cache_sites.size, f.num_neurs))\n",
    "    results[mat_file] = np.zeros((f.cache_sites.size, f.num_neurs))\n",
    "    for idx in range(f.cache_sites.size):\n",
    "        cache_site = f.cache_sites[idx]\n",
    "        cache_frames = np.arange(f.cache_enters[idx], f.cache_exits[idx]).astype(int)\n",
    "        noncache_enters = f.noncache_enters[f.noncache_wedges == cache_site]\n",
    "        noncache_exits = f.noncache_exits[f.noncache_wedges == cache_site]\n",
    "        noncache_frames = [\n",
    "            np.arange(enter, exit).astype(int) for \\\n",
    "            enter, exit in zip(noncache_enters, noncache_exits)\n",
    "            ]\n",
    "        noncache_frames = np.concatenate(noncache_frames)\n",
    "        context_frames = np.concatenate([\n",
    "            cache_frames, noncache_frames\n",
    "            ])\n",
    "        contexts = np.concatenate([\n",
    "            np.ones(cache_frames.size),\n",
    "            np.zeros(noncache_frames.size)\n",
    "            ])\n",
    "        cache_info = get_mutual_info_mat(contexts, f.fr[context_frames,:])\n",
    "        significant = np.zeros(f.num_neurs)\n",
    "        shuffled_infos = np.zeros(f.num_neurs)\n",
    "        for _ in range(110):\n",
    "            shuff_spikes = f.spikes[context_frames,:]\n",
    "            shuff_spikes = circular_shuffle(shuff_spikes)\n",
    "            shuff_fr = get_fr(shuff_spikes)\n",
    "            shuff_cache_info = get_mutual_info_mat(\n",
    "                contexts, shuff_fr\n",
    "                )\n",
    "            shuffled_infos += shuff_cache_info\n",
    "            significant += (cache_info > shuff_cache_info)\n",
    "        significant = significant > 0.99*110\n",
    "        shuffled_infos = shuffled_infos/110\n",
    "        results[mat_file][idx, significant] = \\\n",
    "            cache_info[significant]#/shuffled_infos[significant]\n",
    "# with open(\"mi-agglom-circshuff-%d.p\"%window, \"wb\") as f:\n",
    "#     pickle.dump(results, f)"
   ]
  },
  {
   "cell_type": "code",
   "execution_count": null,
   "metadata": {},
   "outputs": [],
   "source": []
  },
  {
   "cell_type": "code",
   "execution_count": 12,
   "metadata": {},
   "outputs": [
    {
     "name": "stdout",
     "output_type": "stream",
     "text": [
      "ExtractedWithXY_Cleaned184713_09102019.mat\n",
      "[ 1  2  4  5  6  7  8 11 12 13 14 16 17 18 19 21 22 23 24 25 27 28 29 30\n",
      " 31 32 33 34 36 37 38 39 40 41]\n",
      "Min: 0.00\n",
      "Max: 0.06\n"
     ]
    },
    {
     "data": {
      "image/png": "[encoded data removed]",
      "text/plain": [
       "<Figure size 432x288 with 1 Axes>"
      ]
     },
     "metadata": {
      "needs_background": "light"
     },
     "output_type": "display_data"
    },
    {
     "name": "stdout",
     "output_type": "stream",
     "text": [
      "\n",
      "ExtractedWithXY_Cleaned184430_09102019.mat\n",
      "[ 0  1  6  7  8  9 10 11 12 13 16 19 20 22 23 24 25 27 28 29 30 31 33 35\n",
      " 36 37 38 39 40 41 44 45 47]\n",
      "Min: 0.00\n",
      "Max: 0.07\n"
     ]
    },
    {
     "data": {
      "image/png": "[encoded data removed]",
      "text/plain": [
       "<Figure size 432x288 with 1 Axes>"
      ]
     },
     "metadata": {
      "needs_background": "light"
     },
     "output_type": "display_data"
    },
    {
     "name": "stdout",
     "output_type": "stream",
     "text": [
      "\n",
      "ExtractedWithXY_Cleaned184526_09102019.mat\n",
      "[ 0  3  4  7  8 10 13 15 16 19 21 23 25 28 29 31 33 34 35 36 37 38 39 40\n",
      " 41 42 43 44 47]\n",
      "Min: 0.00\n",
      "Max: 0.09\n"
     ]
    },
    {
     "data": {
      "image/png": "[encoded data removed]",
      "text/plain": [
       "<Figure size 432x288 with 1 Axes>"
      ]
     },
     "metadata": {
      "needs_background": "light"
     },
     "output_type": "display_data"
    },
    {
     "name": "stdout",
     "output_type": "stream",
     "text": [
      "\n",
      "ExtractedWithXY_Cleaned184946_09102019.mat\n",
      "[ 1  2  3  4  6  9 10 12 13 14 15 16 17 18 19 20 21 22 23 24 25 26 27 28\n",
      " 29 30 31 32 33 34 35 36 37 38 39 40 41 43 44 45 46 47 48 49 50 51 52 53\n",
      " 54 55 56 57 58 60 61]\n",
      "Min: 0.00\n",
      "Max: 0.06\n"
     ]
    },
    {
     "data": {
      "image/png": "[encoded data removed]",
      "text/plain": [
       "<Figure size 432x288 with 1 Axes>"
      ]
     },
     "metadata": {
      "needs_background": "light"
     },
     "output_type": "display_data"
    },
    {
     "name": "stdout",
     "output_type": "stream",
     "text": [
      "\n",
      "ExtractedWithXY_Cleaned185033_09102019.mat\n",
      "[ 6  7  8  9 11 15 16 18 19 20 21 22 24 28 29 31 32 33 34 35 38 39 40 43\n",
      " 44 45 46 49 50]\n",
      "Min: 0.00\n",
      "Max: 0.08\n"
     ]
    },
    {
     "data": {
      "image/png": "[encoded data removed]",
      "text/plain": [
       "<Figure size 432x288 with 1 Axes>"
      ]
     },
     "metadata": {
      "needs_background": "light"
     },
     "output_type": "display_data"
    },
    {
     "name": "stdout",
     "output_type": "stream",
     "text": [
      "\n",
      "ExtractedWithXY_Cleaned184331_09102019.mat\n",
      "[ 1  9 13 14 20 21 29 30 32 34 37 38 39 40 43 44 46]\n",
      "Min: 0.00\n",
      "Max: 0.02\n"
     ]
    },
    {
     "data": {
      "image/png": "[encoded data removed]",
      "text/plain": [
       "<Figure size 432x288 with 1 Axes>"
      ]
     },
     "metadata": {
      "needs_background": "light"
     },
     "output_type": "display_data"
    },
    {
     "name": "stdout",
     "output_type": "stream",
     "text": [
      "\n",
      "ExtractedWithXY_Cleaned144233_09112019.mat\n",
      "[ 1  2  3  5  6  8  9 11 12 13 14 15 16 18 19 20 21 22 23 24 25 26 27 29\n",
      " 30 31 32 33 34 35 36 37 38 40 41 42 43 44 45 46 48 49 51 52 53 54]\n",
      "Min: 0.00\n",
      "Max: 0.03\n"
     ]
    },
    {
     "data": {
      "image/png": "[encoded data removed]",
      "text/plain": [
       "<Figure size 432x288 with 1 Axes>"
      ]
     },
     "metadata": {
      "needs_background": "light"
     },
     "output_type": "display_data"
    },
    {
     "name": "stdout",
     "output_type": "stream",
     "text": [
      "\n",
      "Total Num: 243\n"
     ]
    }
   ],
   "source": [
    "# with open(\"mi-agglom-shuff-30.p\", \"rb\") as f:\n",
    "#     results = pickle.load(f)\n",
    "total = 0\n",
    "for key1 in results.keys():\n",
    "    cache_idx_mat = results[key1]\n",
    "    neurs = np.argwhere(np.sum(cache_idx_mat, axis=0)>0).squeeze()\n",
    "    print(key1)\n",
    "    print(neurs)\n",
    "    print(\"Min: %1.2f\"%cache_idx_mat[cache_idx_mat > 0].min())\n",
    "    print(\"Max: %1.2f\"%cache_idx_mat.max())\n",
    "    plt.imshow(cache_idx_mat); plt.show()\n",
    "    print()\n",
    "    total += neurs.size\n",
    "print(\"Total Num: %d\"%total)"
   ]
  },
  {
   "cell_type": "code",
   "execution_count": null,
   "metadata": {},
   "outputs": [],
   "source": []
  }
 ],
 "metadata": {
  "kernelspec": {
   "display_name": "Python 3",
   "language": "python",
   "name": "python3"
  },
  "language_info": {
   "codemirror_mode": {
    "name": "ipython",
    "version": 3
   },
   "file_extension": ".py",
   "mimetype": "text/x-python",
   "name": "python",
   "nbconvert_exporter": "python",
   "pygments_lexer": "ipython3",
   "version": "3.7.6"
  }
 },
 "nbformat": 4,
 "nbformat_minor": 4
}
