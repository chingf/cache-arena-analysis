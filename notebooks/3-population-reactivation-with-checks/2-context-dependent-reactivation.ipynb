{
 "cells": [
  {
   "cell_type": "code",
   "execution_count": 1,
   "metadata": {},
   "outputs": [],
   "source": [
    "import pickle\n",
    "import numpy as np\n",
    "import pandas as pd\n",
    "import matplotlib.pyplot as plt\n",
    "import matplotlib.cm as cm\n",
    "import seaborn as sns\n",
    "import h5py\n",
    "from math import pi\n",
    "\n",
    "from analysis.config import birds, h5_path_dict, pickle_dir\n",
    "from analysis.ExpData import ExpData\n",
    "from analysis.utils import popln_overlap, get_fr"
   ]
  },
  {
   "cell_type": "code",
   "execution_count": 8,
   "metadata": {},
   "outputs": [],
   "source": [
    "with open(pickle_dir / 'population_patterns_checks.p', 'rb') as f: \n",
    "    population_patterns = pickle.load(f)"
   ]
  },
  {
   "cell_type": "code",
   "execution_count": 28,
   "metadata": {
    "code_folding": [
     0
    ]
   },
   "outputs": [],
   "source": [
    "def plot_overlaps(all_overlaps, title):\n",
    "    plt.figure()\n",
    "    plt.hist(all_overlaps, bins=20, alpha=0.4, weights=np.ones(len(all_overlaps)) / len(all_overlaps))\n",
    "    plt.title(title, fontsize=14)\n",
    "    plt.ylabel(\"Proportion of Visits\", fontsize=12)\n",
    "    plt.xlabel(\"Population Overlap\", fontsize=12)\n",
    "    plt.xlim((0, 1))\n",
    "    plt.ylim((0, 0.6))\n",
    "    plt.show()\n",
    "    print(len(all_overlaps))"
   ]
  },
  {
   "cell_type": "markdown",
   "metadata": {},
   "source": [
    "# Activity Overlap Between Caching and Checks of Occupied Cache"
   ]
  },
  {
   "cell_type": "code",
   "execution_count": 29,
   "metadata": {
    "code_folding": [
     1
    ]
   },
   "outputs": [
    {
     "name": "stderr",
     "output_type": "stream",
     "text": [
      "/home/chingf/anaconda3/envs/analysis-env/lib/python3.7/site-packages/ipykernel_launcher.py:24: RuntimeWarning: All-NaN slice encountered\n"
     ]
    },
    {
     "data": {
      "image/png": "[encoded data removed]",
      "text/plain": [
       "<Figure size 432x288 with 1 Axes>"
      ]
     },
     "metadata": {
      "needs_background": "light"
     },
     "output_type": "display_data"
    },
    {
     "name": "stdout",
     "output_type": "stream",
     "text": [
      "155\n"
     ]
    }
   ],
   "source": [
    "all_overlaps = []\n",
    "for fil_string in population_patterns.keys():\n",
    "    f = h5py.File(fil_string, 'r')\n",
    "    exp_data = ExpData(f)\n",
    "    c_visits = population_patterns[fil_string]['c_visits']\n",
    "    ch_visits = population_patterns[fil_string]['ch_visits']\n",
    "    noncrch_visits = population_patterns[fil_string]['noncrch_visits']\n",
    "    visit_patterns = population_patterns[fil_string]['visit_patterns']\n",
    "    if ch_visits.size == 0: continue\n",
    "\n",
    "    for i, c_visit in enumerate(c_visits):\n",
    "        c_site = exp_data.event_sites[exp_data.cache_event][i]\n",
    "        cache_pattern_mat = visit_patterns[c_visit]\n",
    "        for j, ch_visit in enumerate(ch_visits):\n",
    "            ch_site = exp_data.event_sites[exp_data.check_event][j]\n",
    "            if ch_site != c_site: continue\n",
    "            if not exp_data.cache_present[ch_visit]: continue\n",
    "            check_pattern_mat = visit_patterns[ch_visit]\n",
    "            overlaps = []\n",
    "            for check_pattern in check_pattern_mat.T:\n",
    "                cache_check_overlap = popln_overlap(\n",
    "                    cache_pattern_mat, check_pattern\n",
    "                    )\n",
    "                max_val = np.nanmax(cache_check_overlap)\n",
    "                if not np.isnan(max_val):\n",
    "                    overlaps.append(np.nanmax(cache_check_overlap))\n",
    "            if len(overlaps) > 0:\n",
    "                all_overlaps.append(np.nanmax(overlaps))             \n",
    "        \n",
    "plot_overlaps(all_overlaps, \"Cache vs Check at Same, Occupied Site\")"
   ]
  },
  {
   "cell_type": "markdown",
   "metadata": {},
   "source": [
    "# Activity Overlap Between Caching and Checks of Unoccupied Cache"
   ]
  },
  {
   "cell_type": "code",
   "execution_count": 30,
   "metadata": {
    "code_folding": [
     1
    ]
   },
   "outputs": [
    {
     "name": "stderr",
     "output_type": "stream",
     "text": [
      "/home/chingf/anaconda3/envs/analysis-env/lib/python3.7/site-packages/ipykernel_launcher.py:25: RuntimeWarning: All-NaN slice encountered\n"
     ]
    },
    {
     "data": {
      "image/png": "[encoded data removed]",
      "text/plain": [
       "<Figure size 432x288 with 1 Axes>"
      ]
     },
     "metadata": {
      "needs_background": "light"
     },
     "output_type": "display_data"
    },
    {
     "name": "stdout",
     "output_type": "stream",
     "text": [
      "1087\n"
     ]
    }
   ],
   "source": [
    "all_overlaps = []\n",
    "for fil_string in population_patterns.keys():\n",
    "    f = h5py.File(fil_string, 'r')\n",
    "    exp_data = ExpData(f)\n",
    "    c_visits = population_patterns[fil_string]['c_visits']\n",
    "    ch_visits = population_patterns[fil_string]['ch_visits']\n",
    "    noncrch_visits = population_patterns[fil_string]['noncrch_visits']\n",
    "    visit_patterns = population_patterns[fil_string]['visit_patterns']\n",
    "    if ch_visits.size == 0: continue\n",
    "\n",
    "    for i, c_visit in enumerate(c_visits):\n",
    "        c_site = exp_data.event_sites[exp_data.cache_event][i]\n",
    "        cache_pattern_mat = visit_patterns[c_visit]\n",
    "        assert(ch_visits.size == np.sum(exp_data.check_event))\n",
    "        for j, ch_visit in enumerate(ch_visits):\n",
    "            ch_site = exp_data.event_sites[exp_data.check_event][j]\n",
    "            if ch_site != c_site: continue\n",
    "            if exp_data.cache_present[ch_visit]: continue\n",
    "            check_pattern_mat = visit_patterns[ch_visit]\n",
    "            overlaps = []\n",
    "            for check_pattern in check_pattern_mat.T:\n",
    "                cache_check_overlap = popln_overlap(\n",
    "                    cache_pattern_mat, check_pattern\n",
    "                    )\n",
    "                max_val = np.nanmax(cache_check_overlap)\n",
    "                if not np.isnan(max_val):\n",
    "                    overlaps.append(np.nanmax(cache_check_overlap))\n",
    "            if len(overlaps) > 0:\n",
    "                all_overlaps.append(np.nanmax(overlaps))\n",
    "        \n",
    "plot_overlaps(all_overlaps, \"Cache vs Check at Same, Unoccupied Site\")"
   ]
  },
  {
   "cell_type": "markdown",
   "metadata": {},
   "source": [
    "# Activity Overlap Between Occupied vs Unoccupied Check"
   ]
  },
  {
   "cell_type": "code",
   "execution_count": 31,
   "metadata": {
    "code_folding": [
     1
    ]
   },
   "outputs": [
    {
     "data": {
      "image/png": "[encoded data removed]",
      "text/plain": [
       "<Figure size 432x288 with 1 Axes>"
      ]
     },
     "metadata": {
      "needs_background": "light"
     },
     "output_type": "display_data"
    },
    {
     "name": "stdout",
     "output_type": "stream",
     "text": [
      "688\n"
     ]
    }
   ],
   "source": [
    "all_overlaps = []\n",
    "for fil_string in population_patterns.keys():\n",
    "    f = h5py.File(fil_string, 'r')\n",
    "    exp_data = ExpData(f)\n",
    "    ch_visits = population_patterns[fil_string]['ch_visits']\n",
    "    visit_patterns = population_patterns[fil_string]['visit_patterns']\n",
    "    if ch_visits.size == 0: continue\n",
    "\n",
    "    for i, ch_visit in enumerate(ch_visits):\n",
    "        ch_site = exp_data.event_sites[exp_data.check_event][i]\n",
    "        if not exp_data.cache_present[ch_visit]: continue\n",
    "        check_pattern_mat = visit_patterns[ch_visit]\n",
    "        for j, ch2_visit in enumerate(ch_visits):\n",
    "            if j <= i: continue\n",
    "            ch2_site = exp_data.event_sites[exp_data.check_event][j]\n",
    "            if ch_site != ch2_site: continue\n",
    "            if exp_data.cache_present[ch2_visit]: continue\n",
    "            check2_pattern_mat = visit_patterns[ch2_visit]\n",
    "            overlaps = []\n",
    "            for check2_pattern in check2_pattern_mat.T:\n",
    "                check_check2_overlap = popln_overlap(\n",
    "                    check_pattern_mat, check2_pattern\n",
    "                    )\n",
    "                max_val = np.nanmax(check_check2_overlap)\n",
    "                if not np.isnan(max_val):\n",
    "                    overlaps.append(np.nanmax(check_check2_overlap))\n",
    "            if len(overlaps) > 0:\n",
    "                all_overlaps.append(np.nanmax(overlaps))\n",
    "        \n",
    "plot_overlaps(all_overlaps, \"Occupied Check vs Unoccupied Check\")"
   ]
  },
  {
   "cell_type": "markdown",
   "metadata": {},
   "source": [
    "# Activity Overlap Between Occupied Checks and Arbitrary Visit"
   ]
  },
  {
   "cell_type": "code",
   "execution_count": 36,
   "metadata": {
    "code_folding": []
   },
   "outputs": [
    {
     "data": {
      "image/png": "[encoded data removed]",
      "text/plain": [
       "<Figure size 432x288 with 1 Axes>"
      ]
     },
     "metadata": {
      "needs_background": "light"
     },
     "output_type": "display_data"
    },
    {
     "name": "stdout",
     "output_type": "stream",
     "text": [
      "2041\n"
     ]
    }
   ],
   "source": [
    "all_overlaps = []\n",
    "for fil_string in population_patterns.keys():\n",
    "    f = h5py.File(fil_string, 'r')\n",
    "    exp_data = ExpData(f)\n",
    "    ch_visits = population_patterns[fil_string]['ch_visits']\n",
    "    noncrch_visits = population_patterns[fil_string]['noncrch_visits']\n",
    "    visit_patterns = population_patterns[fil_string]['visit_patterns']\n",
    "    for i, ch_visit in enumerate(ch_visits):\n",
    "        ch_site = exp_data.event_sites[exp_data.check_event][i]\n",
    "        if not exp_data.cache_present[ch_visit]: continue\n",
    "        check_pattern_mat = visit_patterns[ch_visit]\n",
    "        for j, noncrch_visit in enumerate(noncrch_visits):\n",
    "            overlaps = []\n",
    "            noncrch_site = exp_data.visit_wedges[noncrch_visit]\n",
    "            if noncrch_site != ch_site: continue\n",
    "            if not exp_data.cache_present[noncrch_visit]: continue\n",
    "            navig_pattern_mat = visit_patterns[noncrch_visit]\n",
    "            for navig_pattern in navig_pattern_mat.T:\n",
    "                overlaps.append(np.nanmax(\n",
    "                    popln_overlap(check_pattern_mat, navig_pattern)\n",
    "                    ))\n",
    "            if len(overlaps) > 0:\n",
    "                all_overlaps.append(np.nanmax(overlaps))\n",
    "        \n",
    "plot_overlaps(all_overlaps, \"Occupied Check vs Occupied Arbitrary Visit\")"
   ]
  },
  {
   "cell_type": "markdown",
   "metadata": {},
   "source": [
    "# Activity Overlap Between Unoccupied Checks and Arbitrary Visit"
   ]
  },
  {
   "cell_type": "code",
   "execution_count": 37,
   "metadata": {
    "code_folding": [
     1
    ]
   },
   "outputs": [
    {
     "name": "stderr",
     "output_type": "stream",
     "text": [
      "/home/chingf/anaconda3/envs/analysis-env/lib/python3.7/site-packages/ipykernel_launcher.py:20: RuntimeWarning: All-NaN slice encountered\n",
      "/home/chingf/anaconda3/envs/analysis-env/lib/python3.7/site-packages/ipykernel_launcher.py:23: RuntimeWarning: All-NaN axis encountered\n"
     ]
    },
    {
     "data": {
      "image/png": "[encoded data removed]",
      "text/plain": [
       "<Figure size 432x288 with 1 Axes>"
      ]
     },
     "metadata": {
      "needs_background": "light"
     },
     "output_type": "display_data"
    },
    {
     "name": "stdout",
     "output_type": "stream",
     "text": [
      "117369\n"
     ]
    }
   ],
   "source": [
    "all_overlaps = []\n",
    "for fil_string in population_patterns.keys():\n",
    "    f = h5py.File(fil_string, 'r')\n",
    "    exp_data = ExpData(f)\n",
    "    ch_visits = population_patterns[fil_string]['ch_visits']\n",
    "    noncrch_visits = population_patterns[fil_string]['noncrch_visits']\n",
    "    visit_patterns = population_patterns[fil_string]['visit_patterns']\n",
    "    for i, ch_visit in enumerate(ch_visits):\n",
    "        ch_site = exp_data.event_sites[exp_data.check_event][i]\n",
    "        if exp_data.cache_present[ch_visit]: continue\n",
    "        check_pattern_mat = visit_patterns[ch_visit]\n",
    "        for j, noncrch_visit in enumerate(noncrch_visits):\n",
    "            overlaps = []\n",
    "            noncrch_site = exp_data.visit_wedges[noncrch_visit]\n",
    "            if noncrch_site != ch_site: continue\n",
    "            if exp_data.cache_present[noncrch_visit]: continue\n",
    "            navig_pattern_mat = visit_patterns[noncrch_visit]\n",
    "            for navig_pattern in navig_pattern_mat.T:\n",
    "                overlaps.append(np.nanmax(\n",
    "                    popln_overlap(check_pattern_mat, navig_pattern)\n",
    "                    ))\n",
    "            if len(overlaps) > 0:\n",
    "                all_overlaps.append(np.nanmax(overlaps))\n",
    "        \n",
    "plot_overlaps(all_overlaps, \"Unoccupied Check vs Unoccupied Arbitrary Visit\")"
   ]
  },
  {
   "cell_type": "code",
   "execution_count": null,
   "metadata": {},
   "outputs": [],
   "source": []
  }
 ],
 "metadata": {
  "kernelspec": {
   "display_name": "Python 3",
   "language": "python",
   "name": "python3"
  },
  "language_info": {
   "codemirror_mode": {
    "name": "ipython",
    "version": 3
   },
   "file_extension": ".py",
   "mimetype": "text/x-python",
   "name": "python",
   "nbconvert_exporter": "python",
   "pygments_lexer": "ipython3",
   "version": "3.7.6"
  }
 },
 "nbformat": 4,
 "nbformat_minor": 4
}
