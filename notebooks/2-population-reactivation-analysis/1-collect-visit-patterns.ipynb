{
 "cells": [
  {
   "cell_type": "code",
   "execution_count": 1,
   "metadata": {},
   "outputs": [],
   "source": [
    "import pickle\n",
    "import numpy as np\n",
    "import pandas as pd\n",
    "import matplotlib.pyplot as plt\n",
    "import matplotlib.cm as cm\n",
    "import seaborn as sns\n",
    "import h5py\n",
    "from math import pi\n",
    "from scipy.stats import zscore\n",
    "\n",
    "from analysis.config import birds, h5_path_dict, pickle_dir\n",
    "from analysis.ExpData import ExpData\n",
    "from analysis.utils import get_fr"
   ]
  },
  {
   "cell_type": "markdown",
   "metadata": {},
   "source": [
    "# Collect population patterns and save into pickle file\n",
    "Visit patterns are (visits, neurs, frames) size"
   ]
  },
  {
   "cell_type": "markdown",
   "metadata": {},
   "source": [
    "### Parameters"
   ]
  },
  {
   "cell_type": "code",
   "execution_count": 2,
   "metadata": {},
   "outputs": [],
   "source": [
    "window = int(20*2)\n",
    "fr_smoothing_window = int(20*0.25)\n",
    "l2_normalization = True\n",
    "pfile_name = \"population_patterns.p\""
   ]
  },
  {
   "cell_type": "markdown",
   "metadata": {},
   "source": [
    "### Data formatting"
   ]
  },
  {
   "cell_type": "code",
   "execution_count": 4,
   "metadata": {
    "code_folding": []
   },
   "outputs": [
    {
     "name": "stdout",
     "output_type": "stream",
     "text": [
      "/home/chingf/engram/Emily/NeuralData/Gcamp/ForChing/ExtractedWithXY_Cleaned184331_09102019.mat\n",
      "/home/chingf/engram/Emily/NeuralData/Gcamp/ForChing/ExtractedWithXY_Cleaned185033_09102019.mat\n",
      "/home/chingf/engram/Emily/NeuralData/Gcamp/ForChing/ExtractedWithXY_Cleaned184713_09102019.mat\n",
      "/home/chingf/engram/Emily/NeuralData/Gcamp/ForChing/ExtractedWithXY_Cleaned184430_09102019.mat\n",
      "/home/chingf/engram/Emily/NeuralData/Gcamp/ForChing/ExtractedWithXY_Cleaned144233_09112019.mat\n",
      "/home/chingf/engram/Emily/NeuralData/Gcamp/ForChing/ExtractedWithXY_Cleaned184526_09102019.mat\n",
      "/home/chingf/engram/Emily/NeuralData/Gcamp/ForChing/ExtractedWithXY_Cleaned184946_09102019.mat\n",
      "/home/chingf/engram/Emily/NeuralData/Gcamp/LMN73/20200930/2020-09-30-11-00-47_video_SplitIntoBatches_29_250_10_200/Results/ExtractedWithDLCAndAnnotations164614_10222020.mat\n"
     ]
    },
    {
     "name": "stderr",
     "output_type": "stream",
     "text": [
      "/home/chingf/anaconda3/envs/analysis-env/lib/python3.7/site-packages/ipykernel_launcher.py:15: RuntimeWarning: invalid value encountered in true_divide\n",
      "  from ipykernel import kernelapp as app\n"
     ]
    },
    {
     "name": "stdout",
     "output_type": "stream",
     "text": [
      "/home/chingf/engram/Emily/NeuralData/Gcamp/LMN73/20201009/2020-10-09-11-40-59_video_SplitIntoBatches_29_250_10_200/Results/ExtractedWithDLCAndAnnotations140712_10202020.mat\n",
      "/home/chingf/engram/Emily/NeuralData/Gcamp/LMN73/20201012/2020-10-12-11-43-36_video_SplitIntoBatches_29_250_10_200/Results/ExtractedWithDLCAndAnnotations161757_10232020.mat\n",
      "/home/chingf/engram/Emily/NeuralData/Gcamp/LMN73/20200918/2020-09-18-11-50-00_video_SplitIntoBatches_29_250_10_200/Results/ExtractedWithDLCAndAnnotations153159_10222020.mat\n",
      "/home/chingf/engram/Emily/NeuralData/Gcamp/LMN73/20200908/2020-09-08-12-02-54_video_SplitIntoBatches_29_250_10_200/Results/ExtractedWithDLCAndAnnotations154721_10142020.mat\n",
      "/home/chingf/engram/Emily/NeuralData/Gcamp/LMN73/20200910/2020-09-10-12-00-48_video_SplitIntoBatches_29_250_10_200/Results/ExtractedWithDLCAndAnnotations161306_10142020.mat\n",
      "/home/chingf/engram/Emily/NeuralData/Gcamp/LMN73/20201007/2020-10-07-11-48-53_video_SplitIntoBatches_29_250_10_200/Results/ExtractedWithDLCAndAnnotations113100_10162020.mat\n",
      "/home/chingf/engram/Emily/NeuralData/Gcamp/LMN73/20201005/2020-10-05-11-52-31_video_SplitIntoBatches_29_250_10_200/Results/ExtractedWithDLCAndAnnotations181955_10222020.mat\n",
      "/home/chingf/engram/Emily/NeuralData/Gcamp/LMN73/20201002/2020-10-02-11-08-30_video_SplitIntoBatches_29_250_10_200/Results/ExtractedWithDLCAndAnnotations171921_10232020.mat\n",
      "/home/chingf/engram/Emily/NeuralData/Gcamp/LMN73/20201014/2020-10-14-11-25-20_video_SplitIntoBatches_29_250_10_200/Results/ExtractedWithDLCAndAnnotations164321_10232020.mat\n",
      "/home/chingf/engram/Emily/NeuralData/Gcamp/LMN73/20200922/2020-09-22-10-58-51_video_SplitIntoBatches_29_250_10_200/Results/ExtractedWithDLCAndAnnotations160204_10222020.mat\n"
     ]
    }
   ],
   "source": [
    "data = {}\n",
    "for key in h5_path_dict.keys():\n",
    "    for fil in range(len(h5_path_dict[key])):\n",
    "        fil_string = h5_path_dict[key][fil].as_posix()\n",
    "        print(fil_string)\n",
    "        f = h5py.File(fil_string, 'r')\n",
    "        exp_data = ExpData(f)\n",
    "        data[fil_string] = {}\n",
    "        c_visits, r_visits, noncr_visits = exp_data.get_cr_visits()\n",
    "        hopcentered_visits = exp_data.get_hopcentered_visits(window)\n",
    "        fr = get_fr(exp_data.spikes, fr_smoothing_window)\n",
    "        if l2_normalization:\n",
    "            scaling = np.square(np.linalg.norm(fr, axis=1))\n",
    "            #scaling = np.linalg.norm(fr, axis=1)\n",
    "            fr /= scaling[:, None]\n",
    "        visit_patterns = np.zeros(\n",
    "            (hopcentered_visits.shape[0], exp_data.num_neurs, window*2 + 1)\n",
    "            )\n",
    "        for i, visit in enumerate(hopcentered_visits):\n",
    "            visit_pattern = fr[:, visit]\n",
    "            visit_pattern[:, visit == -1] = np.nan\n",
    "            visit_patterns[i] = visit_pattern            \n",
    "        data[fil_string]['c_visits'] = c_visits\n",
    "        data[fil_string]['r_visits'] = r_visits\n",
    "        data[fil_string]['noncr_visits'] = noncr_visits\n",
    "        data[fil_string]['fr'] = fr\n",
    "        data[fil_string]['visit_patterns'] = visit_patterns\n",
    "        data[fil_string]['visit_times'] = hopcentered_visits\n",
    "with open(pickle_dir / pfile_name, 'wb') as f: \n",
    "    pickle.dump(data, f)"
   ]
  },
  {
   "cell_type": "code",
   "execution_count": null,
   "metadata": {},
   "outputs": [],
   "source": []
  }
 ],
 "metadata": {
  "kernelspec": {
   "display_name": "Python 3",
   "language": "python",
   "name": "python3"
  },
  "language_info": {
   "codemirror_mode": {
    "name": "ipython",
    "version": 3
   },
   "file_extension": ".py",
   "mimetype": "text/x-python",
   "name": "python",
   "nbconvert_exporter": "python",
   "pygments_lexer": "ipython3",
   "version": "3.7.6"
  }
 },
 "nbformat": 4,
 "nbformat_minor": 4
}
